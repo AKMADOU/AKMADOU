{
 "cells": [
  {
   "attachments": {
    "aims.png": {
     "image/png": "[encoded data removed]"
    }
   },
   "cell_type": "markdown",
   "metadata": {},
   "source": [
    "# <center>African Institute for Mathematical Sciences\n",
    "![aims.png](attachment:aims.png)\n",
    "## <center><u>Membres du groupe:\n",
    "\n",
    "### <center>SAGBO Dénise\n",
    "### <center>Papa Malick GUEYE\n",
    "### <center>Diouma Sira KA\n",
    "### <center>OHOUOT Adiko Junior\n",
    "### <center>Abdoulaye FAYE\n",
    "### <center>ADOU Kouamé Mathurin"
   ]
  },
  {
   "cell_type": "markdown",
   "metadata": {},
   "source": [
    "###  <center><u>Project 5. Détection de plaque d'immatriculation."
   ]
  },
  {
   "cell_type": "markdown",
   "metadata": {},
   "source": [
    "L'idée du présent programme de Python est de détecter la présence d'un numéro de plaque d'immatriculation à l'intérieur d'une chaîne de caractère.\n",
    "\n",
    "En République du Sénégal, les numéros de plaques d'immatriculation de véhicules ont le format suivant **`XY − abcd − T`** ou **`XY − abcd − ZT`** où **`X, Y, Z, T`** sont des lettres de l'alphabet et **`a, b, c, d`** des chiffres de **`0`** à **`9`**.\n",
    "\n",
    "Le programme aura pour input une chaîne de caractère et pour output une valeur booléenne. Si la valeur retournée est **`True`** , alors le programme imprimera à l'écran le ou les numéros de plaques d'immatriculation détectés."
   ]
  },
  {
   "cell_type": "code",
   "execution_count": 8,
   "metadata": {},
   "outputs": [],
   "source": [
    "def plaque(p):\n",
    "    ma_liste=list()\n",
    "    for i in range(len(p)):\n",
    "        if p[i].isupper() and p[i+1].isupper():\n",
    "            j=i+2\n",
    "            if p[j]==\"-\":\n",
    "                k=j+1\n",
    "                if (p[k].isdigit() and p[k+1].isdigit() and p[k+2].isdigit() and p[k+3].isdigit()):\n",
    "                    l=k+4\n",
    "                    if p[l]==\"-\":\n",
    "                        m=l+1\n",
    "                        if p[m].isupper():\n",
    "                            print(\" \",p[i],p[i+1],p[j],p[k],p[k+1],p[k+2],p[k+3],p[l],p[m])\n",
    "                            ma_liste=[p[i],p[i+1],p[j],p[k],p[k+1],p[k+2],p[k+3],p[l],p[m]]\n",
    "                            ma_liste=\"\".join(ma_liste) \n",
    "                        if (p[m].isupper() and p[m+1].isupper()):\n",
    "                            print(\" \",p[i],p[i+1],p[j],p[k],p[k+1],p[k+2],p[k+3],p[l],p[m],p[m+1])\n",
    "                            ma_liste=[p[i],p[i+1],p[j],p[k],p[k+1],p[k+2],p[k+3],p[l],p[m],p[m+1]]\n",
    "                            ma_liste=\"\".join(ma_liste)            \n",
    "    return ma_liste\n",
    "                            "
   ]
  },
  {
   "cell_type": "code",
   "execution_count": 9,
   "metadata": {},
   "outputs": [],
   "source": [
    "def immatriculation(chaine):\n",
    "    if not (plaque(chaine)):\n",
    "        return False\n",
    "    else:\n",
    "        return True\n",
    "        plaque(chaine)    "
   ]
  },
  {
   "cell_type": "code",
   "execution_count": 10,
   "metadata": {},
   "outputs": [
    {
     "name": "stdout",
     "output_type": "stream",
     "text": [
      "Veuillez entrer une chaine de caractère : chDK-5545-SNcs,.DK-0000-SNcjchDK-0745-SNh8904jfh;chDK-5545-Sncj\n",
      "\n",
      "  D K - 5 5 4 5 - S\n",
      "  D K - 5 5 4 5 - S N\n",
      "  D K - 0 0 0 0 - S\n",
      "  D K - 0 0 0 0 - S N\n",
      "  D K - 0 7 4 5 - S\n",
      "  D K - 0 7 4 5 - S N\n",
      "  D K - 5 5 4 5 - S\n"
     ]
    },
    {
     "data": {
      "text/plain": [
       "True"
      ]
     },
     "execution_count": 10,
     "metadata": {},
     "output_type": "execute_result"
    }
   ],
   "source": [
    "chaine=input(\"Veuillez entrer une chaine de caractère : \")\n",
    "print(\"\")\n",
    "immatriculation(chaine)"
   ]
  },
  {
   "cell_type": "code",
   "execution_count": null,
   "metadata": {},
   "outputs": [],
   "source": []
  }
 ],
 "metadata": {
  "kernelspec": {
   "display_name": "Python 3",
   "language": "python",
   "name": "python3"
  },
  "language_info": {
   "codemirror_mode": {
    "name": "ipython",
    "version": 3
   },
   "file_extension": ".py",
   "mimetype": "text/x-python",
   "name": "python",
   "nbconvert_exporter": "python",
   "pygments_lexer": "ipython3",
   "version": "3.7.3"
  }
 },
 "nbformat": 4,
 "nbformat_minor": 4
}
