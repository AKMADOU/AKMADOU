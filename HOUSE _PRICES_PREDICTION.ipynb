{
 "cells": [
  {
   "attachments": {
    "AIMSSenegalLogo.jpeg": {
     "image/jpeg": "[encoded data removed]"
    }
   },
   "cell_type": "markdown",
   "metadata": {},
   "source": [
    "![AIMSSenegalLogo.jpeg](attachment:AIMSSenegalLogo.jpeg)"
   ]
  },
  {
   "cell_type": "markdown",
   "metadata": {},
   "source": [
    "<h1><center> DEEP LEARNING </center><h1>"
   ]
  },
  {
   "cell_type": "markdown",
   "metadata": {},
   "source": [
    "# CODE: GRP1199JK"
   ]
  },
  {
   "cell_type": "markdown",
   "metadata": {},
   "source": [
    "<h1 > PROJECT 1: HOUSE PRICES PREDICTION </h1>"
   ]
  },
  {
   "cell_type": "markdown",
   "metadata": {},
   "source": [
    "### INTRODUCTION"
   ]
  },
  {
   "cell_type": "markdown",
   "metadata": {},
   "source": [
    " >*L'objectif de ce travail est la prédiction des prix de maisons. Pour ce faire nous allons appliquer les méthodes d'apprentissage profond (deep learning) afin de construire un modèle capable d'atteindre cet objectif."
   ]
  },
  {
   "cell_type": "markdown",
   "metadata": {
    "id": "YgH1pMjnxi7g"
   },
   "source": [
    "### Importation des bibliothèques"
   ]
  },
  {
   "cell_type": "code",
   "execution_count": 2,
   "metadata": {
    "ExecuteTime": {
     "end_time": "2021-04-02T00:43:01.090197Z",
     "start_time": "2021-04-02T00:42:30.801350Z"
    },
    "executionInfo": {
     "elapsed": 2964,
     "status": "ok",
     "timestamp": 1617118532819,
     "user": {
      "displayName": "mame cheikh ngom",
      "photoUrl": "https://lh3.googleusercontent.com/a-/AOh14GgKFLv-u8xz77EeKXvbxCmgtPFdAHaJUZ7cIL0vmQ=s64",
      "userId": "05924235231913370852"
     },
     "user_tz": 0
    },
    "id": "KYhCuWXsxi7n"
   },
   "outputs": [],
   "source": [
    "import pandas as pd\n",
    "import numpy as np\n",
    "import matplotlib.pyplot as plt\n",
    "import seaborn as sns\n",
    "import tensorflow as tf\n",
    "from tensorflow import keras\n",
    "\n",
    "from sklearn import preprocessing\n",
    "from sklearn.model_selection import train_test_split"
   ]
  },
  {
   "cell_type": "markdown",
   "metadata": {},
   "source": [
    "### Chargement des données"
   ]
  },
  {
   "cell_type": "code",
   "execution_count": 3,
   "metadata": {
    "ExecuteTime": {
     "end_time": "2021-04-02T00:43:04.907159Z",
     "start_time": "2021-04-02T00:43:04.674533Z"
    },
    "colab": {
     "base_uri": "https://localhost:8080/"
    },
    "executionInfo": {
     "elapsed": 2838,
     "status": "ok",
     "timestamp": 1617118541595,
     "user": {
      "displayName": "mame cheikh ngom",
      "photoUrl": "https://lh3.googleusercontent.com/a-/AOh14GgKFLv-u8xz77EeKXvbxCmgtPFdAHaJUZ7cIL0vmQ=s64",
      "userId": "05924235231913370852"
     },
     "user_tz": 0
    },
    "id": "101mJCvHxi7p",
    "outputId": "a780e092-1ef1-44aa-f87a-e804201276c4"
   },
   "outputs": [],
   "source": [
    "boston_housing = keras.datasets.boston_housing\n",
    "(train_data,train_labels),(test_data, test_labels) = boston_housing.load_data()"
   ]
  },
  {
   "cell_type": "markdown",
   "metadata": {},
   "source": [
    "### Description des variables"
   ]
  },
  {
   "cell_type": "markdown",
   "metadata": {},
   "source": [
    " Il y a 14 variables dans  l'ensemble de données. Il s'agit de:\n",
    " \n",
    "1)CRIM - taux de criminalité par habitant par ville\n",
    "\n",
    "2)ZN - proportion de terrains résidentiels zonés pour des lots de plus de 25 000 pieds carrés.\n",
    "\n",
    "3)INDUS - proportion de terrains commerciaux non commerciaux par ville.\n",
    "\n",
    "4)CHAS - variable muette Charles River (1 si la parcelle est bordée par la rivière, 0 sinon).\n",
    "\n",
    "5)NOX - concentration d'oxydes nitriques (parties par 10 millions).\n",
    "\n",
    "6)RM - nombre moyen de pièces par logement\n",
    "\n",
    "7)AGE - proportion de logements occupés par leur propriétaire construits avant 1940\n",
    "\n",
    "8)DIS - distances pondérées à cinq centres d'emploi de Boston\n",
    "\n",
    "9)RAD - indice d'accessibilité aux autoroutes radiales\n",
    "\n",
    "10)TAX - taux de l'impôt foncier sur la pleine valeur par 10 000 en dollars.\n",
    "\n",
    "11)PTRATIO - ratio élèves/professeurs par ville\n",
    "\n",
    "12)B -  est la proportion de Noirs par ville\n",
    "\n",
    "13)LSTAT - est le porcentage de statut inférieur de la population\n",
    "\n",
    "14)MEDV - Valeur médiane des maisons occupées par leur propriétaire, en milliers de dollars.\n"
   ]
  },
  {
   "cell_type": "markdown",
   "metadata": {},
   "source": [
    "### Visualisation de l'ensemble des données"
   ]
  },
  {
   "cell_type": "code",
   "execution_count": 4,
   "metadata": {
    "ExecuteTime": {
     "end_time": "2021-04-02T00:43:08.592773Z",
     "start_time": "2021-04-02T00:43:08.575024Z"
    }
   },
   "outputs": [],
   "source": [
    "colonne = ['CRIM','ZN','INDUS','CHAS','NOX','RM','AGE','DIS','RAD','TAX','PTRATIO','B','LSTAT']\n",
    "train = np.concatenate([train_data,test_data])\n",
    "dic = {colonne[i]:train[:,i] for i in range(len(colonne))}\n",
    "df = pd.DataFrame(dic)"
   ]
  },
  {
   "cell_type": "code",
   "execution_count": 5,
   "metadata": {
    "ExecuteTime": {
     "end_time": "2021-04-02T00:43:10.125270Z",
     "start_time": "2021-04-02T00:43:10.053956Z"
    }
   },
   "outputs": [],
   "source": [
    "df['MEDV'] = np.concatenate([train_labels,test_labels])"
   ]
  },
  {
   "cell_type": "code",
   "execution_count": 6,
   "metadata": {
    "ExecuteTime": {
     "end_time": "2021-04-02T00:43:11.305074Z",
     "start_time": "2021-04-02T00:43:11.153615Z"
    }
   },
   "outputs": [
    {
     "data": {
      "text/html": [
       "<div>\n",
       "<style scoped>\n",
       "    .dataframe tbody tr th:only-of-type {\n",
       "        vertical-align: middle;\n",
       "    }\n",
       "\n",
       "    .dataframe tbody tr th {\n",
       "        vertical-align: top;\n",
       "    }\n",
       "\n",
       "    .dataframe thead th {\n",
       "        text-align: right;\n",
       "    }\n",
       "</style>\n",
       "<table border=\"1\" class=\"dataframe\">\n",
       "  <thead>\n",
       "    <tr style=\"text-align: right;\">\n",
       "      <th></th>\n",
       "      <th>CRIM</th>\n",
       "      <th>ZN</th>\n",
       "      <th>INDUS</th>\n",
       "      <th>CHAS</th>\n",
       "      <th>NOX</th>\n",
       "      <th>RM</th>\n",
       "      <th>AGE</th>\n",
       "      <th>DIS</th>\n",
       "      <th>RAD</th>\n",
       "      <th>TAX</th>\n",
       "      <th>PTRATIO</th>\n",
       "      <th>B</th>\n",
       "      <th>LSTAT</th>\n",
       "      <th>MEDV</th>\n",
       "    </tr>\n",
       "  </thead>\n",
       "  <tbody>\n",
       "    <tr>\n",
       "      <th>0</th>\n",
       "      <td>1.23247</td>\n",
       "      <td>0.0</td>\n",
       "      <td>8.14</td>\n",
       "      <td>0.0</td>\n",
       "      <td>0.538</td>\n",
       "      <td>6.142</td>\n",
       "      <td>91.7</td>\n",
       "      <td>3.9769</td>\n",
       "      <td>4.0</td>\n",
       "      <td>307.0</td>\n",
       "      <td>21.0</td>\n",
       "      <td>396.90</td>\n",
       "      <td>18.72</td>\n",
       "      <td>15.2</td>\n",
       "    </tr>\n",
       "    <tr>\n",
       "      <th>1</th>\n",
       "      <td>0.02177</td>\n",
       "      <td>82.5</td>\n",
       "      <td>2.03</td>\n",
       "      <td>0.0</td>\n",
       "      <td>0.415</td>\n",
       "      <td>7.610</td>\n",
       "      <td>15.7</td>\n",
       "      <td>6.2700</td>\n",
       "      <td>2.0</td>\n",
       "      <td>348.0</td>\n",
       "      <td>14.7</td>\n",
       "      <td>395.38</td>\n",
       "      <td>3.11</td>\n",
       "      <td>42.3</td>\n",
       "    </tr>\n",
       "    <tr>\n",
       "      <th>2</th>\n",
       "      <td>4.89822</td>\n",
       "      <td>0.0</td>\n",
       "      <td>18.10</td>\n",
       "      <td>0.0</td>\n",
       "      <td>0.631</td>\n",
       "      <td>4.970</td>\n",
       "      <td>100.0</td>\n",
       "      <td>1.3325</td>\n",
       "      <td>24.0</td>\n",
       "      <td>666.0</td>\n",
       "      <td>20.2</td>\n",
       "      <td>375.52</td>\n",
       "      <td>3.26</td>\n",
       "      <td>50.0</td>\n",
       "    </tr>\n",
       "    <tr>\n",
       "      <th>3</th>\n",
       "      <td>0.03961</td>\n",
       "      <td>0.0</td>\n",
       "      <td>5.19</td>\n",
       "      <td>0.0</td>\n",
       "      <td>0.515</td>\n",
       "      <td>6.037</td>\n",
       "      <td>34.5</td>\n",
       "      <td>5.9853</td>\n",
       "      <td>5.0</td>\n",
       "      <td>224.0</td>\n",
       "      <td>20.2</td>\n",
       "      <td>396.90</td>\n",
       "      <td>8.01</td>\n",
       "      <td>21.1</td>\n",
       "    </tr>\n",
       "    <tr>\n",
       "      <th>4</th>\n",
       "      <td>3.69311</td>\n",
       "      <td>0.0</td>\n",
       "      <td>18.10</td>\n",
       "      <td>0.0</td>\n",
       "      <td>0.713</td>\n",
       "      <td>6.376</td>\n",
       "      <td>88.4</td>\n",
       "      <td>2.5671</td>\n",
       "      <td>24.0</td>\n",
       "      <td>666.0</td>\n",
       "      <td>20.2</td>\n",
       "      <td>391.43</td>\n",
       "      <td>14.65</td>\n",
       "      <td>17.7</td>\n",
       "    </tr>\n",
       "  </tbody>\n",
       "</table>\n",
       "</div>"
      ],
      "text/plain": [
       "      CRIM    ZN  INDUS  CHAS    NOX     RM    AGE     DIS   RAD    TAX  \\\n",
       "0  1.23247   0.0   8.14   0.0  0.538  6.142   91.7  3.9769   4.0  307.0   \n",
       "1  0.02177  82.5   2.03   0.0  0.415  7.610   15.7  6.2700   2.0  348.0   \n",
       "2  4.89822   0.0  18.10   0.0  0.631  4.970  100.0  1.3325  24.0  666.0   \n",
       "3  0.03961   0.0   5.19   0.0  0.515  6.037   34.5  5.9853   5.0  224.0   \n",
       "4  3.69311   0.0  18.10   0.0  0.713  6.376   88.4  2.5671  24.0  666.0   \n",
       "\n",
       "   PTRATIO       B  LSTAT  MEDV  \n",
       "0     21.0  396.90  18.72  15.2  \n",
       "1     14.7  395.38   3.11  42.3  \n",
       "2     20.2  375.52   3.26  50.0  \n",
       "3     20.2  396.90   8.01  21.1  \n",
       "4     20.2  391.43  14.65  17.7  "
      ]
     },
     "execution_count": 6,
     "metadata": {},
     "output_type": "execute_result"
    }
   ],
   "source": [
    "df.head()"
   ]
  },
  {
   "cell_type": "code",
   "execution_count": 7,
   "metadata": {
    "ExecuteTime": {
     "end_time": "2021-04-02T00:43:14.559713Z",
     "start_time": "2021-04-02T00:43:14.542937Z"
    }
   },
   "outputs": [
    {
     "data": {
      "text/plain": [
       "(506, 14)"
      ]
     },
     "execution_count": 7,
     "metadata": {},
     "output_type": "execute_result"
    }
   ],
   "source": [
    "df.shape"
   ]
  },
  {
   "cell_type": "markdown",
   "metadata": {},
   "source": [
    "### Vérifions s'il y'a des valeurs manquantes"
   ]
  },
  {
   "cell_type": "code",
   "execution_count": 8,
   "metadata": {
    "ExecuteTime": {
     "end_time": "2021-04-02T00:43:18.385679Z",
     "start_time": "2021-04-02T00:43:18.367998Z"
    }
   },
   "outputs": [
    {
     "data": {
      "text/plain": [
       "0"
      ]
     },
     "execution_count": 8,
     "metadata": {},
     "output_type": "execute_result"
    }
   ],
   "source": [
    "df.isnull().sum().sum()"
   ]
  },
  {
   "cell_type": "markdown",
   "metadata": {},
   "source": [
    "### Observons la variable cible ('MEDV')"
   ]
  },
  {
   "cell_type": "code",
   "execution_count": 100,
   "metadata": {},
   "outputs": [
    {
     "data": {
      "text/plain": [
       "0      15.2\n",
       "1      42.3\n",
       "2      50.0\n",
       "3      21.1\n",
       "4      17.7\n",
       "       ... \n",
       "501    21.9\n",
       "502    24.1\n",
       "503    50.0\n",
       "504    26.7\n",
       "505    25.0\n",
       "Name: MEDV, Length: 506, dtype: float64"
      ]
     },
     "execution_count": 100,
     "metadata": {},
     "output_type": "execute_result"
    }
   ],
   "source": [
    "df['MEDV']"
   ]
  },
  {
   "cell_type": "markdown",
   "metadata": {},
   "source": [
    ">* Nous constatons que la variable cible prend un ensemble de valeurs continues. Il s'agit d'un problème de regression"
   ]
  },
  {
   "cell_type": "code",
   "execution_count": 8,
   "metadata": {},
   "outputs": [
    {
     "data": {
      "text/html": [
       "<div>\n",
       "<style scoped>\n",
       "    .dataframe tbody tr th:only-of-type {\n",
       "        vertical-align: middle;\n",
       "    }\n",
       "\n",
       "    .dataframe tbody tr th {\n",
       "        vertical-align: top;\n",
       "    }\n",
       "\n",
       "    .dataframe thead th {\n",
       "        text-align: right;\n",
       "    }\n",
       "</style>\n",
       "<table border=\"1\" class=\"dataframe\">\n",
       "  <thead>\n",
       "    <tr style=\"text-align: right;\">\n",
       "      <th></th>\n",
       "      <th>count</th>\n",
       "      <th>mean</th>\n",
       "      <th>std</th>\n",
       "      <th>min</th>\n",
       "      <th>25%</th>\n",
       "      <th>50%</th>\n",
       "      <th>75%</th>\n",
       "      <th>max</th>\n",
       "    </tr>\n",
       "  </thead>\n",
       "  <tbody>\n",
       "    <tr>\n",
       "      <th>CRIM</th>\n",
       "      <td>506.0</td>\n",
       "      <td>3.613524</td>\n",
       "      <td>8.601545</td>\n",
       "      <td>0.00632</td>\n",
       "      <td>0.082045</td>\n",
       "      <td>0.25651</td>\n",
       "      <td>3.677083</td>\n",
       "      <td>88.9762</td>\n",
       "    </tr>\n",
       "    <tr>\n",
       "      <th>ZN</th>\n",
       "      <td>506.0</td>\n",
       "      <td>11.363636</td>\n",
       "      <td>23.322453</td>\n",
       "      <td>0.00000</td>\n",
       "      <td>0.000000</td>\n",
       "      <td>0.00000</td>\n",
       "      <td>12.500000</td>\n",
       "      <td>100.0000</td>\n",
       "    </tr>\n",
       "    <tr>\n",
       "      <th>INDUS</th>\n",
       "      <td>506.0</td>\n",
       "      <td>11.136779</td>\n",
       "      <td>6.860353</td>\n",
       "      <td>0.46000</td>\n",
       "      <td>5.190000</td>\n",
       "      <td>9.69000</td>\n",
       "      <td>18.100000</td>\n",
       "      <td>27.7400</td>\n",
       "    </tr>\n",
       "    <tr>\n",
       "      <th>CHAS</th>\n",
       "      <td>506.0</td>\n",
       "      <td>0.069170</td>\n",
       "      <td>0.253994</td>\n",
       "      <td>0.00000</td>\n",
       "      <td>0.000000</td>\n",
       "      <td>0.00000</td>\n",
       "      <td>0.000000</td>\n",
       "      <td>1.0000</td>\n",
       "    </tr>\n",
       "    <tr>\n",
       "      <th>NOX</th>\n",
       "      <td>506.0</td>\n",
       "      <td>0.554695</td>\n",
       "      <td>0.115878</td>\n",
       "      <td>0.38500</td>\n",
       "      <td>0.449000</td>\n",
       "      <td>0.53800</td>\n",
       "      <td>0.624000</td>\n",
       "      <td>0.8710</td>\n",
       "    </tr>\n",
       "    <tr>\n",
       "      <th>RM</th>\n",
       "      <td>506.0</td>\n",
       "      <td>6.284634</td>\n",
       "      <td>0.702617</td>\n",
       "      <td>3.56100</td>\n",
       "      <td>5.885500</td>\n",
       "      <td>6.20850</td>\n",
       "      <td>6.623500</td>\n",
       "      <td>8.7800</td>\n",
       "    </tr>\n",
       "    <tr>\n",
       "      <th>AGE</th>\n",
       "      <td>506.0</td>\n",
       "      <td>68.574901</td>\n",
       "      <td>28.148861</td>\n",
       "      <td>2.90000</td>\n",
       "      <td>45.025000</td>\n",
       "      <td>77.50000</td>\n",
       "      <td>94.075000</td>\n",
       "      <td>100.0000</td>\n",
       "    </tr>\n",
       "    <tr>\n",
       "      <th>DIS</th>\n",
       "      <td>506.0</td>\n",
       "      <td>3.795043</td>\n",
       "      <td>2.105710</td>\n",
       "      <td>1.12960</td>\n",
       "      <td>2.100175</td>\n",
       "      <td>3.20745</td>\n",
       "      <td>5.188425</td>\n",
       "      <td>12.1265</td>\n",
       "    </tr>\n",
       "    <tr>\n",
       "      <th>RAD</th>\n",
       "      <td>506.0</td>\n",
       "      <td>9.549407</td>\n",
       "      <td>8.707259</td>\n",
       "      <td>1.00000</td>\n",
       "      <td>4.000000</td>\n",
       "      <td>5.00000</td>\n",
       "      <td>24.000000</td>\n",
       "      <td>24.0000</td>\n",
       "    </tr>\n",
       "    <tr>\n",
       "      <th>TAX</th>\n",
       "      <td>506.0</td>\n",
       "      <td>408.237154</td>\n",
       "      <td>168.537116</td>\n",
       "      <td>187.00000</td>\n",
       "      <td>279.000000</td>\n",
       "      <td>330.00000</td>\n",
       "      <td>666.000000</td>\n",
       "      <td>711.0000</td>\n",
       "    </tr>\n",
       "    <tr>\n",
       "      <th>PTRATIO</th>\n",
       "      <td>506.0</td>\n",
       "      <td>18.455534</td>\n",
       "      <td>2.164946</td>\n",
       "      <td>12.60000</td>\n",
       "      <td>17.400000</td>\n",
       "      <td>19.05000</td>\n",
       "      <td>20.200000</td>\n",
       "      <td>22.0000</td>\n",
       "    </tr>\n",
       "    <tr>\n",
       "      <th>B</th>\n",
       "      <td>506.0</td>\n",
       "      <td>356.674032</td>\n",
       "      <td>91.294864</td>\n",
       "      <td>0.32000</td>\n",
       "      <td>375.377500</td>\n",
       "      <td>391.44000</td>\n",
       "      <td>396.225000</td>\n",
       "      <td>396.9000</td>\n",
       "    </tr>\n",
       "    <tr>\n",
       "      <th>LSTAT</th>\n",
       "      <td>506.0</td>\n",
       "      <td>12.653063</td>\n",
       "      <td>7.141062</td>\n",
       "      <td>1.73000</td>\n",
       "      <td>6.950000</td>\n",
       "      <td>11.36000</td>\n",
       "      <td>16.955000</td>\n",
       "      <td>37.9700</td>\n",
       "    </tr>\n",
       "    <tr>\n",
       "      <th>MEDV</th>\n",
       "      <td>506.0</td>\n",
       "      <td>22.532806</td>\n",
       "      <td>9.197104</td>\n",
       "      <td>5.00000</td>\n",
       "      <td>17.025000</td>\n",
       "      <td>21.20000</td>\n",
       "      <td>25.000000</td>\n",
       "      <td>50.0000</td>\n",
       "    </tr>\n",
       "  </tbody>\n",
       "</table>\n",
       "</div>"
      ],
      "text/plain": [
       "         count        mean         std        min         25%        50%  \\\n",
       "CRIM     506.0    3.613524    8.601545    0.00632    0.082045    0.25651   \n",
       "ZN       506.0   11.363636   23.322453    0.00000    0.000000    0.00000   \n",
       "INDUS    506.0   11.136779    6.860353    0.46000    5.190000    9.69000   \n",
       "CHAS     506.0    0.069170    0.253994    0.00000    0.000000    0.00000   \n",
       "NOX      506.0    0.554695    0.115878    0.38500    0.449000    0.53800   \n",
       "RM       506.0    6.284634    0.702617    3.56100    5.885500    6.20850   \n",
       "AGE      506.0   68.574901   28.148861    2.90000   45.025000   77.50000   \n",
       "DIS      506.0    3.795043    2.105710    1.12960    2.100175    3.20745   \n",
       "RAD      506.0    9.549407    8.707259    1.00000    4.000000    5.00000   \n",
       "TAX      506.0  408.237154  168.537116  187.00000  279.000000  330.00000   \n",
       "PTRATIO  506.0   18.455534    2.164946   12.60000   17.400000   19.05000   \n",
       "B        506.0  356.674032   91.294864    0.32000  375.377500  391.44000   \n",
       "LSTAT    506.0   12.653063    7.141062    1.73000    6.950000   11.36000   \n",
       "MEDV     506.0   22.532806    9.197104    5.00000   17.025000   21.20000   \n",
       "\n",
       "                75%       max  \n",
       "CRIM       3.677083   88.9762  \n",
       "ZN        12.500000  100.0000  \n",
       "INDUS     18.100000   27.7400  \n",
       "CHAS       0.000000    1.0000  \n",
       "NOX        0.624000    0.8710  \n",
       "RM         6.623500    8.7800  \n",
       "AGE       94.075000  100.0000  \n",
       "DIS        5.188425   12.1265  \n",
       "RAD       24.000000   24.0000  \n",
       "TAX      666.000000  711.0000  \n",
       "PTRATIO   20.200000   22.0000  \n",
       "B        396.225000  396.9000  \n",
       "LSTAT     16.955000   37.9700  \n",
       "MEDV      25.000000   50.0000  "
      ]
     },
     "execution_count": 8,
     "metadata": {},
     "output_type": "execute_result"
    }
   ],
   "source": [
    "df.describe().T"
   ]
  },
  {
   "cell_type": "markdown",
   "metadata": {},
   "source": [
    ">* Nous remarquons en faisant une description de notre dataset que certaines variables ont des valeurs élévées par rapport aux autres variables."
   ]
  },
  {
   "cell_type": "markdown",
   "metadata": {},
   "source": [
    "### Matrice de corrélation"
   ]
  },
  {
   "cell_type": "code",
   "execution_count": 255,
   "metadata": {},
   "outputs": [
    {
     "data": {
      "text/html": [
       "<style  type=\"text/css\" >\n",
       "#T_1202afd4_933c_11eb_b0f1_25b20085274arow0_col0,#T_1202afd4_933c_11eb_b0f1_25b20085274arow1_col1,#T_1202afd4_933c_11eb_b0f1_25b20085274arow2_col2,#T_1202afd4_933c_11eb_b0f1_25b20085274arow3_col3,#T_1202afd4_933c_11eb_b0f1_25b20085274arow4_col4,#T_1202afd4_933c_11eb_b0f1_25b20085274arow5_col5,#T_1202afd4_933c_11eb_b0f1_25b20085274arow6_col6,#T_1202afd4_933c_11eb_b0f1_25b20085274arow7_col7,#T_1202afd4_933c_11eb_b0f1_25b20085274arow8_col8,#T_1202afd4_933c_11eb_b0f1_25b20085274arow9_col9,#T_1202afd4_933c_11eb_b0f1_25b20085274arow10_col10,#T_1202afd4_933c_11eb_b0f1_25b20085274arow11_col11,#T_1202afd4_933c_11eb_b0f1_25b20085274arow12_col12,#T_1202afd4_933c_11eb_b0f1_25b20085274arow13_col13{\n",
       "            background-color:  #b40426;\n",
       "            color:  #f1f1f1;\n",
       "        }#T_1202afd4_933c_11eb_b0f1_25b20085274arow0_col1,#T_1202afd4_933c_11eb_b0f1_25b20085274arow1_col0{\n",
       "            background-color:  #a6c4fe;\n",
       "            color:  #000000;\n",
       "        }#T_1202afd4_933c_11eb_b0f1_25b20085274arow0_col2,#T_1202afd4_933c_11eb_b0f1_25b20085274arow2_col0{\n",
       "            background-color:  #f7b89c;\n",
       "            color:  #000000;\n",
       "        }#T_1202afd4_933c_11eb_b0f1_25b20085274arow0_col3,#T_1202afd4_933c_11eb_b0f1_25b20085274arow3_col0,#T_1202afd4_933c_11eb_b0f1_25b20085274arow3_col12,#T_1202afd4_933c_11eb_b0f1_25b20085274arow12_col3{\n",
       "            background-color:  #c1d4f4;\n",
       "            color:  #000000;\n",
       "        }#T_1202afd4_933c_11eb_b0f1_25b20085274arow0_col4,#T_1202afd4_933c_11eb_b0f1_25b20085274arow4_col0{\n",
       "            background-color:  #f7b599;\n",
       "            color:  #000000;\n",
       "        }#T_1202afd4_933c_11eb_b0f1_25b20085274arow0_col5,#T_1202afd4_933c_11eb_b0f1_25b20085274arow5_col0{\n",
       "            background-color:  #a2c1ff;\n",
       "            color:  #000000;\n",
       "        }#T_1202afd4_933c_11eb_b0f1_25b20085274arow0_col6,#T_1202afd4_933c_11eb_b0f1_25b20085274arow6_col0{\n",
       "            background-color:  #f5c1a9;\n",
       "            color:  #000000;\n",
       "        }#T_1202afd4_933c_11eb_b0f1_25b20085274arow0_col7,#T_1202afd4_933c_11eb_b0f1_25b20085274arow4_col11,#T_1202afd4_933c_11eb_b0f1_25b20085274arow6_col13,#T_1202afd4_933c_11eb_b0f1_25b20085274arow7_col0,#T_1202afd4_933c_11eb_b0f1_25b20085274arow8_col13,#T_1202afd4_933c_11eb_b0f1_25b20085274arow11_col4,#T_1202afd4_933c_11eb_b0f1_25b20085274arow13_col6,#T_1202afd4_933c_11eb_b0f1_25b20085274arow13_col8{\n",
       "            background-color:  #82a6fb;\n",
       "            color:  #000000;\n",
       "        }#T_1202afd4_933c_11eb_b0f1_25b20085274arow0_col8,#T_1202afd4_933c_11eb_b0f1_25b20085274arow8_col0{\n",
       "            background-color:  #f08a6c;\n",
       "            color:  #000000;\n",
       "        }#T_1202afd4_933c_11eb_b0f1_25b20085274arow0_col9,#T_1202afd4_933c_11eb_b0f1_25b20085274arow9_col0{\n",
       "            background-color:  #f39475;\n",
       "            color:  #000000;\n",
       "        }#T_1202afd4_933c_11eb_b0f1_25b20085274arow0_col10,#T_1202afd4_933c_11eb_b0f1_25b20085274arow7_col11,#T_1202afd4_933c_11eb_b0f1_25b20085274arow10_col0,#T_1202afd4_933c_11eb_b0f1_25b20085274arow11_col7{\n",
       "            background-color:  #f2cbb7;\n",
       "            color:  #000000;\n",
       "        }#T_1202afd4_933c_11eb_b0f1_25b20085274arow0_col11,#T_1202afd4_933c_11eb_b0f1_25b20085274arow0_col13,#T_1202afd4_933c_11eb_b0f1_25b20085274arow11_col0,#T_1202afd4_933c_11eb_b0f1_25b20085274arow13_col0{\n",
       "            background-color:  #81a4fb;\n",
       "            color:  #000000;\n",
       "        }#T_1202afd4_933c_11eb_b0f1_25b20085274arow0_col12,#T_1202afd4_933c_11eb_b0f1_25b20085274arow6_col8,#T_1202afd4_933c_11eb_b0f1_25b20085274arow8_col6,#T_1202afd4_933c_11eb_b0f1_25b20085274arow9_col10,#T_1202afd4_933c_11eb_b0f1_25b20085274arow10_col9,#T_1202afd4_933c_11eb_b0f1_25b20085274arow12_col0{\n",
       "            background-color:  #f7af91;\n",
       "            color:  #000000;\n",
       "        }#T_1202afd4_933c_11eb_b0f1_25b20085274arow1_col2,#T_1202afd4_933c_11eb_b0f1_25b20085274arow2_col1{\n",
       "            background-color:  #6485ec;\n",
       "            color:  #000000;\n",
       "        }#T_1202afd4_933c_11eb_b0f1_25b20085274arow1_col3,#T_1202afd4_933c_11eb_b0f1_25b20085274arow3_col1{\n",
       "            background-color:  #c4d5f3;\n",
       "            color:  #000000;\n",
       "        }#T_1202afd4_933c_11eb_b0f1_25b20085274arow1_col4,#T_1202afd4_933c_11eb_b0f1_25b20085274arow4_col1{\n",
       "            background-color:  #6788ee;\n",
       "            color:  #000000;\n",
       "        }#T_1202afd4_933c_11eb_b0f1_25b20085274arow1_col5,#T_1202afd4_933c_11eb_b0f1_25b20085274arow5_col1{\n",
       "            background-color:  #f3c8b2;\n",
       "            color:  #000000;\n",
       "        }#T_1202afd4_933c_11eb_b0f1_25b20085274arow1_col6,#T_1202afd4_933c_11eb_b0f1_25b20085274arow6_col1{\n",
       "            background-color:  #5d7ce6;\n",
       "            color:  #000000;\n",
       "        }#T_1202afd4_933c_11eb_b0f1_25b20085274arow1_col7,#T_1202afd4_933c_11eb_b0f1_25b20085274arow4_col9,#T_1202afd4_933c_11eb_b0f1_25b20085274arow7_col1,#T_1202afd4_933c_11eb_b0f1_25b20085274arow9_col4{\n",
       "            background-color:  #ec7f63;\n",
       "            color:  #000000;\n",
       "        }#T_1202afd4_933c_11eb_b0f1_25b20085274arow1_col8,#T_1202afd4_933c_11eb_b0f1_25b20085274arow8_col1{\n",
       "            background-color:  #90b2fe;\n",
       "            color:  #000000;\n",
       "        }#T_1202afd4_933c_11eb_b0f1_25b20085274arow1_col9,#T_1202afd4_933c_11eb_b0f1_25b20085274arow9_col1{\n",
       "            background-color:  #8fb1fe;\n",
       "            color:  #000000;\n",
       "        }#T_1202afd4_933c_11eb_b0f1_25b20085274arow1_col10,#T_1202afd4_933c_11eb_b0f1_25b20085274arow2_col5,#T_1202afd4_933c_11eb_b0f1_25b20085274arow5_col2,#T_1202afd4_933c_11eb_b0f1_25b20085274arow10_col1{\n",
       "            background-color:  #80a3fa;\n",
       "            color:  #000000;\n",
       "        }#T_1202afd4_933c_11eb_b0f1_25b20085274arow1_col11,#T_1202afd4_933c_11eb_b0f1_25b20085274arow3_col13,#T_1202afd4_933c_11eb_b0f1_25b20085274arow11_col1,#T_1202afd4_933c_11eb_b0f1_25b20085274arow13_col3{\n",
       "            background-color:  #e5d8d1;\n",
       "            color:  #000000;\n",
       "        }#T_1202afd4_933c_11eb_b0f1_25b20085274arow1_col12,#T_1202afd4_933c_11eb_b0f1_25b20085274arow12_col1{\n",
       "            background-color:  #7b9ff9;\n",
       "            color:  #000000;\n",
       "        }#T_1202afd4_933c_11eb_b0f1_25b20085274arow1_col13,#T_1202afd4_933c_11eb_b0f1_25b20085274arow13_col1{\n",
       "            background-color:  #f5c0a7;\n",
       "            color:  #000000;\n",
       "        }#T_1202afd4_933c_11eb_b0f1_25b20085274arow2_col3,#T_1202afd4_933c_11eb_b0f1_25b20085274arow3_col2{\n",
       "            background-color:  #d5dbe5;\n",
       "            color:  #000000;\n",
       "        }#T_1202afd4_933c_11eb_b0f1_25b20085274arow2_col4,#T_1202afd4_933c_11eb_b0f1_25b20085274arow4_col2{\n",
       "            background-color:  #e0654f;\n",
       "            color:  #000000;\n",
       "        }#T_1202afd4_933c_11eb_b0f1_25b20085274arow2_col6,#T_1202afd4_933c_11eb_b0f1_25b20085274arow6_col2{\n",
       "            background-color:  #ee8468;\n",
       "            color:  #000000;\n",
       "        }#T_1202afd4_933c_11eb_b0f1_25b20085274arow2_col7,#T_1202afd4_933c_11eb_b0f1_25b20085274arow7_col2{\n",
       "            background-color:  #445acc;\n",
       "            color:  #f1f1f1;\n",
       "        }#T_1202afd4_933c_11eb_b0f1_25b20085274arow2_col8,#T_1202afd4_933c_11eb_b0f1_25b20085274arow8_col2{\n",
       "            background-color:  #f29072;\n",
       "            color:  #000000;\n",
       "        }#T_1202afd4_933c_11eb_b0f1_25b20085274arow2_col9,#T_1202afd4_933c_11eb_b0f1_25b20085274arow9_col2{\n",
       "            background-color:  #e57058;\n",
       "            color:  #000000;\n",
       "        }#T_1202afd4_933c_11eb_b0f1_25b20085274arow2_col10,#T_1202afd4_933c_11eb_b0f1_25b20085274arow10_col2{\n",
       "            background-color:  #f6bda2;\n",
       "            color:  #000000;\n",
       "        }#T_1202afd4_933c_11eb_b0f1_25b20085274arow2_col11,#T_1202afd4_933c_11eb_b0f1_25b20085274arow5_col10,#T_1202afd4_933c_11eb_b0f1_25b20085274arow10_col5,#T_1202afd4_933c_11eb_b0f1_25b20085274arow11_col2{\n",
       "            background-color:  #86a9fc;\n",
       "            color:  #000000;\n",
       "        }#T_1202afd4_933c_11eb_b0f1_25b20085274arow2_col12,#T_1202afd4_933c_11eb_b0f1_25b20085274arow6_col12,#T_1202afd4_933c_11eb_b0f1_25b20085274arow12_col2,#T_1202afd4_933c_11eb_b0f1_25b20085274arow12_col6{\n",
       "            background-color:  #f18f71;\n",
       "            color:  #000000;\n",
       "        }#T_1202afd4_933c_11eb_b0f1_25b20085274arow2_col13,#T_1202afd4_933c_11eb_b0f1_25b20085274arow13_col2{\n",
       "            background-color:  #6e90f2;\n",
       "            color:  #000000;\n",
       "        }#T_1202afd4_933c_11eb_b0f1_25b20085274arow3_col4,#T_1202afd4_933c_11eb_b0f1_25b20085274arow3_col5,#T_1202afd4_933c_11eb_b0f1_25b20085274arow4_col3,#T_1202afd4_933c_11eb_b0f1_25b20085274arow5_col3{\n",
       "            background-color:  #d9dce1;\n",
       "            color:  #000000;\n",
       "        }#T_1202afd4_933c_11eb_b0f1_25b20085274arow3_col6,#T_1202afd4_933c_11eb_b0f1_25b20085274arow6_col3{\n",
       "            background-color:  #d8dce2;\n",
       "            color:  #000000;\n",
       "        }#T_1202afd4_933c_11eb_b0f1_25b20085274arow3_col7,#T_1202afd4_933c_11eb_b0f1_25b20085274arow7_col3{\n",
       "            background-color:  #b9d0f9;\n",
       "            color:  #000000;\n",
       "        }#T_1202afd4_933c_11eb_b0f1_25b20085274arow3_col8,#T_1202afd4_933c_11eb_b0f1_25b20085274arow8_col3{\n",
       "            background-color:  #cad8ef;\n",
       "            color:  #000000;\n",
       "        }#T_1202afd4_933c_11eb_b0f1_25b20085274arow3_col9,#T_1202afd4_933c_11eb_b0f1_25b20085274arow9_col3{\n",
       "            background-color:  #c5d6f2;\n",
       "            color:  #000000;\n",
       "        }#T_1202afd4_933c_11eb_b0f1_25b20085274arow3_col10,#T_1202afd4_933c_11eb_b0f1_25b20085274arow10_col3{\n",
       "            background-color:  #b5cdfa;\n",
       "            color:  #000000;\n",
       "        }#T_1202afd4_933c_11eb_b0f1_25b20085274arow3_col11,#T_1202afd4_933c_11eb_b0f1_25b20085274arow11_col3{\n",
       "            background-color:  #d3dbe7;\n",
       "            color:  #000000;\n",
       "        }#T_1202afd4_933c_11eb_b0f1_25b20085274arow4_col5,#T_1202afd4_933c_11eb_b0f1_25b20085274arow5_col4{\n",
       "            background-color:  #92b4fe;\n",
       "            color:  #000000;\n",
       "        }#T_1202afd4_933c_11eb_b0f1_25b20085274arow4_col6,#T_1202afd4_933c_11eb_b0f1_25b20085274arow6_col4{\n",
       "            background-color:  #e36c55;\n",
       "            color:  #000000;\n",
       "        }#T_1202afd4_933c_11eb_b0f1_25b20085274arow4_col7,#T_1202afd4_933c_11eb_b0f1_25b20085274arow7_col4{\n",
       "            background-color:  #3b4cc0;\n",
       "            color:  #f1f1f1;\n",
       "        }#T_1202afd4_933c_11eb_b0f1_25b20085274arow4_col8,#T_1202afd4_933c_11eb_b0f1_25b20085274arow8_col4{\n",
       "            background-color:  #f18d6f;\n",
       "            color:  #000000;\n",
       "        }#T_1202afd4_933c_11eb_b0f1_25b20085274arow4_col10,#T_1202afd4_933c_11eb_b0f1_25b20085274arow10_col4{\n",
       "            background-color:  #e7d7ce;\n",
       "            color:  #000000;\n",
       "        }#T_1202afd4_933c_11eb_b0f1_25b20085274arow4_col12,#T_1202afd4_933c_11eb_b0f1_25b20085274arow12_col4{\n",
       "            background-color:  #f29274;\n",
       "            color:  #000000;\n",
       "        }#T_1202afd4_933c_11eb_b0f1_25b20085274arow4_col13,#T_1202afd4_933c_11eb_b0f1_25b20085274arow13_col4{\n",
       "            background-color:  #799cf8;\n",
       "            color:  #000000;\n",
       "        }#T_1202afd4_933c_11eb_b0f1_25b20085274arow5_col6,#T_1202afd4_933c_11eb_b0f1_25b20085274arow6_col5{\n",
       "            background-color:  #9ebeff;\n",
       "            color:  #000000;\n",
       "        }#T_1202afd4_933c_11eb_b0f1_25b20085274arow5_col7,#T_1202afd4_933c_11eb_b0f1_25b20085274arow7_col5{\n",
       "            background-color:  #ead5c9;\n",
       "            color:  #000000;\n",
       "        }#T_1202afd4_933c_11eb_b0f1_25b20085274arow5_col8,#T_1202afd4_933c_11eb_b0f1_25b20085274arow8_col5{\n",
       "            background-color:  #a3c2fe;\n",
       "            color:  #000000;\n",
       "        }#T_1202afd4_933c_11eb_b0f1_25b20085274arow5_col9,#T_1202afd4_933c_11eb_b0f1_25b20085274arow9_col5{\n",
       "            background-color:  #94b6ff;\n",
       "            color:  #000000;\n",
       "        }#T_1202afd4_933c_11eb_b0f1_25b20085274arow5_col11,#T_1202afd4_933c_11eb_b0f1_25b20085274arow11_col5{\n",
       "            background-color:  #dedcdb;\n",
       "            color:  #000000;\n",
       "        }#T_1202afd4_933c_11eb_b0f1_25b20085274arow5_col12,#T_1202afd4_933c_11eb_b0f1_25b20085274arow12_col5{\n",
       "            background-color:  #5572df;\n",
       "            color:  #000000;\n",
       "        }#T_1202afd4_933c_11eb_b0f1_25b20085274arow5_col13,#T_1202afd4_933c_11eb_b0f1_25b20085274arow13_col5{\n",
       "            background-color:  #e9785d;\n",
       "            color:  #000000;\n",
       "        }#T_1202afd4_933c_11eb_b0f1_25b20085274arow6_col7,#T_1202afd4_933c_11eb_b0f1_25b20085274arow7_col6{\n",
       "            background-color:  #3e51c5;\n",
       "            color:  #f1f1f1;\n",
       "        }#T_1202afd4_933c_11eb_b0f1_25b20085274arow6_col9,#T_1202afd4_933c_11eb_b0f1_25b20085274arow9_col6{\n",
       "            background-color:  #f6a586;\n",
       "            color:  #000000;\n",
       "        }#T_1202afd4_933c_11eb_b0f1_25b20085274arow6_col10,#T_1202afd4_933c_11eb_b0f1_25b20085274arow10_col6{\n",
       "            background-color:  #efcebd;\n",
       "            color:  #000000;\n",
       "        }#T_1202afd4_933c_11eb_b0f1_25b20085274arow6_col11,#T_1202afd4_933c_11eb_b0f1_25b20085274arow11_col6{\n",
       "            background-color:  #97b8ff;\n",
       "            color:  #000000;\n",
       "        }#T_1202afd4_933c_11eb_b0f1_25b20085274arow7_col8,#T_1202afd4_933c_11eb_b0f1_25b20085274arow7_col12,#T_1202afd4_933c_11eb_b0f1_25b20085274arow8_col7,#T_1202afd4_933c_11eb_b0f1_25b20085274arow12_col7{\n",
       "            background-color:  #6b8df0;\n",
       "            color:  #000000;\n",
       "        }#T_1202afd4_933c_11eb_b0f1_25b20085274arow7_col9,#T_1202afd4_933c_11eb_b0f1_25b20085274arow9_col7{\n",
       "            background-color:  #6384eb;\n",
       "            color:  #000000;\n",
       "        }#T_1202afd4_933c_11eb_b0f1_25b20085274arow7_col10,#T_1202afd4_933c_11eb_b0f1_25b20085274arow10_col7{\n",
       "            background-color:  #9fbfff;\n",
       "            color:  #000000;\n",
       "        }#T_1202afd4_933c_11eb_b0f1_25b20085274arow7_col13,#T_1202afd4_933c_11eb_b0f1_25b20085274arow13_col7{\n",
       "            background-color:  #eed0c0;\n",
       "            color:  #000000;\n",
       "        }#T_1202afd4_933c_11eb_b0f1_25b20085274arow8_col9,#T_1202afd4_933c_11eb_b0f1_25b20085274arow9_col8{\n",
       "            background-color:  #c53334;\n",
       "            color:  #f1f1f1;\n",
       "        }#T_1202afd4_933c_11eb_b0f1_25b20085274arow8_col10,#T_1202afd4_933c_11eb_b0f1_25b20085274arow10_col8{\n",
       "            background-color:  #f7ad90;\n",
       "            color:  #000000;\n",
       "        }#T_1202afd4_933c_11eb_b0f1_25b20085274arow8_col11,#T_1202afd4_933c_11eb_b0f1_25b20085274arow11_col8{\n",
       "            background-color:  #7597f6;\n",
       "            color:  #000000;\n",
       "        }#T_1202afd4_933c_11eb_b0f1_25b20085274arow8_col12,#T_1202afd4_933c_11eb_b0f1_25b20085274arow12_col8{\n",
       "            background-color:  #f7a889;\n",
       "            color:  #000000;\n",
       "        }#T_1202afd4_933c_11eb_b0f1_25b20085274arow9_col11,#T_1202afd4_933c_11eb_b0f1_25b20085274arow11_col9{\n",
       "            background-color:  #7699f6;\n",
       "            color:  #000000;\n",
       "        }#T_1202afd4_933c_11eb_b0f1_25b20085274arow9_col12,#T_1202afd4_933c_11eb_b0f1_25b20085274arow12_col9{\n",
       "            background-color:  #f59c7d;\n",
       "            color:  #000000;\n",
       "        }#T_1202afd4_933c_11eb_b0f1_25b20085274arow9_col13,#T_1202afd4_933c_11eb_b0f1_25b20085274arow13_col9{\n",
       "            background-color:  #7093f3;\n",
       "            color:  #000000;\n",
       "        }#T_1202afd4_933c_11eb_b0f1_25b20085274arow10_col11,#T_1202afd4_933c_11eb_b0f1_25b20085274arow11_col10{\n",
       "            background-color:  #aac7fd;\n",
       "            color:  #000000;\n",
       "        }#T_1202afd4_933c_11eb_b0f1_25b20085274arow10_col12,#T_1202afd4_933c_11eb_b0f1_25b20085274arow12_col10{\n",
       "            background-color:  #f6bea4;\n",
       "            color:  #000000;\n",
       "        }#T_1202afd4_933c_11eb_b0f1_25b20085274arow10_col13,#T_1202afd4_933c_11eb_b0f1_25b20085274arow13_col10{\n",
       "            background-color:  #688aef;\n",
       "            color:  #000000;\n",
       "        }#T_1202afd4_933c_11eb_b0f1_25b20085274arow11_col12,#T_1202afd4_933c_11eb_b0f1_25b20085274arow12_col11{\n",
       "            background-color:  #85a8fc;\n",
       "            color:  #000000;\n",
       "        }#T_1202afd4_933c_11eb_b0f1_25b20085274arow11_col13,#T_1202afd4_933c_11eb_b0f1_25b20085274arow13_col11{\n",
       "            background-color:  #f4c5ad;\n",
       "            color:  #000000;\n",
       "        }#T_1202afd4_933c_11eb_b0f1_25b20085274arow12_col13,#T_1202afd4_933c_11eb_b0f1_25b20085274arow13_col12{\n",
       "            background-color:  #3f53c6;\n",
       "            color:  #f1f1f1;\n",
       "        }</style><table id=\"T_1202afd4_933c_11eb_b0f1_25b20085274a\" ><thead>    <tr>        <th class=\"blank level0\" ></th>        <th class=\"col_heading level0 col0\" >CRIM</th>        <th class=\"col_heading level0 col1\" >ZN</th>        <th class=\"col_heading level0 col2\" >INDUS</th>        <th class=\"col_heading level0 col3\" >CHAS</th>        <th class=\"col_heading level0 col4\" >NOX</th>        <th class=\"col_heading level0 col5\" >RM</th>        <th class=\"col_heading level0 col6\" >AGE</th>        <th class=\"col_heading level0 col7\" >DIS</th>        <th class=\"col_heading level0 col8\" >RAD</th>        <th class=\"col_heading level0 col9\" >TAX</th>        <th class=\"col_heading level0 col10\" >PTRATIO</th>        <th class=\"col_heading level0 col11\" >B</th>        <th class=\"col_heading level0 col12\" >LSTAT</th>        <th class=\"col_heading level0 col13\" >MEDV</th>    </tr></thead><tbody>\n",
       "                <tr>\n",
       "                        <th id=\"T_1202afd4_933c_11eb_b0f1_25b20085274alevel0_row0\" class=\"row_heading level0 row0\" >CRIM</th>\n",
       "                        <td id=\"T_1202afd4_933c_11eb_b0f1_25b20085274arow0_col0\" class=\"data row0 col0\" >1.000000</td>\n",
       "                        <td id=\"T_1202afd4_933c_11eb_b0f1_25b20085274arow0_col1\" class=\"data row0 col1\" >-0.200469</td>\n",
       "                        <td id=\"T_1202afd4_933c_11eb_b0f1_25b20085274arow0_col2\" class=\"data row0 col2\" >0.406583</td>\n",
       "                        <td id=\"T_1202afd4_933c_11eb_b0f1_25b20085274arow0_col3\" class=\"data row0 col3\" >-0.055892</td>\n",
       "                        <td id=\"T_1202afd4_933c_11eb_b0f1_25b20085274arow0_col4\" class=\"data row0 col4\" >0.420972</td>\n",
       "                        <td id=\"T_1202afd4_933c_11eb_b0f1_25b20085274arow0_col5\" class=\"data row0 col5\" >-0.219247</td>\n",
       "                        <td id=\"T_1202afd4_933c_11eb_b0f1_25b20085274arow0_col6\" class=\"data row0 col6\" >0.352734</td>\n",
       "                        <td id=\"T_1202afd4_933c_11eb_b0f1_25b20085274arow0_col7\" class=\"data row0 col7\" >-0.379670</td>\n",
       "                        <td id=\"T_1202afd4_933c_11eb_b0f1_25b20085274arow0_col8\" class=\"data row0 col8\" >0.625505</td>\n",
       "                        <td id=\"T_1202afd4_933c_11eb_b0f1_25b20085274arow0_col9\" class=\"data row0 col9\" >0.582764</td>\n",
       "                        <td id=\"T_1202afd4_933c_11eb_b0f1_25b20085274arow0_col10\" class=\"data row0 col10\" >0.289946</td>\n",
       "                        <td id=\"T_1202afd4_933c_11eb_b0f1_25b20085274arow0_col11\" class=\"data row0 col11\" >-0.385064</td>\n",
       "                        <td id=\"T_1202afd4_933c_11eb_b0f1_25b20085274arow0_col12\" class=\"data row0 col12\" >0.455621</td>\n",
       "                        <td id=\"T_1202afd4_933c_11eb_b0f1_25b20085274arow0_col13\" class=\"data row0 col13\" >-0.388305</td>\n",
       "            </tr>\n",
       "            <tr>\n",
       "                        <th id=\"T_1202afd4_933c_11eb_b0f1_25b20085274alevel0_row1\" class=\"row_heading level0 row1\" >ZN</th>\n",
       "                        <td id=\"T_1202afd4_933c_11eb_b0f1_25b20085274arow1_col0\" class=\"data row1 col0\" >-0.200469</td>\n",
       "                        <td id=\"T_1202afd4_933c_11eb_b0f1_25b20085274arow1_col1\" class=\"data row1 col1\" >1.000000</td>\n",
       "                        <td id=\"T_1202afd4_933c_11eb_b0f1_25b20085274arow1_col2\" class=\"data row1 col2\" >-0.533828</td>\n",
       "                        <td id=\"T_1202afd4_933c_11eb_b0f1_25b20085274arow1_col3\" class=\"data row1 col3\" >-0.042697</td>\n",
       "                        <td id=\"T_1202afd4_933c_11eb_b0f1_25b20085274arow1_col4\" class=\"data row1 col4\" >-0.516604</td>\n",
       "                        <td id=\"T_1202afd4_933c_11eb_b0f1_25b20085274arow1_col5\" class=\"data row1 col5\" >0.311991</td>\n",
       "                        <td id=\"T_1202afd4_933c_11eb_b0f1_25b20085274arow1_col6\" class=\"data row1 col6\" >-0.569537</td>\n",
       "                        <td id=\"T_1202afd4_933c_11eb_b0f1_25b20085274arow1_col7\" class=\"data row1 col7\" >0.664408</td>\n",
       "                        <td id=\"T_1202afd4_933c_11eb_b0f1_25b20085274arow1_col8\" class=\"data row1 col8\" >-0.311948</td>\n",
       "                        <td id=\"T_1202afd4_933c_11eb_b0f1_25b20085274arow1_col9\" class=\"data row1 col9\" >-0.314563</td>\n",
       "                        <td id=\"T_1202afd4_933c_11eb_b0f1_25b20085274arow1_col10\" class=\"data row1 col10\" >-0.391679</td>\n",
       "                        <td id=\"T_1202afd4_933c_11eb_b0f1_25b20085274arow1_col11\" class=\"data row1 col11\" >0.175520</td>\n",
       "                        <td id=\"T_1202afd4_933c_11eb_b0f1_25b20085274arow1_col12\" class=\"data row1 col12\" >-0.412995</td>\n",
       "                        <td id=\"T_1202afd4_933c_11eb_b0f1_25b20085274arow1_col13\" class=\"data row1 col13\" >0.360445</td>\n",
       "            </tr>\n",
       "            <tr>\n",
       "                        <th id=\"T_1202afd4_933c_11eb_b0f1_25b20085274alevel0_row2\" class=\"row_heading level0 row2\" >INDUS</th>\n",
       "                        <td id=\"T_1202afd4_933c_11eb_b0f1_25b20085274arow2_col0\" class=\"data row2 col0\" >0.406583</td>\n",
       "                        <td id=\"T_1202afd4_933c_11eb_b0f1_25b20085274arow2_col1\" class=\"data row2 col1\" >-0.533828</td>\n",
       "                        <td id=\"T_1202afd4_933c_11eb_b0f1_25b20085274arow2_col2\" class=\"data row2 col2\" >1.000000</td>\n",
       "                        <td id=\"T_1202afd4_933c_11eb_b0f1_25b20085274arow2_col3\" class=\"data row2 col3\" >0.062938</td>\n",
       "                        <td id=\"T_1202afd4_933c_11eb_b0f1_25b20085274arow2_col4\" class=\"data row2 col4\" >0.763651</td>\n",
       "                        <td id=\"T_1202afd4_933c_11eb_b0f1_25b20085274arow2_col5\" class=\"data row2 col5\" >-0.391676</td>\n",
       "                        <td id=\"T_1202afd4_933c_11eb_b0f1_25b20085274arow2_col6\" class=\"data row2 col6\" >0.644779</td>\n",
       "                        <td id=\"T_1202afd4_933c_11eb_b0f1_25b20085274arow2_col7\" class=\"data row2 col7\" >-0.708027</td>\n",
       "                        <td id=\"T_1202afd4_933c_11eb_b0f1_25b20085274arow2_col8\" class=\"data row2 col8\" >0.595129</td>\n",
       "                        <td id=\"T_1202afd4_933c_11eb_b0f1_25b20085274arow2_col9\" class=\"data row2 col9\" >0.720760</td>\n",
       "                        <td id=\"T_1202afd4_933c_11eb_b0f1_25b20085274arow2_col10\" class=\"data row2 col10\" >0.383248</td>\n",
       "                        <td id=\"T_1202afd4_933c_11eb_b0f1_25b20085274arow2_col11\" class=\"data row2 col11\" >-0.356977</td>\n",
       "                        <td id=\"T_1202afd4_933c_11eb_b0f1_25b20085274arow2_col12\" class=\"data row2 col12\" >0.603800</td>\n",
       "                        <td id=\"T_1202afd4_933c_11eb_b0f1_25b20085274arow2_col13\" class=\"data row2 col13\" >-0.483725</td>\n",
       "            </tr>\n",
       "            <tr>\n",
       "                        <th id=\"T_1202afd4_933c_11eb_b0f1_25b20085274alevel0_row3\" class=\"row_heading level0 row3\" >CHAS</th>\n",
       "                        <td id=\"T_1202afd4_933c_11eb_b0f1_25b20085274arow3_col0\" class=\"data row3 col0\" >-0.055892</td>\n",
       "                        <td id=\"T_1202afd4_933c_11eb_b0f1_25b20085274arow3_col1\" class=\"data row3 col1\" >-0.042697</td>\n",
       "                        <td id=\"T_1202afd4_933c_11eb_b0f1_25b20085274arow3_col2\" class=\"data row3 col2\" >0.062938</td>\n",
       "                        <td id=\"T_1202afd4_933c_11eb_b0f1_25b20085274arow3_col3\" class=\"data row3 col3\" >1.000000</td>\n",
       "                        <td id=\"T_1202afd4_933c_11eb_b0f1_25b20085274arow3_col4\" class=\"data row3 col4\" >0.091203</td>\n",
       "                        <td id=\"T_1202afd4_933c_11eb_b0f1_25b20085274arow3_col5\" class=\"data row3 col5\" >0.091251</td>\n",
       "                        <td id=\"T_1202afd4_933c_11eb_b0f1_25b20085274arow3_col6\" class=\"data row3 col6\" >0.086518</td>\n",
       "                        <td id=\"T_1202afd4_933c_11eb_b0f1_25b20085274arow3_col7\" class=\"data row3 col7\" >-0.099176</td>\n",
       "                        <td id=\"T_1202afd4_933c_11eb_b0f1_25b20085274arow3_col8\" class=\"data row3 col8\" >-0.007368</td>\n",
       "                        <td id=\"T_1202afd4_933c_11eb_b0f1_25b20085274arow3_col9\" class=\"data row3 col9\" >-0.035587</td>\n",
       "                        <td id=\"T_1202afd4_933c_11eb_b0f1_25b20085274arow3_col10\" class=\"data row3 col10\" >-0.121515</td>\n",
       "                        <td id=\"T_1202afd4_933c_11eb_b0f1_25b20085274arow3_col11\" class=\"data row3 col11\" >0.048788</td>\n",
       "                        <td id=\"T_1202afd4_933c_11eb_b0f1_25b20085274arow3_col12\" class=\"data row3 col12\" >-0.053929</td>\n",
       "                        <td id=\"T_1202afd4_933c_11eb_b0f1_25b20085274arow3_col13\" class=\"data row3 col13\" >0.175260</td>\n",
       "            </tr>\n",
       "            <tr>\n",
       "                        <th id=\"T_1202afd4_933c_11eb_b0f1_25b20085274alevel0_row4\" class=\"row_heading level0 row4\" >NOX</th>\n",
       "                        <td id=\"T_1202afd4_933c_11eb_b0f1_25b20085274arow4_col0\" class=\"data row4 col0\" >0.420972</td>\n",
       "                        <td id=\"T_1202afd4_933c_11eb_b0f1_25b20085274arow4_col1\" class=\"data row4 col1\" >-0.516604</td>\n",
       "                        <td id=\"T_1202afd4_933c_11eb_b0f1_25b20085274arow4_col2\" class=\"data row4 col2\" >0.763651</td>\n",
       "                        <td id=\"T_1202afd4_933c_11eb_b0f1_25b20085274arow4_col3\" class=\"data row4 col3\" >0.091203</td>\n",
       "                        <td id=\"T_1202afd4_933c_11eb_b0f1_25b20085274arow4_col4\" class=\"data row4 col4\" >1.000000</td>\n",
       "                        <td id=\"T_1202afd4_933c_11eb_b0f1_25b20085274arow4_col5\" class=\"data row4 col5\" >-0.302188</td>\n",
       "                        <td id=\"T_1202afd4_933c_11eb_b0f1_25b20085274arow4_col6\" class=\"data row4 col6\" >0.731470</td>\n",
       "                        <td id=\"T_1202afd4_933c_11eb_b0f1_25b20085274arow4_col7\" class=\"data row4 col7\" >-0.769230</td>\n",
       "                        <td id=\"T_1202afd4_933c_11eb_b0f1_25b20085274arow4_col8\" class=\"data row4 col8\" >0.611441</td>\n",
       "                        <td id=\"T_1202afd4_933c_11eb_b0f1_25b20085274arow4_col9\" class=\"data row4 col9\" >0.668023</td>\n",
       "                        <td id=\"T_1202afd4_933c_11eb_b0f1_25b20085274arow4_col10\" class=\"data row4 col10\" >0.188933</td>\n",
       "                        <td id=\"T_1202afd4_933c_11eb_b0f1_25b20085274arow4_col11\" class=\"data row4 col11\" >-0.380051</td>\n",
       "                        <td id=\"T_1202afd4_933c_11eb_b0f1_25b20085274arow4_col12\" class=\"data row4 col12\" >0.590879</td>\n",
       "                        <td id=\"T_1202afd4_933c_11eb_b0f1_25b20085274arow4_col13\" class=\"data row4 col13\" >-0.427321</td>\n",
       "            </tr>\n",
       "            <tr>\n",
       "                        <th id=\"T_1202afd4_933c_11eb_b0f1_25b20085274alevel0_row5\" class=\"row_heading level0 row5\" >RM</th>\n",
       "                        <td id=\"T_1202afd4_933c_11eb_b0f1_25b20085274arow5_col0\" class=\"data row5 col0\" >-0.219247</td>\n",
       "                        <td id=\"T_1202afd4_933c_11eb_b0f1_25b20085274arow5_col1\" class=\"data row5 col1\" >0.311991</td>\n",
       "                        <td id=\"T_1202afd4_933c_11eb_b0f1_25b20085274arow5_col2\" class=\"data row5 col2\" >-0.391676</td>\n",
       "                        <td id=\"T_1202afd4_933c_11eb_b0f1_25b20085274arow5_col3\" class=\"data row5 col3\" >0.091251</td>\n",
       "                        <td id=\"T_1202afd4_933c_11eb_b0f1_25b20085274arow5_col4\" class=\"data row5 col4\" >-0.302188</td>\n",
       "                        <td id=\"T_1202afd4_933c_11eb_b0f1_25b20085274arow5_col5\" class=\"data row5 col5\" >1.000000</td>\n",
       "                        <td id=\"T_1202afd4_933c_11eb_b0f1_25b20085274arow5_col6\" class=\"data row5 col6\" >-0.240265</td>\n",
       "                        <td id=\"T_1202afd4_933c_11eb_b0f1_25b20085274arow5_col7\" class=\"data row5 col7\" >0.205246</td>\n",
       "                        <td id=\"T_1202afd4_933c_11eb_b0f1_25b20085274arow5_col8\" class=\"data row5 col8\" >-0.209847</td>\n",
       "                        <td id=\"T_1202afd4_933c_11eb_b0f1_25b20085274arow5_col9\" class=\"data row5 col9\" >-0.292048</td>\n",
       "                        <td id=\"T_1202afd4_933c_11eb_b0f1_25b20085274arow5_col10\" class=\"data row5 col10\" >-0.355501</td>\n",
       "                        <td id=\"T_1202afd4_933c_11eb_b0f1_25b20085274arow5_col11\" class=\"data row5 col11\" >0.128069</td>\n",
       "                        <td id=\"T_1202afd4_933c_11eb_b0f1_25b20085274arow5_col12\" class=\"data row5 col12\" >-0.613808</td>\n",
       "                        <td id=\"T_1202afd4_933c_11eb_b0f1_25b20085274arow5_col13\" class=\"data row5 col13\" >0.695360</td>\n",
       "            </tr>\n",
       "            <tr>\n",
       "                        <th id=\"T_1202afd4_933c_11eb_b0f1_25b20085274alevel0_row6\" class=\"row_heading level0 row6\" >AGE</th>\n",
       "                        <td id=\"T_1202afd4_933c_11eb_b0f1_25b20085274arow6_col0\" class=\"data row6 col0\" >0.352734</td>\n",
       "                        <td id=\"T_1202afd4_933c_11eb_b0f1_25b20085274arow6_col1\" class=\"data row6 col1\" >-0.569537</td>\n",
       "                        <td id=\"T_1202afd4_933c_11eb_b0f1_25b20085274arow6_col2\" class=\"data row6 col2\" >0.644779</td>\n",
       "                        <td id=\"T_1202afd4_933c_11eb_b0f1_25b20085274arow6_col3\" class=\"data row6 col3\" >0.086518</td>\n",
       "                        <td id=\"T_1202afd4_933c_11eb_b0f1_25b20085274arow6_col4\" class=\"data row6 col4\" >0.731470</td>\n",
       "                        <td id=\"T_1202afd4_933c_11eb_b0f1_25b20085274arow6_col5\" class=\"data row6 col5\" >-0.240265</td>\n",
       "                        <td id=\"T_1202afd4_933c_11eb_b0f1_25b20085274arow6_col6\" class=\"data row6 col6\" >1.000000</td>\n",
       "                        <td id=\"T_1202afd4_933c_11eb_b0f1_25b20085274arow6_col7\" class=\"data row6 col7\" >-0.747881</td>\n",
       "                        <td id=\"T_1202afd4_933c_11eb_b0f1_25b20085274arow6_col8\" class=\"data row6 col8\" >0.456022</td>\n",
       "                        <td id=\"T_1202afd4_933c_11eb_b0f1_25b20085274arow6_col9\" class=\"data row6 col9\" >0.506456</td>\n",
       "                        <td id=\"T_1202afd4_933c_11eb_b0f1_25b20085274arow6_col10\" class=\"data row6 col10\" >0.261515</td>\n",
       "                        <td id=\"T_1202afd4_933c_11eb_b0f1_25b20085274arow6_col11\" class=\"data row6 col11\" >-0.273534</td>\n",
       "                        <td id=\"T_1202afd4_933c_11eb_b0f1_25b20085274arow6_col12\" class=\"data row6 col12\" >0.602339</td>\n",
       "                        <td id=\"T_1202afd4_933c_11eb_b0f1_25b20085274arow6_col13\" class=\"data row6 col13\" >-0.376955</td>\n",
       "            </tr>\n",
       "            <tr>\n",
       "                        <th id=\"T_1202afd4_933c_11eb_b0f1_25b20085274alevel0_row7\" class=\"row_heading level0 row7\" >DIS</th>\n",
       "                        <td id=\"T_1202afd4_933c_11eb_b0f1_25b20085274arow7_col0\" class=\"data row7 col0\" >-0.379670</td>\n",
       "                        <td id=\"T_1202afd4_933c_11eb_b0f1_25b20085274arow7_col1\" class=\"data row7 col1\" >0.664408</td>\n",
       "                        <td id=\"T_1202afd4_933c_11eb_b0f1_25b20085274arow7_col2\" class=\"data row7 col2\" >-0.708027</td>\n",
       "                        <td id=\"T_1202afd4_933c_11eb_b0f1_25b20085274arow7_col3\" class=\"data row7 col3\" >-0.099176</td>\n",
       "                        <td id=\"T_1202afd4_933c_11eb_b0f1_25b20085274arow7_col4\" class=\"data row7 col4\" >-0.769230</td>\n",
       "                        <td id=\"T_1202afd4_933c_11eb_b0f1_25b20085274arow7_col5\" class=\"data row7 col5\" >0.205246</td>\n",
       "                        <td id=\"T_1202afd4_933c_11eb_b0f1_25b20085274arow7_col6\" class=\"data row7 col6\" >-0.747881</td>\n",
       "                        <td id=\"T_1202afd4_933c_11eb_b0f1_25b20085274arow7_col7\" class=\"data row7 col7\" >1.000000</td>\n",
       "                        <td id=\"T_1202afd4_933c_11eb_b0f1_25b20085274arow7_col8\" class=\"data row7 col8\" >-0.494588</td>\n",
       "                        <td id=\"T_1202afd4_933c_11eb_b0f1_25b20085274arow7_col9\" class=\"data row7 col9\" >-0.534432</td>\n",
       "                        <td id=\"T_1202afd4_933c_11eb_b0f1_25b20085274arow7_col10\" class=\"data row7 col10\" >-0.232471</td>\n",
       "                        <td id=\"T_1202afd4_933c_11eb_b0f1_25b20085274arow7_col11\" class=\"data row7 col11\" >0.291512</td>\n",
       "                        <td id=\"T_1202afd4_933c_11eb_b0f1_25b20085274arow7_col12\" class=\"data row7 col12\" >-0.496996</td>\n",
       "                        <td id=\"T_1202afd4_933c_11eb_b0f1_25b20085274arow7_col13\" class=\"data row7 col13\" >0.249929</td>\n",
       "            </tr>\n",
       "            <tr>\n",
       "                        <th id=\"T_1202afd4_933c_11eb_b0f1_25b20085274alevel0_row8\" class=\"row_heading level0 row8\" >RAD</th>\n",
       "                        <td id=\"T_1202afd4_933c_11eb_b0f1_25b20085274arow8_col0\" class=\"data row8 col0\" >0.625505</td>\n",
       "                        <td id=\"T_1202afd4_933c_11eb_b0f1_25b20085274arow8_col1\" class=\"data row8 col1\" >-0.311948</td>\n",
       "                        <td id=\"T_1202afd4_933c_11eb_b0f1_25b20085274arow8_col2\" class=\"data row8 col2\" >0.595129</td>\n",
       "                        <td id=\"T_1202afd4_933c_11eb_b0f1_25b20085274arow8_col3\" class=\"data row8 col3\" >-0.007368</td>\n",
       "                        <td id=\"T_1202afd4_933c_11eb_b0f1_25b20085274arow8_col4\" class=\"data row8 col4\" >0.611441</td>\n",
       "                        <td id=\"T_1202afd4_933c_11eb_b0f1_25b20085274arow8_col5\" class=\"data row8 col5\" >-0.209847</td>\n",
       "                        <td id=\"T_1202afd4_933c_11eb_b0f1_25b20085274arow8_col6\" class=\"data row8 col6\" >0.456022</td>\n",
       "                        <td id=\"T_1202afd4_933c_11eb_b0f1_25b20085274arow8_col7\" class=\"data row8 col7\" >-0.494588</td>\n",
       "                        <td id=\"T_1202afd4_933c_11eb_b0f1_25b20085274arow8_col8\" class=\"data row8 col8\" >1.000000</td>\n",
       "                        <td id=\"T_1202afd4_933c_11eb_b0f1_25b20085274arow8_col9\" class=\"data row8 col9\" >0.910228</td>\n",
       "                        <td id=\"T_1202afd4_933c_11eb_b0f1_25b20085274arow8_col10\" class=\"data row8 col10\" >0.464741</td>\n",
       "                        <td id=\"T_1202afd4_933c_11eb_b0f1_25b20085274arow8_col11\" class=\"data row8 col11\" >-0.444413</td>\n",
       "                        <td id=\"T_1202afd4_933c_11eb_b0f1_25b20085274arow8_col12\" class=\"data row8 col12\" >0.488676</td>\n",
       "                        <td id=\"T_1202afd4_933c_11eb_b0f1_25b20085274arow8_col13\" class=\"data row8 col13\" >-0.381626</td>\n",
       "            </tr>\n",
       "            <tr>\n",
       "                        <th id=\"T_1202afd4_933c_11eb_b0f1_25b20085274alevel0_row9\" class=\"row_heading level0 row9\" >TAX</th>\n",
       "                        <td id=\"T_1202afd4_933c_11eb_b0f1_25b20085274arow9_col0\" class=\"data row9 col0\" >0.582764</td>\n",
       "                        <td id=\"T_1202afd4_933c_11eb_b0f1_25b20085274arow9_col1\" class=\"data row9 col1\" >-0.314563</td>\n",
       "                        <td id=\"T_1202afd4_933c_11eb_b0f1_25b20085274arow9_col2\" class=\"data row9 col2\" >0.720760</td>\n",
       "                        <td id=\"T_1202afd4_933c_11eb_b0f1_25b20085274arow9_col3\" class=\"data row9 col3\" >-0.035587</td>\n",
       "                        <td id=\"T_1202afd4_933c_11eb_b0f1_25b20085274arow9_col4\" class=\"data row9 col4\" >0.668023</td>\n",
       "                        <td id=\"T_1202afd4_933c_11eb_b0f1_25b20085274arow9_col5\" class=\"data row9 col5\" >-0.292048</td>\n",
       "                        <td id=\"T_1202afd4_933c_11eb_b0f1_25b20085274arow9_col6\" class=\"data row9 col6\" >0.506456</td>\n",
       "                        <td id=\"T_1202afd4_933c_11eb_b0f1_25b20085274arow9_col7\" class=\"data row9 col7\" >-0.534432</td>\n",
       "                        <td id=\"T_1202afd4_933c_11eb_b0f1_25b20085274arow9_col8\" class=\"data row9 col8\" >0.910228</td>\n",
       "                        <td id=\"T_1202afd4_933c_11eb_b0f1_25b20085274arow9_col9\" class=\"data row9 col9\" >1.000000</td>\n",
       "                        <td id=\"T_1202afd4_933c_11eb_b0f1_25b20085274arow9_col10\" class=\"data row9 col10\" >0.460853</td>\n",
       "                        <td id=\"T_1202afd4_933c_11eb_b0f1_25b20085274arow9_col11\" class=\"data row9 col11\" >-0.441808</td>\n",
       "                        <td id=\"T_1202afd4_933c_11eb_b0f1_25b20085274arow9_col12\" class=\"data row9 col12\" >0.543993</td>\n",
       "                        <td id=\"T_1202afd4_933c_11eb_b0f1_25b20085274arow9_col13\" class=\"data row9 col13\" >-0.468536</td>\n",
       "            </tr>\n",
       "            <tr>\n",
       "                        <th id=\"T_1202afd4_933c_11eb_b0f1_25b20085274alevel0_row10\" class=\"row_heading level0 row10\" >PTRATIO</th>\n",
       "                        <td id=\"T_1202afd4_933c_11eb_b0f1_25b20085274arow10_col0\" class=\"data row10 col0\" >0.289946</td>\n",
       "                        <td id=\"T_1202afd4_933c_11eb_b0f1_25b20085274arow10_col1\" class=\"data row10 col1\" >-0.391679</td>\n",
       "                        <td id=\"T_1202afd4_933c_11eb_b0f1_25b20085274arow10_col2\" class=\"data row10 col2\" >0.383248</td>\n",
       "                        <td id=\"T_1202afd4_933c_11eb_b0f1_25b20085274arow10_col3\" class=\"data row10 col3\" >-0.121515</td>\n",
       "                        <td id=\"T_1202afd4_933c_11eb_b0f1_25b20085274arow10_col4\" class=\"data row10 col4\" >0.188933</td>\n",
       "                        <td id=\"T_1202afd4_933c_11eb_b0f1_25b20085274arow10_col5\" class=\"data row10 col5\" >-0.355501</td>\n",
       "                        <td id=\"T_1202afd4_933c_11eb_b0f1_25b20085274arow10_col6\" class=\"data row10 col6\" >0.261515</td>\n",
       "                        <td id=\"T_1202afd4_933c_11eb_b0f1_25b20085274arow10_col7\" class=\"data row10 col7\" >-0.232471</td>\n",
       "                        <td id=\"T_1202afd4_933c_11eb_b0f1_25b20085274arow10_col8\" class=\"data row10 col8\" >0.464741</td>\n",
       "                        <td id=\"T_1202afd4_933c_11eb_b0f1_25b20085274arow10_col9\" class=\"data row10 col9\" >0.460853</td>\n",
       "                        <td id=\"T_1202afd4_933c_11eb_b0f1_25b20085274arow10_col10\" class=\"data row10 col10\" >1.000000</td>\n",
       "                        <td id=\"T_1202afd4_933c_11eb_b0f1_25b20085274arow10_col11\" class=\"data row10 col11\" >-0.177383</td>\n",
       "                        <td id=\"T_1202afd4_933c_11eb_b0f1_25b20085274arow10_col12\" class=\"data row10 col12\" >0.374044</td>\n",
       "                        <td id=\"T_1202afd4_933c_11eb_b0f1_25b20085274arow10_col13\" class=\"data row10 col13\" >-0.507787</td>\n",
       "            </tr>\n",
       "            <tr>\n",
       "                        <th id=\"T_1202afd4_933c_11eb_b0f1_25b20085274alevel0_row11\" class=\"row_heading level0 row11\" >B</th>\n",
       "                        <td id=\"T_1202afd4_933c_11eb_b0f1_25b20085274arow11_col0\" class=\"data row11 col0\" >-0.385064</td>\n",
       "                        <td id=\"T_1202afd4_933c_11eb_b0f1_25b20085274arow11_col1\" class=\"data row11 col1\" >0.175520</td>\n",
       "                        <td id=\"T_1202afd4_933c_11eb_b0f1_25b20085274arow11_col2\" class=\"data row11 col2\" >-0.356977</td>\n",
       "                        <td id=\"T_1202afd4_933c_11eb_b0f1_25b20085274arow11_col3\" class=\"data row11 col3\" >0.048788</td>\n",
       "                        <td id=\"T_1202afd4_933c_11eb_b0f1_25b20085274arow11_col4\" class=\"data row11 col4\" >-0.380051</td>\n",
       "                        <td id=\"T_1202afd4_933c_11eb_b0f1_25b20085274arow11_col5\" class=\"data row11 col5\" >0.128069</td>\n",
       "                        <td id=\"T_1202afd4_933c_11eb_b0f1_25b20085274arow11_col6\" class=\"data row11 col6\" >-0.273534</td>\n",
       "                        <td id=\"T_1202afd4_933c_11eb_b0f1_25b20085274arow11_col7\" class=\"data row11 col7\" >0.291512</td>\n",
       "                        <td id=\"T_1202afd4_933c_11eb_b0f1_25b20085274arow11_col8\" class=\"data row11 col8\" >-0.444413</td>\n",
       "                        <td id=\"T_1202afd4_933c_11eb_b0f1_25b20085274arow11_col9\" class=\"data row11 col9\" >-0.441808</td>\n",
       "                        <td id=\"T_1202afd4_933c_11eb_b0f1_25b20085274arow11_col10\" class=\"data row11 col10\" >-0.177383</td>\n",
       "                        <td id=\"T_1202afd4_933c_11eb_b0f1_25b20085274arow11_col11\" class=\"data row11 col11\" >1.000000</td>\n",
       "                        <td id=\"T_1202afd4_933c_11eb_b0f1_25b20085274arow11_col12\" class=\"data row11 col12\" >-0.366087</td>\n",
       "                        <td id=\"T_1202afd4_933c_11eb_b0f1_25b20085274arow11_col13\" class=\"data row11 col13\" >0.333461</td>\n",
       "            </tr>\n",
       "            <tr>\n",
       "                        <th id=\"T_1202afd4_933c_11eb_b0f1_25b20085274alevel0_row12\" class=\"row_heading level0 row12\" >LSTAT</th>\n",
       "                        <td id=\"T_1202afd4_933c_11eb_b0f1_25b20085274arow12_col0\" class=\"data row12 col0\" >0.455621</td>\n",
       "                        <td id=\"T_1202afd4_933c_11eb_b0f1_25b20085274arow12_col1\" class=\"data row12 col1\" >-0.412995</td>\n",
       "                        <td id=\"T_1202afd4_933c_11eb_b0f1_25b20085274arow12_col2\" class=\"data row12 col2\" >0.603800</td>\n",
       "                        <td id=\"T_1202afd4_933c_11eb_b0f1_25b20085274arow12_col3\" class=\"data row12 col3\" >-0.053929</td>\n",
       "                        <td id=\"T_1202afd4_933c_11eb_b0f1_25b20085274arow12_col4\" class=\"data row12 col4\" >0.590879</td>\n",
       "                        <td id=\"T_1202afd4_933c_11eb_b0f1_25b20085274arow12_col5\" class=\"data row12 col5\" >-0.613808</td>\n",
       "                        <td id=\"T_1202afd4_933c_11eb_b0f1_25b20085274arow12_col6\" class=\"data row12 col6\" >0.602339</td>\n",
       "                        <td id=\"T_1202afd4_933c_11eb_b0f1_25b20085274arow12_col7\" class=\"data row12 col7\" >-0.496996</td>\n",
       "                        <td id=\"T_1202afd4_933c_11eb_b0f1_25b20085274arow12_col8\" class=\"data row12 col8\" >0.488676</td>\n",
       "                        <td id=\"T_1202afd4_933c_11eb_b0f1_25b20085274arow12_col9\" class=\"data row12 col9\" >0.543993</td>\n",
       "                        <td id=\"T_1202afd4_933c_11eb_b0f1_25b20085274arow12_col10\" class=\"data row12 col10\" >0.374044</td>\n",
       "                        <td id=\"T_1202afd4_933c_11eb_b0f1_25b20085274arow12_col11\" class=\"data row12 col11\" >-0.366087</td>\n",
       "                        <td id=\"T_1202afd4_933c_11eb_b0f1_25b20085274arow12_col12\" class=\"data row12 col12\" >1.000000</td>\n",
       "                        <td id=\"T_1202afd4_933c_11eb_b0f1_25b20085274arow12_col13\" class=\"data row12 col13\" >-0.737663</td>\n",
       "            </tr>\n",
       "            <tr>\n",
       "                        <th id=\"T_1202afd4_933c_11eb_b0f1_25b20085274alevel0_row13\" class=\"row_heading level0 row13\" >MEDV</th>\n",
       "                        <td id=\"T_1202afd4_933c_11eb_b0f1_25b20085274arow13_col0\" class=\"data row13 col0\" >-0.388305</td>\n",
       "                        <td id=\"T_1202afd4_933c_11eb_b0f1_25b20085274arow13_col1\" class=\"data row13 col1\" >0.360445</td>\n",
       "                        <td id=\"T_1202afd4_933c_11eb_b0f1_25b20085274arow13_col2\" class=\"data row13 col2\" >-0.483725</td>\n",
       "                        <td id=\"T_1202afd4_933c_11eb_b0f1_25b20085274arow13_col3\" class=\"data row13 col3\" >0.175260</td>\n",
       "                        <td id=\"T_1202afd4_933c_11eb_b0f1_25b20085274arow13_col4\" class=\"data row13 col4\" >-0.427321</td>\n",
       "                        <td id=\"T_1202afd4_933c_11eb_b0f1_25b20085274arow13_col5\" class=\"data row13 col5\" >0.695360</td>\n",
       "                        <td id=\"T_1202afd4_933c_11eb_b0f1_25b20085274arow13_col6\" class=\"data row13 col6\" >-0.376955</td>\n",
       "                        <td id=\"T_1202afd4_933c_11eb_b0f1_25b20085274arow13_col7\" class=\"data row13 col7\" >0.249929</td>\n",
       "                        <td id=\"T_1202afd4_933c_11eb_b0f1_25b20085274arow13_col8\" class=\"data row13 col8\" >-0.381626</td>\n",
       "                        <td id=\"T_1202afd4_933c_11eb_b0f1_25b20085274arow13_col9\" class=\"data row13 col9\" >-0.468536</td>\n",
       "                        <td id=\"T_1202afd4_933c_11eb_b0f1_25b20085274arow13_col10\" class=\"data row13 col10\" >-0.507787</td>\n",
       "                        <td id=\"T_1202afd4_933c_11eb_b0f1_25b20085274arow13_col11\" class=\"data row13 col11\" >0.333461</td>\n",
       "                        <td id=\"T_1202afd4_933c_11eb_b0f1_25b20085274arow13_col12\" class=\"data row13 col12\" >-0.737663</td>\n",
       "                        <td id=\"T_1202afd4_933c_11eb_b0f1_25b20085274arow13_col13\" class=\"data row13 col13\" >1.000000</td>\n",
       "            </tr>\n",
       "    </tbody></table>"
      ],
      "text/plain": [
       "<pandas.io.formats.style.Styler at 0x7f5a952394c0>"
      ]
     },
     "execution_count": 255,
     "metadata": {},
     "output_type": "execute_result"
    }
   ],
   "source": [
    "correlation = df.corr()\n",
    "correlation.style.background_gradient(cmap='coolwarm',axis=None)"
   ]
  },
  {
   "cell_type": "markdown",
   "metadata": {},
   "source": [
    "### Répartition de certaines variables"
   ]
  },
  {
   "cell_type": "code",
   "execution_count": 102,
   "metadata": {},
   "outputs": [
    {
     "data": {
      "text/plain": [
       "array([[<AxesSubplot:xlabel='RM', ylabel='RM'>,\n",
       "        <AxesSubplot:xlabel='MEDV', ylabel='RM'>,\n",
       "        <AxesSubplot:xlabel='TAX', ylabel='RM'>,\n",
       "        <AxesSubplot:xlabel='INDUS', ylabel='RM'>],\n",
       "       [<AxesSubplot:xlabel='RM', ylabel='MEDV'>,\n",
       "        <AxesSubplot:xlabel='MEDV', ylabel='MEDV'>,\n",
       "        <AxesSubplot:xlabel='TAX', ylabel='MEDV'>,\n",
       "        <AxesSubplot:xlabel='INDUS', ylabel='MEDV'>],\n",
       "       [<AxesSubplot:xlabel='RM', ylabel='TAX'>,\n",
       "        <AxesSubplot:xlabel='MEDV', ylabel='TAX'>,\n",
       "        <AxesSubplot:xlabel='TAX', ylabel='TAX'>,\n",
       "        <AxesSubplot:xlabel='INDUS', ylabel='TAX'>],\n",
       "       [<AxesSubplot:xlabel='RM', ylabel='INDUS'>,\n",
       "        <AxesSubplot:xlabel='MEDV', ylabel='INDUS'>,\n",
       "        <AxesSubplot:xlabel='TAX', ylabel='INDUS'>,\n",
       "        <AxesSubplot:xlabel='INDUS', ylabel='INDUS'>]], dtype=object)"
      ]
     },
     "execution_count": 102,
     "metadata": {},
     "output_type": "execute_result"
    },
    {
     "data": {
      "image/png": "[encoded data removed]",
      "text/plain": [
       "<Figure size 864x576 with 16 Axes>"
      ]
     },
     "metadata": {
      "needs_background": "light"
     },
     "output_type": "display_data"
    }
   ],
   "source": [
    "from pandas.plotting import scatter_matrix\n",
    "\n",
    "attributes = [\"RM\", \"MEDV\", \"TAX\",\n",
    "              \"INDUS\"]\n",
    "scatter_matrix(df[attributes], figsize=(12, 8))"
   ]
  },
  {
   "cell_type": "markdown",
   "metadata": {},
   "source": [
    ">* Au regard de la répartition des variables décrites ci-dessus, nous remarquons que le nombre de pièces par logement (variable 'RM') a un grand impact sur le prix de la maison (variable 'MEDV')."
   ]
  },
  {
   "cell_type": "markdown",
   "metadata": {},
   "source": [
    "Comme nous l'avons mentionné plus haut, certaines variables ont des proportions élevées par rapport aux autres et pourront ainsi avoir un impact conséquent. Pour donc palier à cela,nous allons raméner nos différentes variables à la même échelle en utilisant la méthode de standardisation."
   ]
  },
  {
   "cell_type": "markdown",
   "metadata": {
    "id": "LGdeXJwpxi7x"
   },
   "source": [
    "### Standardisation des données"
   ]
  },
  {
   "cell_type": "markdown",
   "metadata": {
    "id": "1GR9XKq_xi7x"
   },
   "source": [
    ">* Nous allons à present centrer et reduire nos données"
   ]
  },
  {
   "cell_type": "code",
   "execution_count": 9,
   "metadata": {
    "ExecuteTime": {
     "end_time": "2021-04-02T00:43:33.597673Z",
     "start_time": "2021-04-02T00:43:33.572955Z"
    }
   },
   "outputs": [],
   "source": [
    "scaler = preprocessing.StandardScaler()\n",
    "scaled_data = scaler.fit_transform(df)\n",
    "scaled_data = pd.DataFrame(scaled_data, columns=df.columns)"
   ]
  },
  {
   "cell_type": "markdown",
   "metadata": {},
   "source": [
    "### Répartion nos données en deux: données d'apprentissage et de test. "
   ]
  },
  {
   "cell_type": "code",
   "execution_count": 10,
   "metadata": {
    "ExecuteTime": {
     "end_time": "2021-04-02T00:43:37.953133Z",
     "start_time": "2021-04-02T00:43:37.904263Z"
    }
   },
   "outputs": [
    {
     "data": {
      "text/plain": [
       "((404, 13), (102, 13))"
      ]
     },
     "execution_count": 10,
     "metadata": {},
     "output_type": "execute_result"
    }
   ],
   "source": [
    "cols = list(scaled_data.columns[0:-1])\n",
    "X, y = scaled_data[cols], scaled_data['MEDV']\n",
    "\n",
    "\n",
    "X_train, X_test, Y_train, Y_test = train_test_split(X, y, test_size=0.2, random_state=0)\n",
    "X_train.shape, X_test.shape"
   ]
  },
  {
   "cell_type": "markdown",
   "metadata": {
    "id": "-390Ddjoxi76"
   },
   "source": [
    "## Créons notre premier modèle à l'aide des réseaux de neurones."
   ]
  },
  {
   "cell_type": "markdown",
   "metadata": {},
   "source": [
    ">* Avant de s'y mettre nous allons préciser les différentes métriques mis en exergue pour évaluer le modèle. IL s'agit du 'mean absolute error', 'mean square error'.\n",
    ">* MAE : C'est la moyenne de la valeur absolue des erreurs. Elle mesure la différence entre deux variables continues, ici les valeurs réelles et prédites de y. \n",
    ">* MSE : L'erreur quadratique moyenne (MSE) est identique à la MAE, mais elle élève au carré la différence avant de les additionner au lieu d'utiliser la valeur absolue. "
   ]
  },
  {
   "cell_type": "code",
   "execution_count": 11,
   "metadata": {
    "ExecuteTime": {
     "end_time": "2021-04-02T00:43:42.510703Z",
     "start_time": "2021-04-02T00:43:42.288865Z"
    },
    "executionInfo": {
     "elapsed": 704,
     "status": "ok",
     "timestamp": 1617119195494,
     "user": {
      "displayName": "mame cheikh ngom",
      "photoUrl": "https://lh3.googleusercontent.com/a-/AOh14GgKFLv-u8xz77EeKXvbxCmgtPFdAHaJUZ7cIL0vmQ=s64",
      "userId": "05924235231913370852"
     },
     "user_tz": 0
    },
    "id": "JwP2lisLxi71"
   },
   "outputs": [],
   "source": [
    "# Importation des librairies\n",
    "from keras.models import Sequential\n",
    "from keras.layers import Dense\n",
    "from keras.optimizers import SGD\n",
    "from matplotlib import pyplot"
   ]
  },
  {
   "cell_type": "code",
   "execution_count": 12,
   "metadata": {
    "ExecuteTime": {
     "end_time": "2021-04-02T00:43:45.258076Z",
     "start_time": "2021-04-02T00:43:44.277016Z"
    },
    "executionInfo": {
     "elapsed": 682,
     "status": "ok",
     "timestamp": 1617119832412,
     "user": {
      "displayName": "mame cheikh ngom",
      "photoUrl": "https://lh3.googleusercontent.com/a-/AOh14GgKFLv-u8xz77EeKXvbxCmgtPFdAHaJUZ7cIL0vmQ=s64",
      "userId": "05924235231913370852"
     },
     "user_tz": 0
    },
    "id": "47I8D2Hcxi75"
   },
   "outputs": [],
   "source": [
    "# definition du modèle\n",
    "model = Sequential()\n",
    "model.add(Dense(13, input_dim=13, activation='relu', kernel_initializer='he_uniform'))\n",
    "model.add(Dense(4, activation='relu', kernel_initializer='he_uniform'))\n",
    "model.add(Dense(1, activation='linear', kernel_initializer='he_uniform'))\n",
    "model.compile(loss='mean_squared_error', optimizer='adam', metrics =['mae','mse'])"
   ]
  },
  {
   "cell_type": "code",
   "execution_count": 203,
   "metadata": {
    "colab": {
     "base_uri": "https://localhost:8080/"
    },
    "executionInfo": {
     "elapsed": 6858,
     "status": "ok",
     "timestamp": 1617119842123,
     "user": {
      "displayName": "mame cheikh ngom",
      "photoUrl": "https://lh3.googleusercontent.com/a-/AOh14GgKFLv-u8xz77EeKXvbxCmgtPFdAHaJUZ7cIL0vmQ=s64",
      "userId": "05924235231913370852"
     },
     "user_tz": 0
    },
    "id": "R-5OPL4Sxi76",
    "outputId": "beb23386-e4fb-433b-fe52-1a06dae8ebe2",
    "scrolled": true
   },
   "outputs": [
    {
     "name": "stdout",
     "output_type": "stream",
     "text": [
      "Epoch 1/100\n",
      "37/37 [==============================] - 0s 5ms/step - loss: 4.2082 - mae: 1.4833 - mse: 4.2082 - val_loss: 3.2611 - val_mae: 1.2554 - val_mse: 3.2611\n",
      "Epoch 2/100\n",
      "37/37 [==============================] - 0s 2ms/step - loss: 3.2496 - mae: 1.2329 - mse: 3.2496 - val_loss: 2.0118 - val_mae: 0.9657 - val_mse: 2.0118\n",
      "Epoch 3/100\n",
      "37/37 [==============================] - 0s 2ms/step - loss: 2.2300 - mae: 0.9807 - mse: 2.2300 - val_loss: 1.4674 - val_mae: 0.8124 - val_mse: 1.4674\n",
      "Epoch 4/100\n",
      "37/37 [==============================] - 0s 2ms/step - loss: 1.3573 - mae: 0.7637 - mse: 1.3573 - val_loss: 1.1442 - val_mae: 0.7258 - val_mse: 1.1442\n",
      "Epoch 5/100\n",
      "37/37 [==============================] - 0s 2ms/step - loss: 0.9575 - mae: 0.6503 - mse: 0.9575 - val_loss: 0.9445 - val_mae: 0.6714 - val_mse: 0.9445\n",
      "Epoch 6/100\n",
      "37/37 [==============================] - 0s 2ms/step - loss: 0.9832 - mae: 0.6444 - mse: 0.9832 - val_loss: 0.8040 - val_mae: 0.6305 - val_mse: 0.8040\n",
      "Epoch 7/100\n",
      "37/37 [==============================] - 0s 2ms/step - loss: 0.8771 - mae: 0.6233 - mse: 0.8771 - val_loss: 0.7019 - val_mae: 0.6022 - val_mse: 0.7019\n",
      "Epoch 8/100\n",
      "37/37 [==============================] - 0s 2ms/step - loss: 0.7042 - mae: 0.5723 - mse: 0.7042 - val_loss: 0.6383 - val_mae: 0.5852 - val_mse: 0.6383\n",
      "Epoch 9/100\n",
      "37/37 [==============================] - 0s 2ms/step - loss: 0.8331 - mae: 0.6217 - mse: 0.8331 - val_loss: 0.5813 - val_mae: 0.5644 - val_mse: 0.5813\n",
      "Epoch 10/100\n",
      "37/37 [==============================] - 0s 2ms/step - loss: 0.7843 - mae: 0.5970 - mse: 0.7843 - val_loss: 0.5278 - val_mae: 0.5467 - val_mse: 0.5278\n",
      "Epoch 11/100\n",
      "37/37 [==============================] - 0s 2ms/step - loss: 0.6788 - mae: 0.5737 - mse: 0.6788 - val_loss: 0.4859 - val_mae: 0.5286 - val_mse: 0.4859\n",
      "Epoch 12/100\n",
      "37/37 [==============================] - 0s 2ms/step - loss: 0.7101 - mae: 0.5777 - mse: 0.7101 - val_loss: 0.4558 - val_mae: 0.5145 - val_mse: 0.4558\n",
      "Epoch 13/100\n",
      "37/37 [==============================] - 0s 2ms/step - loss: 0.6582 - mae: 0.5770 - mse: 0.6582 - val_loss: 0.4281 - val_mae: 0.5007 - val_mse: 0.4281\n",
      "Epoch 14/100\n",
      "37/37 [==============================] - 0s 2ms/step - loss: 0.6392 - mae: 0.5383 - mse: 0.6392 - val_loss: 0.4022 - val_mae: 0.4903 - val_mse: 0.4022\n",
      "Epoch 15/100\n",
      "37/37 [==============================] - 0s 2ms/step - loss: 0.5312 - mae: 0.5192 - mse: 0.5312 - val_loss: 0.3815 - val_mae: 0.4776 - val_mse: 0.3815\n",
      "Epoch 16/100\n",
      "37/37 [==============================] - 0s 2ms/step - loss: 0.5243 - mae: 0.4988 - mse: 0.5243 - val_loss: 0.3588 - val_mae: 0.4643 - val_mse: 0.3588\n",
      "Epoch 17/100\n",
      "37/37 [==============================] - 0s 2ms/step - loss: 0.5117 - mae: 0.5029 - mse: 0.5117 - val_loss: 0.3365 - val_mae: 0.4506 - val_mse: 0.3365\n",
      "Epoch 18/100\n",
      "37/37 [==============================] - 0s 2ms/step - loss: 0.4242 - mae: 0.4645 - mse: 0.4242 - val_loss: 0.3130 - val_mae: 0.4358 - val_mse: 0.3130\n",
      "Epoch 19/100\n",
      "37/37 [==============================] - 0s 2ms/step - loss: 0.4248 - mae: 0.4823 - mse: 0.4248 - val_loss: 0.2910 - val_mae: 0.4258 - val_mse: 0.2910\n",
      "Epoch 20/100\n",
      "37/37 [==============================] - 0s 2ms/step - loss: 0.4603 - mae: 0.4980 - mse: 0.4603 - val_loss: 0.2718 - val_mae: 0.4065 - val_mse: 0.2718\n",
      "Epoch 21/100\n",
      "37/37 [==============================] - 0s 2ms/step - loss: 0.4046 - mae: 0.4543 - mse: 0.4046 - val_loss: 0.2543 - val_mae: 0.3870 - val_mse: 0.2543\n",
      "Epoch 22/100\n",
      "37/37 [==============================] - 0s 2ms/step - loss: 0.5406 - mae: 0.4832 - mse: 0.5406 - val_loss: 0.2394 - val_mae: 0.3752 - val_mse: 0.2394\n",
      "Epoch 23/100\n",
      "37/37 [==============================] - 0s 2ms/step - loss: 0.3785 - mae: 0.4155 - mse: 0.3785 - val_loss: 0.2218 - val_mae: 0.3569 - val_mse: 0.2218\n",
      "Epoch 24/100\n",
      "37/37 [==============================] - 0s 2ms/step - loss: 0.3248 - mae: 0.3912 - mse: 0.3248 - val_loss: 0.2066 - val_mae: 0.3473 - val_mse: 0.2066\n",
      "Epoch 25/100\n",
      "37/37 [==============================] - 0s 2ms/step - loss: 0.3021 - mae: 0.4072 - mse: 0.3021 - val_loss: 0.1914 - val_mae: 0.3366 - val_mse: 0.1914\n",
      "Epoch 26/100\n",
      "37/37 [==============================] - 0s 2ms/step - loss: 0.3119 - mae: 0.3745 - mse: 0.3119 - val_loss: 0.1845 - val_mae: 0.3241 - val_mse: 0.1845\n",
      "Epoch 27/100\n",
      "37/37 [==============================] - 0s 2ms/step - loss: 0.2343 - mae: 0.3574 - mse: 0.2343 - val_loss: 0.1695 - val_mae: 0.3082 - val_mse: 0.1695\n",
      "Epoch 28/100\n",
      "37/37 [==============================] - 0s 2ms/step - loss: 0.2668 - mae: 0.3613 - mse: 0.2668 - val_loss: 0.1674 - val_mae: 0.3027 - val_mse: 0.1674\n",
      "Epoch 29/100\n",
      "37/37 [==============================] - 0s 2ms/step - loss: 0.2324 - mae: 0.3510 - mse: 0.2324 - val_loss: 0.1610 - val_mae: 0.2958 - val_mse: 0.1610\n",
      "Epoch 30/100\n",
      "37/37 [==============================] - 0s 2ms/step - loss: 0.2629 - mae: 0.3546 - mse: 0.2629 - val_loss: 0.1544 - val_mae: 0.2923 - val_mse: 0.1544\n",
      "Epoch 31/100\n",
      "37/37 [==============================] - 0s 2ms/step - loss: 0.2216 - mae: 0.3192 - mse: 0.2216 - val_loss: 0.1546 - val_mae: 0.2877 - val_mse: 0.1546\n",
      "Epoch 32/100\n",
      "37/37 [==============================] - 0s 2ms/step - loss: 0.1908 - mae: 0.3034 - mse: 0.1908 - val_loss: 0.1504 - val_mae: 0.2849 - val_mse: 0.1504\n",
      "Epoch 33/100\n",
      "37/37 [==============================] - 0s 2ms/step - loss: 0.2584 - mae: 0.3448 - mse: 0.2584 - val_loss: 0.1477 - val_mae: 0.2872 - val_mse: 0.1477\n",
      "Epoch 34/100\n",
      "37/37 [==============================] - 0s 2ms/step - loss: 0.1892 - mae: 0.2986 - mse: 0.1892 - val_loss: 0.1498 - val_mae: 0.2866 - val_mse: 0.1498\n",
      "Epoch 35/100\n",
      "37/37 [==============================] - 0s 2ms/step - loss: 0.2586 - mae: 0.3209 - mse: 0.2586 - val_loss: 0.1412 - val_mae: 0.2809 - val_mse: 0.1412\n",
      "Epoch 36/100\n",
      "37/37 [==============================] - 0s 2ms/step - loss: 0.2277 - mae: 0.3182 - mse: 0.2277 - val_loss: 0.1431 - val_mae: 0.2847 - val_mse: 0.1431\n",
      "Epoch 37/100\n",
      "37/37 [==============================] - 0s 2ms/step - loss: 0.2296 - mae: 0.2969 - mse: 0.2296 - val_loss: 0.1428 - val_mae: 0.2837 - val_mse: 0.1428\n",
      "Epoch 38/100\n",
      "37/37 [==============================] - 0s 2ms/step - loss: 0.1685 - mae: 0.2831 - mse: 0.1685 - val_loss: 0.1364 - val_mae: 0.2796 - val_mse: 0.1364\n",
      "Epoch 39/100\n",
      "37/37 [==============================] - 0s 2ms/step - loss: 0.1794 - mae: 0.2786 - mse: 0.1794 - val_loss: 0.1365 - val_mae: 0.2802 - val_mse: 0.1365\n",
      "Epoch 40/100\n",
      "37/37 [==============================] - 0s 2ms/step - loss: 0.1556 - mae: 0.2766 - mse: 0.1556 - val_loss: 0.1392 - val_mae: 0.2848 - val_mse: 0.1392\n",
      "Epoch 41/100\n",
      "37/37 [==============================] - 0s 2ms/step - loss: 0.2006 - mae: 0.3005 - mse: 0.2006 - val_loss: 0.1354 - val_mae: 0.2875 - val_mse: 0.1354\n",
      "Epoch 42/100\n",
      "37/37 [==============================] - 0s 2ms/step - loss: 0.1627 - mae: 0.2659 - mse: 0.1627 - val_loss: 0.1331 - val_mae: 0.2800 - val_mse: 0.1331\n",
      "Epoch 43/100\n",
      "37/37 [==============================] - 0s 2ms/step - loss: 0.1980 - mae: 0.2667 - mse: 0.1980 - val_loss: 0.1327 - val_mae: 0.2812 - val_mse: 0.1327\n",
      "Epoch 44/100\n",
      "37/37 [==============================] - 0s 2ms/step - loss: 0.2408 - mae: 0.2977 - mse: 0.2408 - val_loss: 0.1331 - val_mae: 0.2812 - val_mse: 0.1331\n",
      "Epoch 45/100\n",
      "37/37 [==============================] - 0s 2ms/step - loss: 0.1714 - mae: 0.2624 - mse: 0.1714 - val_loss: 0.1355 - val_mae: 0.2872 - val_mse: 0.1355\n",
      "Epoch 46/100\n",
      "37/37 [==============================] - 0s 2ms/step - loss: 0.1969 - mae: 0.2800 - mse: 0.1969 - val_loss: 0.1323 - val_mae: 0.2853 - val_mse: 0.1323\n",
      "Epoch 47/100\n",
      "37/37 [==============================] - 0s 2ms/step - loss: 0.1497 - mae: 0.2661 - mse: 0.1497 - val_loss: 0.1272 - val_mae: 0.2777 - val_mse: 0.1272\n",
      "Epoch 48/100\n",
      "37/37 [==============================] - 0s 2ms/step - loss: 0.2015 - mae: 0.2654 - mse: 0.2015 - val_loss: 0.1313 - val_mae: 0.2838 - val_mse: 0.1313\n",
      "Epoch 49/100\n",
      "37/37 [==============================] - 0s 2ms/step - loss: 0.2094 - mae: 0.2776 - mse: 0.2094 - val_loss: 0.1284 - val_mae: 0.2806 - val_mse: 0.1284\n",
      "Epoch 50/100\n",
      "37/37 [==============================] - 0s 2ms/step - loss: 0.1357 - mae: 0.2503 - mse: 0.1357 - val_loss: 0.1273 - val_mae: 0.2792 - val_mse: 0.1273\n",
      "Epoch 51/100\n"
     ]
    },
    {
     "name": "stdout",
     "output_type": "stream",
     "text": [
      "37/37 [==============================] - 0s 2ms/step - loss: 0.1674 - mae: 0.2546 - mse: 0.1674 - val_loss: 0.1256 - val_mae: 0.2796 - val_mse: 0.1256\n",
      "Epoch 52/100\n",
      "37/37 [==============================] - 0s 2ms/step - loss: 0.1564 - mae: 0.2701 - mse: 0.1564 - val_loss: 0.1261 - val_mae: 0.2818 - val_mse: 0.1261\n",
      "Epoch 53/100\n",
      "37/37 [==============================] - 0s 2ms/step - loss: 0.1272 - mae: 0.2484 - mse: 0.1272 - val_loss: 0.1252 - val_mae: 0.2806 - val_mse: 0.1252\n",
      "Epoch 54/100\n",
      "37/37 [==============================] - 0s 2ms/step - loss: 0.1716 - mae: 0.2610 - mse: 0.1716 - val_loss: 0.1258 - val_mae: 0.2829 - val_mse: 0.1258\n",
      "Epoch 55/100\n",
      "37/37 [==============================] - 0s 2ms/step - loss: 0.1271 - mae: 0.2418 - mse: 0.1271 - val_loss: 0.1240 - val_mae: 0.2811 - val_mse: 0.1240\n",
      "Epoch 56/100\n",
      "37/37 [==============================] - 0s 2ms/step - loss: 0.1663 - mae: 0.2744 - mse: 0.1663 - val_loss: 0.1209 - val_mae: 0.2771 - val_mse: 0.1209\n",
      "Epoch 57/100\n",
      "37/37 [==============================] - 0s 2ms/step - loss: 0.1346 - mae: 0.2497 - mse: 0.1346 - val_loss: 0.1265 - val_mae: 0.2824 - val_mse: 0.1265\n",
      "Epoch 58/100\n",
      "37/37 [==============================] - 0s 2ms/step - loss: 0.1697 - mae: 0.2698 - mse: 0.1697 - val_loss: 0.1244 - val_mae: 0.2825 - val_mse: 0.1244\n",
      "Epoch 59/100\n",
      "37/37 [==============================] - 0s 2ms/step - loss: 0.1308 - mae: 0.2456 - mse: 0.1308 - val_loss: 0.1203 - val_mae: 0.2762 - val_mse: 0.1203\n",
      "Epoch 60/100\n",
      "37/37 [==============================] - 0s 2ms/step - loss: 0.1316 - mae: 0.2449 - mse: 0.1316 - val_loss: 0.1248 - val_mae: 0.2833 - val_mse: 0.1248\n",
      "Epoch 61/100\n",
      "37/37 [==============================] - 0s 2ms/step - loss: 0.1419 - mae: 0.2580 - mse: 0.1419 - val_loss: 0.1233 - val_mae: 0.2819 - val_mse: 0.1233\n",
      "Epoch 62/100\n",
      "37/37 [==============================] - 0s 2ms/step - loss: 0.1229 - mae: 0.2379 - mse: 0.1229 - val_loss: 0.1271 - val_mae: 0.2876 - val_mse: 0.1271\n",
      "Epoch 63/100\n",
      "37/37 [==============================] - 0s 2ms/step - loss: 0.1132 - mae: 0.2376 - mse: 0.1132 - val_loss: 0.1212 - val_mae: 0.2785 - val_mse: 0.1212\n",
      "Epoch 64/100\n",
      "37/37 [==============================] - 0s 2ms/step - loss: 0.0943 - mae: 0.2237 - mse: 0.0943 - val_loss: 0.1191 - val_mae: 0.2732 - val_mse: 0.1191\n",
      "Epoch 65/100\n",
      "37/37 [==============================] - 0s 2ms/step - loss: 0.1215 - mae: 0.2363 - mse: 0.1215 - val_loss: 0.1224 - val_mae: 0.2826 - val_mse: 0.1224\n",
      "Epoch 66/100\n",
      "37/37 [==============================] - ETA: 0s - loss: 0.0243 - mae: 0.1358 - mse: 0.024 - 0s 2ms/step - loss: 0.1098 - mae: 0.2268 - mse: 0.1098 - val_loss: 0.1220 - val_mae: 0.2815 - val_mse: 0.1220\n",
      "Epoch 67/100\n",
      "37/37 [==============================] - 0s 2ms/step - loss: 0.1110 - mae: 0.2309 - mse: 0.1110 - val_loss: 0.1214 - val_mae: 0.2814 - val_mse: 0.1214\n",
      "Epoch 68/100\n",
      "37/37 [==============================] - 0s 2ms/step - loss: 0.1082 - mae: 0.2330 - mse: 0.1082 - val_loss: 0.1161 - val_mae: 0.2746 - val_mse: 0.1161\n",
      "Epoch 69/100\n",
      "37/37 [==============================] - 0s 2ms/step - loss: 0.1241 - mae: 0.2374 - mse: 0.1241 - val_loss: 0.1165 - val_mae: 0.2730 - val_mse: 0.1165\n",
      "Epoch 70/100\n",
      "37/37 [==============================] - 0s 2ms/step - loss: 0.1144 - mae: 0.2319 - mse: 0.1144 - val_loss: 0.1238 - val_mae: 0.2810 - val_mse: 0.1238\n",
      "Epoch 71/100\n",
      "37/37 [==============================] - 0s 2ms/step - loss: 0.1018 - mae: 0.2178 - mse: 0.1018 - val_loss: 0.1207 - val_mae: 0.2799 - val_mse: 0.1207\n",
      "Epoch 72/100\n",
      "37/37 [==============================] - 0s 2ms/step - loss: 0.1160 - mae: 0.2284 - mse: 0.1160 - val_loss: 0.1188 - val_mae: 0.2773 - val_mse: 0.1188\n",
      "Epoch 73/100\n",
      "37/37 [==============================] - 0s 2ms/step - loss: 0.1321 - mae: 0.2361 - mse: 0.1321 - val_loss: 0.1214 - val_mae: 0.2778 - val_mse: 0.1214\n",
      "Epoch 74/100\n",
      "37/37 [==============================] - 0s 2ms/step - loss: 0.0938 - mae: 0.2225 - mse: 0.0938 - val_loss: 0.1194 - val_mae: 0.2741 - val_mse: 0.1194\n",
      "Epoch 75/100\n",
      "37/37 [==============================] - 0s 2ms/step - loss: 0.1148 - mae: 0.2427 - mse: 0.1148 - val_loss: 0.1169 - val_mae: 0.2731 - val_mse: 0.1169\n",
      "Epoch 76/100\n",
      "37/37 [==============================] - 0s 2ms/step - loss: 0.1114 - mae: 0.2248 - mse: 0.1114 - val_loss: 0.1187 - val_mae: 0.2753 - val_mse: 0.1187\n",
      "Epoch 77/100\n",
      "37/37 [==============================] - 0s 2ms/step - loss: 0.1063 - mae: 0.2301 - mse: 0.1063 - val_loss: 0.1180 - val_mae: 0.2742 - val_mse: 0.1180\n",
      "Epoch 78/100\n",
      "37/37 [==============================] - 0s 2ms/step - loss: 0.1054 - mae: 0.2239 - mse: 0.1054 - val_loss: 0.1179 - val_mae: 0.2747 - val_mse: 0.1179\n",
      "Epoch 79/100\n",
      "37/37 [==============================] - 0s 2ms/step - loss: 0.1287 - mae: 0.2491 - mse: 0.1287 - val_loss: 0.1233 - val_mae: 0.2815 - val_mse: 0.1233\n",
      "Epoch 80/100\n",
      "37/37 [==============================] - 0s 2ms/step - loss: 0.1094 - mae: 0.2320 - mse: 0.1094 - val_loss: 0.1230 - val_mae: 0.2799 - val_mse: 0.1230\n",
      "Epoch 81/100\n",
      "37/37 [==============================] - 0s 2ms/step - loss: 0.1020 - mae: 0.2246 - mse: 0.1020 - val_loss: 0.1145 - val_mae: 0.2693 - val_mse: 0.1145\n",
      "Epoch 82/100\n",
      "37/37 [==============================] - 0s 2ms/step - loss: 0.1024 - mae: 0.2255 - mse: 0.1024 - val_loss: 0.1161 - val_mae: 0.2718 - val_mse: 0.1161\n",
      "Epoch 83/100\n",
      "37/37 [==============================] - 0s 2ms/step - loss: 0.1302 - mae: 0.2426 - mse: 0.1302 - val_loss: 0.1150 - val_mae: 0.2699 - val_mse: 0.1150\n",
      "Epoch 84/100\n",
      "37/37 [==============================] - 0s 2ms/step - loss: 0.1283 - mae: 0.2400 - mse: 0.1283 - val_loss: 0.1207 - val_mae: 0.2784 - val_mse: 0.1207\n",
      "Epoch 85/100\n",
      "37/37 [==============================] - 0s 2ms/step - loss: 0.1078 - mae: 0.2271 - mse: 0.1078 - val_loss: 0.1183 - val_mae: 0.2723 - val_mse: 0.1183\n",
      "Epoch 86/100\n",
      "37/37 [==============================] - 0s 2ms/step - loss: 0.0976 - mae: 0.2219 - mse: 0.0976 - val_loss: 0.1218 - val_mae: 0.2737 - val_mse: 0.1218\n",
      "Epoch 87/100\n",
      "37/37 [==============================] - 0s 2ms/step - loss: 0.0992 - mae: 0.2147 - mse: 0.0992 - val_loss: 0.1227 - val_mae: 0.2785 - val_mse: 0.1227\n",
      "Epoch 88/100\n",
      "37/37 [==============================] - 0s 2ms/step - loss: 0.0982 - mae: 0.2139 - mse: 0.0982 - val_loss: 0.1167 - val_mae: 0.2701 - val_mse: 0.1167\n",
      "Epoch 89/100\n",
      "37/37 [==============================] - 0s 2ms/step - loss: 0.1013 - mae: 0.2227 - mse: 0.1013 - val_loss: 0.1286 - val_mae: 0.2840 - val_mse: 0.1286\n",
      "Epoch 90/100\n",
      "37/37 [==============================] - 0s 2ms/step - loss: 0.1374 - mae: 0.2463 - mse: 0.1374 - val_loss: 0.1224 - val_mae: 0.2771 - val_mse: 0.1224\n",
      "Epoch 91/100\n",
      "37/37 [==============================] - 0s 2ms/step - loss: 0.1059 - mae: 0.2282 - mse: 0.1059 - val_loss: 0.1165 - val_mae: 0.2715 - val_mse: 0.1165\n",
      "Epoch 92/100\n",
      "37/37 [==============================] - 0s 2ms/step - loss: 0.1193 - mae: 0.2342 - mse: 0.1193 - val_loss: 0.1241 - val_mae: 0.2775 - val_mse: 0.1241\n",
      "Epoch 93/100\n",
      "37/37 [==============================] - 0s 2ms/step - loss: 0.0941 - mae: 0.2202 - mse: 0.0941 - val_loss: 0.1199 - val_mae: 0.2729 - val_mse: 0.1199\n",
      "Epoch 94/100\n",
      "37/37 [==============================] - 0s 2ms/step - loss: 0.1007 - mae: 0.2247 - mse: 0.1007 - val_loss: 0.1169 - val_mae: 0.2700 - val_mse: 0.1169\n",
      "Epoch 95/100\n",
      "37/37 [==============================] - 0s 2ms/step - loss: 0.0871 - mae: 0.2096 - mse: 0.0871 - val_loss: 0.1179 - val_mae: 0.2702 - val_mse: 0.1179\n",
      "Epoch 96/100\n",
      "37/37 [==============================] - 0s 2ms/step - loss: 0.1091 - mae: 0.2280 - mse: 0.1091 - val_loss: 0.1204 - val_mae: 0.2720 - val_mse: 0.1204\n",
      "Epoch 97/100\n",
      "37/37 [==============================] - 0s 2ms/step - loss: 0.0825 - mae: 0.2073 - mse: 0.0825 - val_loss: 0.1235 - val_mae: 0.2754 - val_mse: 0.1235\n",
      "Epoch 98/100\n",
      "37/37 [==============================] - 0s 2ms/step - loss: 0.1023 - mae: 0.2412 - mse: 0.1023 - val_loss: 0.1218 - val_mae: 0.2727 - val_mse: 0.1218\n",
      "Epoch 99/100\n",
      "37/37 [==============================] - 0s 2ms/step - loss: 0.0942 - mae: 0.2231 - mse: 0.0942 - val_loss: 0.1258 - val_mae: 0.2768 - val_mse: 0.1258\n",
      "Epoch 100/100\n",
      "37/37 [==============================] - 0s 2ms/step - loss: 0.0924 - mae: 0.2130 - mse: 0.0924 - val_loss: 0.1176 - val_mae: 0.2647 - val_mse: 0.1176\n"
     ]
    }
   ],
   "source": [
    "# fit model\n",
    "history = model.fit(X_train, Y_train, validation_split=0.1, batch_size=10, epochs=100)"
   ]
  },
  {
   "cell_type": "code",
   "execution_count": 248,
   "metadata": {},
   "outputs": [
    {
     "name": "stdout",
     "output_type": "stream",
     "text": [
      "4/4 [==============================] - 0s 2ms/step - loss: 0.1392 - mae: 0.2762 - mse: 0.1392\n",
      "loss  :  0.13917776942253113\n",
      "mae  :  0.2761610746383667\n",
      "mse  :  0.13917776942253113\n"
     ]
    }
   ],
   "source": [
    "# Evaluation du modele\n",
    "\n",
    "results= model.evaluate(X_test, Y_test )\n",
    "for i in range(len(model.metrics_names)):\n",
    "      print(model.metrics_names[i],\" : \", results[i])"
   ]
  },
  {
   "cell_type": "markdown",
   "metadata": {},
   "source": [
    "### Visualisation de la fonction cout pour les donnees d'apprentissage et de validation"
   ]
  },
  {
   "cell_type": "code",
   "execution_count": 212,
   "metadata": {},
   "outputs": [
    {
     "data": {
      "text/plain": [
       "<matplotlib.legend.Legend at 0x7f5a9519fe80>"
      ]
     },
     "execution_count": 212,
     "metadata": {},
     "output_type": "execute_result"
    },
    {
     "data": {
      "image/png": "[encoded data removed]",
      "text/plain": [
       "<Figure size 432x288 with 1 Axes>"
      ]
     },
     "metadata": {
      "needs_background": "light"
     },
     "output_type": "display_data"
    }
   ],
   "source": [
    "# plot loss during training\n",
    "pyplot.subplot(211)\n",
    "pyplot.title('Loss')\n",
    "pyplot.plot(history.history['loss'], label='train')\n",
    "pyplot.plot(history.history['val_loss'], label='val')\n",
    "pyplot.legend()"
   ]
  },
  {
   "cell_type": "markdown",
   "metadata": {},
   "source": [
    "### Visualisation des différences entre les prix réels et les valeurs prédites"
   ]
  },
  {
   "cell_type": "code",
   "execution_count": 259,
   "metadata": {},
   "outputs": [
    {
     "data": {
      "image/png": "[encoded data removed]",
      "text/plain": [
       "<Figure size 432x288 with 1 Axes>"
      ]
     },
     "metadata": {
      "needs_background": "light"
     },
     "output_type": "display_data"
    }
   ],
   "source": [
    "y_pred = model.predict(X_test)\n",
    "\n",
    "plt.scatter(y_test, y_pred)\n",
    "plt.xlabel(\"Prices\")\n",
    "plt.ylabel(\"Predicted prices\")\n",
    "plt.title(\"Prices vs Predicted prices\")\n",
    "plt.show()"
   ]
  },
  {
   "cell_type": "markdown",
   "metadata": {},
   "source": [
    ">* Nous remarquons que entre la valeur prédite par le modèle et la valeur réelle il y'a une forte correlation et nous avons obtenu une erreur d'environ 13%.\n",
    ">* Cependant, aucours de nos investigations nous avons constaté une instabilité au niveau du modèle, car à chaque simulation nous obtenons une variation de l'erreur. Ceci pourrait être due à la taille de notre dataset (506 lignes et 14 colonnes)."
   ]
  },
  {
   "cell_type": "markdown",
   "metadata": {},
   "source": [
    ">* Dans le but de resoudre ce probleme et de guarantie une plus grande fiabilité du modèle, nous étudierons par la suite certains modèles de machine Learnig a savoir: Regression lineaire et 'Random Forest'."
   ]
  },
  {
   "cell_type": "markdown",
   "metadata": {},
   "source": [
    "## Autre approche"
   ]
  },
  {
   "cell_type": "markdown",
   "metadata": {},
   "source": [
    ">* En plus des deux métriques mentionnées ci dessus, nous allons utiliser la métrique 'coéfficient de détermination' nomée $R^2$."
   ]
  },
  {
   "cell_type": "markdown",
   "metadata": {},
   "source": [
    "### Regression lineaire"
   ]
  },
  {
   "cell_type": "code",
   "execution_count": 224,
   "metadata": {},
   "outputs": [
    {
     "data": {
      "text/plain": [
       "LinearRegression()"
      ]
     },
     "execution_count": 224,
     "metadata": {},
     "output_type": "execute_result"
    }
   ],
   "source": [
    "from sklearn.ensemble import RandomForestRegressor\n",
    "from sklearn import metrics\n",
    "from sklearn.linear_model import LinearRegression\n",
    "\n",
    "# Create a Linear regressor\n",
    "lm = LinearRegression()\n",
    "\n",
    "# Train the model using the training sets \n",
    "lm.fit(X_train, Y_train)"
   ]
  },
  {
   "cell_type": "code",
   "execution_count": 225,
   "metadata": {},
   "outputs": [],
   "source": [
    "# Model prediction on train data\n",
    "y_pred = lm.predict(X_test)"
   ]
  },
  {
   "cell_type": "code",
   "execution_count": 226,
   "metadata": {},
   "outputs": [
    {
     "name": "stdout",
     "output_type": "stream",
     "text": [
      "R^2: 0.722254912738295\n",
      "MAE: 0.37735483054495095\n",
      "MSE: 0.2380604117751705\n"
     ]
    }
   ],
   "source": [
    "#Evaluation du modele\n",
    "print('R^2:',metrics.r2_score(Y_test, y_pred))\n",
    "print('MAE:',metrics.mean_absolute_error(Y_test, y_pred))\n",
    "print('MSE:',metrics.mean_squared_error(Y_test, y_pred))"
   ]
  },
  {
   "cell_type": "markdown",
   "metadata": {},
   "source": [
    "### Visualisation des différences entre les prix réels et les valeurs prédites"
   ]
  },
  {
   "cell_type": "code",
   "execution_count": 256,
   "metadata": {},
   "outputs": [
    {
     "data": {
      "image/png": "[encoded data removed]",
      "text/plain": [
       "<Figure size 432x288 with 1 Axes>"
      ]
     },
     "metadata": {
      "needs_background": "light"
     },
     "output_type": "display_data"
    }
   ],
   "source": [
    "plt.scatter(y_test, y_pred)\n",
    "plt.xlabel(\"Prices\")\n",
    "plt.ylabel(\"Predicted prices\")\n",
    "plt.title(\"Prices vs Predicted prices\")\n",
    "plt.show()"
   ]
  },
  {
   "cell_type": "markdown",
   "metadata": {},
   "source": [
    ">* Avec le modèle de regression lineaire, le score $R^2$ est de 72% pour les données de test avec un 'mse' de 23%. Ce score est peu appreciable car l'erreur est grande et par conséquent le modèle a du mal à faire de bonnes prédictions."
   ]
  },
  {
   "cell_type": "markdown",
   "metadata": {},
   "source": [
    "### Random forest"
   ]
  },
  {
   "cell_type": "code",
   "execution_count": 227,
   "metadata": {},
   "outputs": [
    {
     "data": {
      "text/plain": [
       "RandomForestRegressor(max_depth=13, max_features=8, n_estimators=30,\n",
       "                      random_state=0)"
      ]
     },
     "execution_count": 227,
     "metadata": {},
     "output_type": "execute_result"
    }
   ],
   "source": [
    "# Create a Random Forest Regressor\n",
    "RF = RandomForestRegressor(n_estimators= 30 , max_features= 8 ,max_depth=13, random_state=0)\n",
    "\n",
    "# Train the model using the training sets \n",
    "RF.fit(X_train, Y_train)"
   ]
  },
  {
   "cell_type": "code",
   "execution_count": 228,
   "metadata": {},
   "outputs": [],
   "source": [
    "y_test_pred = RF.predict(X_test)"
   ]
  },
  {
   "cell_type": "code",
   "execution_count": 229,
   "metadata": {},
   "outputs": [
    {
     "name": "stdout",
     "output_type": "stream",
     "text": [
      "R^2: 0.8733244849621566\n",
      "MAE: 0.2387081581301219\n",
      "MSE: 0.10857590882724034\n"
     ]
    }
   ],
   "source": [
    "acc_rf = metrics.r2_score(Y_test, y_test_pred)\n",
    "print('R^2:', acc_rf)\n",
    "print('MAE:',metrics.mean_absolute_error(Y_test, y_test_pred))\n",
    "print('MSE:',metrics.mean_squared_error(Y_test, y_test_pred))"
   ]
  },
  {
   "cell_type": "code",
   "execution_count": 257,
   "metadata": {},
   "outputs": [
    {
     "data": {
      "image/png": "[encoded data removed]",
      "text/plain": [
       "<Figure size 432x288 with 1 Axes>"
      ]
     },
     "metadata": {
      "needs_background": "light"
     },
     "output_type": "display_data"
    }
   ],
   "source": [
    "plt.scatter(y_test, y_test_pred)\n",
    "plt.xlabel(\"Prices\")\n",
    "plt.ylabel(\"Predicted prices\")\n",
    "plt.title(\"Prices vs Predicted prices\")\n",
    "plt.show()"
   ]
  },
  {
   "cell_type": "markdown",
   "metadata": {},
   "source": [
    ">* Avec le 'Random Forest', le score pour les données de test est d'environ 87% avec un 'mse' de 10.8%, ce qui est élévé par rapport au score obtenu avec le modèle de regression lineaire."
   ]
  },
  {
   "cell_type": "markdown",
   "metadata": {},
   "source": [
    "## Recapitulatif des modèles"
   ]
  },
  {
   "cell_type": "code",
   "execution_count": 252,
   "metadata": {},
   "outputs": [
    {
     "data": {
      "text/html": [
       "<div>\n",
       "<style scoped>\n",
       "    .dataframe tbody tr th:only-of-type {\n",
       "        vertical-align: middle;\n",
       "    }\n",
       "\n",
       "    .dataframe tbody tr th {\n",
       "        vertical-align: top;\n",
       "    }\n",
       "\n",
       "    .dataframe thead th {\n",
       "        text-align: right;\n",
       "    }\n",
       "</style>\n",
       "<table border=\"1\" class=\"dataframe\">\n",
       "  <thead>\n",
       "    <tr style=\"text-align: right;\">\n",
       "      <th></th>\n",
       "      <th>Model</th>\n",
       "      <th>mse(%)</th>\n",
       "    </tr>\n",
       "  </thead>\n",
       "  <tbody>\n",
       "    <tr>\n",
       "      <th>1</th>\n",
       "      <td>Random Forest</td>\n",
       "      <td>10.857591</td>\n",
       "    </tr>\n",
       "    <tr>\n",
       "      <th>2</th>\n",
       "      <td>Reseaux de neurones</td>\n",
       "      <td>13.917777</td>\n",
       "    </tr>\n",
       "    <tr>\n",
       "      <th>0</th>\n",
       "      <td>Linear Regression</td>\n",
       "      <td>23.806041</td>\n",
       "    </tr>\n",
       "  </tbody>\n",
       "</table>\n",
       "</div>"
      ],
      "text/plain": [
       "                 Model     mse(%)\n",
       "1        Random Forest  10.857591\n",
       "2  Reseaux de neurones  13.917777\n",
       "0    Linear Regression  23.806041"
      ]
     },
     "execution_count": 252,
     "metadata": {},
     "output_type": "execute_result"
    }
   ],
   "source": [
    "models = pd.DataFrame({\n",
    "    'Model': ['Linear Regression', 'Random Forest','Reseaux de neurones'],\n",
    "    'mse(%)': [metrics.mean_squared_error(Y_test, y_pred)*100, metrics.mean_squared_error(Y_test, y_test_pred)*100, results[2]*100]})\n",
    "models.sort_values(by='mse(%)', ascending=True)\n"
   ]
  },
  {
   "cell_type": "markdown",
   "metadata": {},
   "source": [
    "### CONCLUSION"
   ]
  },
  {
   "cell_type": "markdown",
   "metadata": {},
   "source": [
    ">* En somme, nous avons eu pour objectif principale de construire un modèle capable de prédire les prix de maisons. Il en ressort au regard de notre travail que le modèle le plus précis que nous avons obtenu est celui utilisant le 'Random Forest'.Car son erreur ('mse') est la plus faible et il nous a donné un score d'environ 87%."
   ]
  },
  {
   "cell_type": "code",
   "execution_count": null,
   "metadata": {},
   "outputs": [],
   "source": []
  }
 ],
 "metadata": {
  "colab": {
   "name": "nouveau.ipynb",
   "provenance": []
  },
  "kernelspec": {
   "display_name": "Python 3",
   "language": "python",
   "name": "python3"
  },
  "language_info": {
   "codemirror_mode": {
    "name": "ipython",
    "version": 3
   },
   "file_extension": ".py",
   "mimetype": "text/x-python",
   "name": "python",
   "nbconvert_exporter": "python",
   "pygments_lexer": "ipython3",
   "version": "3.8.5"
  }
 },
 "nbformat": 4,
 "nbformat_minor": 1
}
