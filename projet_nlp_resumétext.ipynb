{
 "cells": [
  {
   "cell_type": "markdown",
   "metadata": {},
   "source": [
    "<center><h1>GROUP 6 </h1></center>"
   ]
  },
  {
   "cell_type": "markdown",
   "metadata": {},
   "source": [
    "<center><h1><u> NLP PROJECT</u></h1></center>"
   ]
  },
  {
   "cell_type": "markdown",
   "metadata": {},
   "source": [
    "# INTRODUCTION"
   ]
  },
  {
   "cell_type": "markdown",
   "metadata": {},
   "source": [
    "L'objectif de ce projet est de construire un modèle capable de créer des résumés pertinents pour les documents français. \n",
    "\n",
    "a. Description: http://juanmanuel.torres.free.fr/corpus/rpm2/rpm2_resumes_fr.html\n",
    "\n",
    "b. Dataset: http://juanmanuel.torres.free.fr/corpus/rpm2/download_resumes_fr.html"
   ]
  },
  {
   "cell_type": "markdown",
   "metadata": {},
   "source": [
    "## Importation des librairies necessaires"
   ]
  },
  {
   "cell_type": "code",
   "execution_count": 1,
   "metadata": {},
   "outputs": [],
   "source": [
    "import nltk\n",
    "from nltk.corpus import stopwords\n",
    "from nltk.cluster.util import cosine_distance\n",
    "import numpy as np\n",
    "import networkx as nx\n",
    "import pandas as pd\n",
    "import matplotlib.pyplot as plt\n",
    "import glob\n",
    "import re\n",
    "import heapq\n",
    "from string import punctuation"
   ]
  },
  {
   "cell_type": "code",
   "execution_count": 2,
   "metadata": {},
   "outputs": [
    {
     "data": {
      "text/plain": [
       "400"
      ]
     },
     "execution_count": 2,
     "metadata": {},
     "output_type": "execute_result"
    }
   ],
   "source": [
    "path = \"/home/aimssn/Téléchargements/NLP/Projet_nlp/Corpus_RPM2_resume/Corpus_RPM2_documents/\"\n",
    "filenames = sorted(glob.glob(path + \"/*.txt\"))\n",
    "len(filenames)"
   ]
  },
  {
   "cell_type": "markdown",
   "metadata": {},
   "source": [
    "## Exemple de text"
   ]
  },
  {
   "cell_type": "code",
   "execution_count": 3,
   "metadata": {
    "scrolled": true
   },
   "outputs": [
    {
     "name": "stdout",
     "output_type": "stream",
     "text": [
      "﻿Libération d'Ingrid Betancourt: «Cesar» nie avoir trahi les Farc\n",
      "L'homme chargé de la surveillance de l'ex-otage assure qu'il n'a pas trahi les Forces Armées Révolutionnaires de Colombie (Farc) contrairement aux accusations de la guerilla.\n",
      "L'un des deux guérilleros des Farc capturés le 2 juillet lors de l'opération militaire de libération d'Ingrid Betancourt et de 14 autres otages a nié hier avoir trahi ses anciens compagnons.\n",
      "Dans sa déclaration transmise à la justice, le guérillero \"assure qu'à aucun moment il n'a trahi les Farc, et que tout le monde sait que la libération des 15 otages est le fruit d'une opération de renseignement militaire poussée, surtout dans l'interception des communications téléphoniques\", a indiqué l'avocat.\n",
      "L'opération de libération des otages, attribuée par le gouvernement colombien à une \"opération de renseignement militaire impeccable\", a permis d'arrêter les deux principaux responsables des Farc chargés de surveiller les otages, Gerardo Aguilar et Alexander Farfan, alias \"Enrique gafas \".\n",
      "\"La fuite des 15 prisonniers de guerre, le mercredi 2 juillet, a été la conséquence directe de la conduite méprisable de Cesar et d'Enrique qui ont trahi leur engagement révolutionnaire et la confiance qui leur a été accordée\", ont affirmé les Farc dans un communiqué daté du 5 juillet.\n",
      "Les deux guérilleros, qui ont également démenti avoir reçu de l'argent du gouvernement colombien, ont déjà fait l'objet de demandes d'extradition par les Etats-Unis, qui les accuse de l'enlèvement des trois citoyens américains Marc Gonsalves, Thomas Howes et Keith Stansell, retenus durant cinq ans et quatre mois. \n",
      "Le ministre colombien de la Défense Juan Manuel Santos a estimé samedi 12 juillet, qu'\"au lieu d'accepter la défaite avec dignité, les Farc rejettent leurs propres hommes\".\n"
     ]
    }
   ],
   "source": [
    "f = open(filenames[0],'r')\n",
    "contents = f.read()\n",
    "print(contents)"
   ]
  },
  {
   "cell_type": "markdown",
   "metadata": {},
   "source": [
    "## Mettre les 400 fichiers dans un DataFrame."
   ]
  },
  {
   "cell_type": "code",
   "execution_count": 4,
   "metadata": {},
   "outputs": [
    {
     "data": {
      "text/html": [
       "<div>\n",
       "<style scoped>\n",
       "    .dataframe tbody tr th:only-of-type {\n",
       "        vertical-align: middle;\n",
       "    }\n",
       "\n",
       "    .dataframe tbody tr th {\n",
       "        vertical-align: top;\n",
       "    }\n",
       "\n",
       "    .dataframe thead th {\n",
       "        text-align: right;\n",
       "    }\n",
       "</style>\n",
       "<table border=\"1\" class=\"dataframe\">\n",
       "  <thead>\n",
       "    <tr style=\"text-align: right;\">\n",
       "      <th></th>\n",
       "      <th>text</th>\n",
       "    </tr>\n",
       "  </thead>\n",
       "  <tbody>\n",
       "    <tr>\n",
       "      <th>0</th>\n",
       "      <td>﻿Libération d'Ingrid Betancourt: «Cesar» nie a...</td>\n",
       "    </tr>\n",
       "    <tr>\n",
       "      <th>1</th>\n",
       "      <td>Betancourt: «L'opération a été impeccable» \\n«...</td>\n",
       "    </tr>\n",
       "    <tr>\n",
       "      <th>2</th>\n",
       "      <td>﻿La libération d'Ingrid Betancourt continue de...</td>\n",
       "    </tr>\n",
       "    <tr>\n",
       "      <th>3</th>\n",
       "      <td>﻿Ingrid Betancourt est libre\\nL'armée colombie...</td>\n",
       "    </tr>\n",
       "    <tr>\n",
       "      <th>4</th>\n",
       "      <td>﻿Ingrid Betancourt : questions sur une libérat...</td>\n",
       "    </tr>\n",
       "    <tr>\n",
       "      <th>...</th>\n",
       "      <td>...</td>\n",
       "    </tr>\n",
       "    <tr>\n",
       "      <th>395</th>\n",
       "      <td>La Chine multiplie les accusations contre le d...</td>\n",
       "    </tr>\n",
       "    <tr>\n",
       "      <th>396</th>\n",
       "      <td>Les touristes français se détournent de la Chi...</td>\n",
       "    </tr>\n",
       "    <tr>\n",
       "      <th>397</th>\n",
       "      <td>Selon Amnesty, la répression en Chine s'est ag...</td>\n",
       "    </tr>\n",
       "    <tr>\n",
       "      <th>398</th>\n",
       "      <td>Tibet - Des moines perturbent une visite de pr...</td>\n",
       "    </tr>\n",
       "    <tr>\n",
       "      <th>399</th>\n",
       "      <td>Tibet: les émeutes ont fait 203 morts, selon l...</td>\n",
       "    </tr>\n",
       "  </tbody>\n",
       "</table>\n",
       "<p>400 rows × 1 columns</p>\n",
       "</div>"
      ],
      "text/plain": [
       "                                                  text\n",
       "0    ﻿Libération d'Ingrid Betancourt: «Cesar» nie a...\n",
       "1    Betancourt: «L'opération a été impeccable» \\n«...\n",
       "2    ﻿La libération d'Ingrid Betancourt continue de...\n",
       "3    ﻿Ingrid Betancourt est libre\\nL'armée colombie...\n",
       "4    ﻿Ingrid Betancourt : questions sur une libérat...\n",
       "..                                                 ...\n",
       "395  La Chine multiplie les accusations contre le d...\n",
       "396  Les touristes français se détournent de la Chi...\n",
       "397  Selon Amnesty, la répression en Chine s'est ag...\n",
       "398  Tibet - Des moines perturbent une visite de pr...\n",
       "399  Tibet: les émeutes ont fait 203 morts, selon l...\n",
       "\n",
       "[400 rows x 1 columns]"
      ]
     },
     "execution_count": 4,
     "metadata": {},
     "output_type": "execute_result"
    }
   ],
   "source": [
    "table = []\n",
    "for f in filenames:\n",
    "    t=\"\"\"\"\"\"\n",
    "    text = open(f, \"r\", encoding=\"utf8\")\n",
    "    for line in text.readlines():\n",
    "        t+=line\n",
    "    text.close()\n",
    "    table.append(t)\n",
    "    \n",
    "text = pd.DataFrame(table)\n",
    "text.columns=['text']\n",
    "text"
   ]
  },
  {
   "cell_type": "markdown",
   "metadata": {},
   "source": [
    "## Data Preprocessing"
   ]
  },
  {
   "cell_type": "markdown",
   "metadata": {},
   "source": [
    "### Detection de la langue du texte"
   ]
  },
  {
   "cell_type": "code",
   "execution_count": 5,
   "metadata": {},
   "outputs": [
    {
     "name": "stdout",
     "output_type": "stream",
     "text": [
      "La langue est:  fr\n"
     ]
    }
   ],
   "source": [
    "from langdetect import detect\n",
    "lang = detect(contents)\n",
    "print(\"La langue est: \", lang)"
   ]
  },
  {
   "cell_type": "markdown",
   "metadata": {},
   "source": [
    "### Suppression des caractères speciaux"
   ]
  },
  {
   "cell_type": "code",
   "execution_count": 6,
   "metadata": {},
   "outputs": [],
   "source": [
    "\n",
    "def clean_text(text):\n",
    "    row = re.sub(r\"\\\\\", \" \" ,text, flags=re.DOTALL)\n",
    "    row = re.sub(r\"\\([^()]*\\)\", \" \", row,flags=re.DOTALL) \n",
    "    row = re.sub(r\"\\n\", \" \", row,flags=re.DOTALL)\n",
    "    return row"
   ]
  },
  {
   "cell_type": "code",
   "execution_count": 7,
   "metadata": {},
   "outputs": [
    {
     "data": {
      "text/html": [
       "<div>\n",
       "<style scoped>\n",
       "    .dataframe tbody tr th:only-of-type {\n",
       "        vertical-align: middle;\n",
       "    }\n",
       "\n",
       "    .dataframe tbody tr th {\n",
       "        vertical-align: top;\n",
       "    }\n",
       "\n",
       "    .dataframe thead th {\n",
       "        text-align: right;\n",
       "    }\n",
       "</style>\n",
       "<table border=\"1\" class=\"dataframe\">\n",
       "  <thead>\n",
       "    <tr style=\"text-align: right;\">\n",
       "      <th></th>\n",
       "      <th>text</th>\n",
       "      <th>text_clean1</th>\n",
       "    </tr>\n",
       "  </thead>\n",
       "  <tbody>\n",
       "    <tr>\n",
       "      <th>0</th>\n",
       "      <td>﻿Libération d'Ingrid Betancourt: «Cesar» nie a...</td>\n",
       "      <td>﻿Libération d'Ingrid Betancourt: «Cesar» nie a...</td>\n",
       "    </tr>\n",
       "    <tr>\n",
       "      <th>1</th>\n",
       "      <td>Betancourt: «L'opération a été impeccable» \\n«...</td>\n",
       "      <td>Betancourt: «L'opération a été impeccable»  «L...</td>\n",
       "    </tr>\n",
       "    <tr>\n",
       "      <th>2</th>\n",
       "      <td>﻿La libération d'Ingrid Betancourt continue de...</td>\n",
       "      <td>﻿La libération d'Ingrid Betancourt continue de...</td>\n",
       "    </tr>\n",
       "    <tr>\n",
       "      <th>3</th>\n",
       "      <td>﻿Ingrid Betancourt est libre\\nL'armée colombie...</td>\n",
       "      <td>﻿Ingrid Betancourt est libre L'armée colombien...</td>\n",
       "    </tr>\n",
       "    <tr>\n",
       "      <th>4</th>\n",
       "      <td>﻿Ingrid Betancourt : questions sur une libérat...</td>\n",
       "      <td>﻿Ingrid Betancourt : questions sur une libérat...</td>\n",
       "    </tr>\n",
       "    <tr>\n",
       "      <th>...</th>\n",
       "      <td>...</td>\n",
       "      <td>...</td>\n",
       "    </tr>\n",
       "    <tr>\n",
       "      <th>395</th>\n",
       "      <td>La Chine multiplie les accusations contre le d...</td>\n",
       "      <td>La Chine multiplie les accusations contre le d...</td>\n",
       "    </tr>\n",
       "    <tr>\n",
       "      <th>396</th>\n",
       "      <td>Les touristes français se détournent de la Chi...</td>\n",
       "      <td>Les touristes français se détournent de la Chi...</td>\n",
       "    </tr>\n",
       "    <tr>\n",
       "      <th>397</th>\n",
       "      <td>Selon Amnesty, la répression en Chine s'est ag...</td>\n",
       "      <td>Selon Amnesty, la répression en Chine s'est ag...</td>\n",
       "    </tr>\n",
       "    <tr>\n",
       "      <th>398</th>\n",
       "      <td>Tibet - Des moines perturbent une visite de pr...</td>\n",
       "      <td>Tibet - Des moines perturbent une visite de pr...</td>\n",
       "    </tr>\n",
       "    <tr>\n",
       "      <th>399</th>\n",
       "      <td>Tibet: les émeutes ont fait 203 morts, selon l...</td>\n",
       "      <td>Tibet: les émeutes ont fait 203 morts, selon l...</td>\n",
       "    </tr>\n",
       "  </tbody>\n",
       "</table>\n",
       "<p>400 rows × 2 columns</p>\n",
       "</div>"
      ],
      "text/plain": [
       "                                                  text  \\\n",
       "0    ﻿Libération d'Ingrid Betancourt: «Cesar» nie a...   \n",
       "1    Betancourt: «L'opération a été impeccable» \\n«...   \n",
       "2    ﻿La libération d'Ingrid Betancourt continue de...   \n",
       "3    ﻿Ingrid Betancourt est libre\\nL'armée colombie...   \n",
       "4    ﻿Ingrid Betancourt : questions sur une libérat...   \n",
       "..                                                 ...   \n",
       "395  La Chine multiplie les accusations contre le d...   \n",
       "396  Les touristes français se détournent de la Chi...   \n",
       "397  Selon Amnesty, la répression en Chine s'est ag...   \n",
       "398  Tibet - Des moines perturbent une visite de pr...   \n",
       "399  Tibet: les émeutes ont fait 203 morts, selon l...   \n",
       "\n",
       "                                           text_clean1  \n",
       "0    ﻿Libération d'Ingrid Betancourt: «Cesar» nie a...  \n",
       "1    Betancourt: «L'opération a été impeccable»  «L...  \n",
       "2    ﻿La libération d'Ingrid Betancourt continue de...  \n",
       "3    ﻿Ingrid Betancourt est libre L'armée colombien...  \n",
       "4    ﻿Ingrid Betancourt : questions sur une libérat...  \n",
       "..                                                 ...  \n",
       "395  La Chine multiplie les accusations contre le d...  \n",
       "396  Les touristes français se détournent de la Chi...  \n",
       "397  Selon Amnesty, la répression en Chine s'est ag...  \n",
       "398  Tibet - Des moines perturbent une visite de pr...  \n",
       "399  Tibet: les émeutes ont fait 203 morts, selon l...  \n",
       "\n",
       "[400 rows x 2 columns]"
      ]
     },
     "execution_count": 7,
     "metadata": {},
     "output_type": "execute_result"
    }
   ],
   "source": [
    "# Application de la fonction 'clean_text' à chaque ligne du Dataframe\n",
    "text['text_clean1']=text['text'].map(lambda X: clean_text(X))\n",
    "text"
   ]
  },
  {
   "cell_type": "code",
   "execution_count": 8,
   "metadata": {},
   "outputs": [],
   "source": [
    "# print(text['text_clean1'][0])"
   ]
  },
  {
   "cell_type": "markdown",
   "metadata": {},
   "source": [
    "### Analyse de la frequence des mots dans le texte"
   ]
  },
  {
   "cell_type": "code",
   "execution_count": 9,
   "metadata": {
    "scrolled": true
   },
   "outputs": [
    {
     "data": {
      "text/plain": [
       "Text(0, 0.5, 'Probability')"
      ]
     },
     "execution_count": 9,
     "metadata": {},
     "output_type": "execute_result"
    },
    {
     "data": {
      "image/png": "[encoded data removed]",
      "text/plain": [
       "<Figure size 432x288 with 1 Axes>"
      ]
     },
     "metadata": {
      "needs_background": "light"
     },
     "output_type": "display_data"
    }
   ],
   "source": [
    "review_lens = text['text_clean1'].map(lambda x: len(x.split()))\n",
    "n, bins, patches = plt.hist(review_lens, 50, density=True, facecolor='g', alpha=0.75)\n",
    "plt.xlabel('Smarts')\n",
    "plt.ylabel('Probability')"
   ]
  },
  {
   "cell_type": "markdown",
   "metadata": {},
   "source": [
    "### Supression des ponctuations et des mots reguliers (stopwords)"
   ]
  },
  {
   "cell_type": "code",
   "execution_count": 10,
   "metadata": {},
   "outputs": [],
   "source": [
    "import spacy\n",
    "nlp_fr = spacy.load('fr_core_news_sm') # Pour prendre en compte le vocabulaire francais."
   ]
  },
  {
   "cell_type": "code",
   "execution_count": 11,
   "metadata": {},
   "outputs": [],
   "source": [
    "# Definition de la fonction 'cleanup_text' pour enlever les pronoms personnels et stopwords\n",
    "stopwords = stopwords.words('french')\n",
    "\n",
    "def cleanup_text(docs, logging=False):\n",
    "    \n",
    "    texts = []\n",
    "    doc = nlp_fr(docs)\n",
    "    tokens = [tok.lemma_.lower().strip() for tok in doc if tok.lemma_ != '-PRON-']\n",
    "    tokens = [tok for tok in tokens if tok not in stopwords]\n",
    "    tokens = ' '.join(tokens)\n",
    "    texts.append(tokens)\n",
    "    return \" \".join(texts)"
   ]
  },
  {
   "cell_type": "code",
   "execution_count": 12,
   "metadata": {},
   "outputs": [
    {
     "data": {
      "text/html": [
       "<div>\n",
       "<style scoped>\n",
       "    .dataframe tbody tr th:only-of-type {\n",
       "        vertical-align: middle;\n",
       "    }\n",
       "\n",
       "    .dataframe tbody tr th {\n",
       "        vertical-align: top;\n",
       "    }\n",
       "\n",
       "    .dataframe thead th {\n",
       "        text-align: right;\n",
       "    }\n",
       "</style>\n",
       "<table border=\"1\" class=\"dataframe\">\n",
       "  <thead>\n",
       "    <tr style=\"text-align: right;\">\n",
       "      <th></th>\n",
       "      <th>text</th>\n",
       "      <th>text_clean1</th>\n",
       "      <th>text_clean</th>\n",
       "    </tr>\n",
       "  </thead>\n",
       "  <tbody>\n",
       "    <tr>\n",
       "      <th>0</th>\n",
       "      <td>﻿Libération d'Ingrid Betancourt: «Cesar» nie a...</td>\n",
       "      <td>﻿Libération d'Ingrid Betancourt: «Cesar» nie a...</td>\n",
       "      <td>﻿libération ingrid betancourt : « cesar » nie ...</td>\n",
       "    </tr>\n",
       "    <tr>\n",
       "      <th>1</th>\n",
       "      <td>Betancourt: «L'opération a été impeccable» \\n«...</td>\n",
       "      <td>Betancourt: «L'opération a été impeccable»  «L...</td>\n",
       "      <td>betancourt : « opération avoir être impeccable...</td>\n",
       "    </tr>\n",
       "    <tr>\n",
       "      <th>2</th>\n",
       "      <td>﻿La libération d'Ingrid Betancourt continue de...</td>\n",
       "      <td>﻿La libération d'Ingrid Betancourt continue de...</td>\n",
       "      <td>﻿la libération ingrid betancourt continue susc...</td>\n",
       "    </tr>\n",
       "    <tr>\n",
       "      <th>3</th>\n",
       "      <td>﻿Ingrid Betancourt est libre\\nL'armée colombie...</td>\n",
       "      <td>﻿Ingrid Betancourt est libre L'armée colombien...</td>\n",
       "      <td>﻿ingrid betancourt être libre armée colombien ...</td>\n",
       "    </tr>\n",
       "    <tr>\n",
       "      <th>4</th>\n",
       "      <td>﻿Ingrid Betancourt : questions sur une libérat...</td>\n",
       "      <td>﻿Ingrid Betancourt : questions sur une libérat...</td>\n",
       "      <td>﻿ingrid betancourt : question libération .  co...</td>\n",
       "    </tr>\n",
       "    <tr>\n",
       "      <th>...</th>\n",
       "      <td>...</td>\n",
       "      <td>...</td>\n",
       "      <td>...</td>\n",
       "    </tr>\n",
       "    <tr>\n",
       "      <th>395</th>\n",
       "      <td>La Chine multiplie les accusations contre le d...</td>\n",
       "      <td>La Chine multiplie les accusations contre le d...</td>\n",
       "      <td>chine multiplier accusation contre dalaï - lam...</td>\n",
       "    </tr>\n",
       "    <tr>\n",
       "      <th>396</th>\n",
       "      <td>Les touristes français se détournent de la Chi...</td>\n",
       "      <td>Les touristes français se détournent de la Chi...</td>\n",
       "      <td>touriste français détournent chine chine faire...</td>\n",
       "    </tr>\n",
       "    <tr>\n",
       "      <th>397</th>\n",
       "      <td>Selon Amnesty, la répression en Chine s'est ag...</td>\n",
       "      <td>Selon Amnesty, la répression en Chine s'est ag...</td>\n",
       "      <td>selon amnesty , répression chine être aggraver...</td>\n",
       "    </tr>\n",
       "    <tr>\n",
       "      <th>398</th>\n",
       "      <td>Tibet - Des moines perturbent une visite de pr...</td>\n",
       "      <td>Tibet - Des moines perturbent une visite de pr...</td>\n",
       "      <td>tibet - moine perturber visite presse quinze m...</td>\n",
       "    </tr>\n",
       "    <tr>\n",
       "      <th>399</th>\n",
       "      <td>Tibet: les émeutes ont fait 203 morts, selon l...</td>\n",
       "      <td>Tibet: les émeutes ont fait 203 morts, selon l...</td>\n",
       "      <td>tibet : émeute avoir faire 203 mort , selon go...</td>\n",
       "    </tr>\n",
       "  </tbody>\n",
       "</table>\n",
       "<p>400 rows × 3 columns</p>\n",
       "</div>"
      ],
      "text/plain": [
       "                                                  text  \\\n",
       "0    ﻿Libération d'Ingrid Betancourt: «Cesar» nie a...   \n",
       "1    Betancourt: «L'opération a été impeccable» \\n«...   \n",
       "2    ﻿La libération d'Ingrid Betancourt continue de...   \n",
       "3    ﻿Ingrid Betancourt est libre\\nL'armée colombie...   \n",
       "4    ﻿Ingrid Betancourt : questions sur une libérat...   \n",
       "..                                                 ...   \n",
       "395  La Chine multiplie les accusations contre le d...   \n",
       "396  Les touristes français se détournent de la Chi...   \n",
       "397  Selon Amnesty, la répression en Chine s'est ag...   \n",
       "398  Tibet - Des moines perturbent une visite de pr...   \n",
       "399  Tibet: les émeutes ont fait 203 morts, selon l...   \n",
       "\n",
       "                                           text_clean1  \\\n",
       "0    ﻿Libération d'Ingrid Betancourt: «Cesar» nie a...   \n",
       "1    Betancourt: «L'opération a été impeccable»  «L...   \n",
       "2    ﻿La libération d'Ingrid Betancourt continue de...   \n",
       "3    ﻿Ingrid Betancourt est libre L'armée colombien...   \n",
       "4    ﻿Ingrid Betancourt : questions sur une libérat...   \n",
       "..                                                 ...   \n",
       "395  La Chine multiplie les accusations contre le d...   \n",
       "396  Les touristes français se détournent de la Chi...   \n",
       "397  Selon Amnesty, la répression en Chine s'est ag...   \n",
       "398  Tibet - Des moines perturbent une visite de pr...   \n",
       "399  Tibet: les émeutes ont fait 203 morts, selon l...   \n",
       "\n",
       "                                            text_clean  \n",
       "0    ﻿libération ingrid betancourt : « cesar » nie ...  \n",
       "1    betancourt : « opération avoir être impeccable...  \n",
       "2    ﻿la libération ingrid betancourt continue susc...  \n",
       "3    ﻿ingrid betancourt être libre armée colombien ...  \n",
       "4    ﻿ingrid betancourt : question libération .  co...  \n",
       "..                                                 ...  \n",
       "395  chine multiplier accusation contre dalaï - lam...  \n",
       "396  touriste français détournent chine chine faire...  \n",
       "397  selon amnesty , répression chine être aggraver...  \n",
       "398  tibet - moine perturber visite presse quinze m...  \n",
       "399  tibet : émeute avoir faire 203 mort , selon go...  \n",
       "\n",
       "[400 rows x 3 columns]"
      ]
     },
     "execution_count": 12,
     "metadata": {},
     "output_type": "execute_result"
    }
   ],
   "source": [
    "text['text_clean']=text['text_clean1'].map(lambda X: cleanup_text(X))\n",
    "text"
   ]
  },
  {
   "cell_type": "code",
   "execution_count": 13,
   "metadata": {},
   "outputs": [
    {
     "name": "stdout",
     "output_type": "stream",
     "text": [
      "Reviews description with punctuation and stopwords---\n",
      "\n",
      "﻿Libération d'Ingrid Betancourt: «Cesar» nie avoir trahi les Farc L'homme chargé de la surveillance de l'ex-otage assure qu'il n'a pas trahi les Forces Armées Révolutionnaires de Colombie   contrairement aux accusations de la guerilla. L'un des deux guérilleros des Farc capturés le 2 juillet lors de l'opération militaire de libération d'Ingrid Betancourt et de 14 autres otages a nié hier avoir trahi ses anciens compagnons. Dans sa déclaration transmise à la justice, le guérillero \"assure qu'à aucun moment il n'a trahi les Farc, et que tout le monde sait que la libération des 15 otages est le fruit d'une opération de renseignement militaire poussée, surtout dans l'interception des communications téléphoniques\", a indiqué l'avocat. L'opération de libération des otages, attribuée par le gouvernement colombien à une \"opération de renseignement militaire impeccable\", a permis d'arrêter les deux principaux responsables des Farc chargés de surveiller les otages, Gerardo Aguilar et Alexander Farfan, alias \"Enrique gafas \". \"La fuite des 15 prisonniers de guerre, le mercredi 2 juillet, a été la conséquence directe de la conduite méprisable de Cesar et d'Enrique qui ont trahi leur engagement révolutionnaire et la confiance qui leur a été accordée\", ont affirmé les Farc dans un communiqué daté du 5 juillet. Les deux guérilleros, qui ont également démenti avoir reçu de l'argent du gouvernement colombien, ont déjà fait l'objet de demandes d'extradition par les Etats-Unis, qui les accuse de l'enlèvement des trois citoyens américains Marc Gonsalves, Thomas Howes et Keith Stansell, retenus durant cinq ans et quatre mois.  Le ministre colombien de la Défense Juan Manuel Santos a estimé samedi 12 juillet, qu'\"au lieu d'accepter la défaite avec dignité, les Farc rejettent leurs propres hommes\".\n",
      "\n",
      "Reviews description after removing  stopwrods---\n",
      "\n",
      "﻿libération ingrid betancourt : « cesar » nie avoir trahir farc homme charger surveillance ex-otage assure n' avoir trahi force armée révolutionnaire colombie  contrairement accusation guerilla . deux guérillero farc capturer 2 juillet lors opération militaire libération ingrid betancourt 14 autre otage avoir nier hier avoir trahir ancien compagnon . déclaration transmettre justice , guérillero \" assure aucun moment n' avoir trahir farc , tout monde savoir libération 15 otage être fruit opération renseignement militaire pousser , surtout interception communication téléphonique \" , avoir indiquer avocat . opération libération otage , attribuer gouvernement colombien \" opération renseignement militaire impeccable \" , avoir permettre arrêter deux principal responsable farc charger surveiller otage , gerardo aguilar alexander farfan , alias \" enriqu gafa \" . \" fuite 15 prisonnier guerre , mercredi 2 juillet , avoir être conséquence direct conduite méprisable cesar enrique avoir trahir engagement révolutionnaire confiance avoir être accorder \" , avoir affirmer farc communiqué dater 5 juillet . deux guérillero , avoir également démentir avoir recevoir argent gouvernement colombien , avoir déjà faire objet demande extradition etats-unis , accuse enlèvement trois citoyen américain marc gonsalves , thomas howes keith stansell , retenir durant cinq an quatre mois .  ministre colombien défense juan manuel santos avoir estimer samedi 12 juillet , qu'\"au lieu accepter défaite dignité , farc rejeter propre homme \" .\n"
     ]
    }
   ],
   "source": [
    "print('Reviews description with punctuation and stopwords---\\n')\n",
    "print(text['text_clean1'][0])\n",
    "print('\\nReviews description after removing  stopwrods---\\n')\n",
    "print(text['text_clean'][0])"
   ]
  },
  {
   "cell_type": "markdown",
   "metadata": {},
   "source": [
    "# I. Extractive Text Summarization"
   ]
  },
  {
   "cell_type": "markdown",
   "metadata": {},
   "source": [
    ">* Ici, les phrases importantes sont sélectionnées dans le texte d'entrée pour former un résumé."
   ]
  },
  {
   "cell_type": "markdown",
   "metadata": {},
   "source": [
    "## 1. summary using spacy"
   ]
  },
  {
   "cell_type": "code",
   "execution_count": 14,
   "metadata": {},
   "outputs": [],
   "source": [
    "def generate_summary(text_without_removing_dot, cleaned_text):\n",
    "    \n",
    "    sample_text = text_without_removing_dot\n",
    "    doc = nlp_fr(sample_text)\n",
    "    sentence_list=[]\n",
    "    for idx, sentence in enumerate(doc.sents): # nous utilisons spacy pour la tokenization des phrases\n",
    "        sentence_list.append(re.sub(r'[^\\w\\s]','',str(sentence)))\n",
    "\n",
    "    stopwords = nltk.corpus.stopwords.words('french')\n",
    "# Comptage de la frequence d'apparition des mots dans le cleaned_text qui ne sont pas dans le StopWord\n",
    "    word_frequencies = {}  \n",
    "    for word in nltk.word_tokenize(cleaned_text):  \n",
    "        if word not in stopwords:\n",
    "            if word not in word_frequencies.keys():\n",
    "                word_frequencies[word] = 1\n",
    "            else:\n",
    "                word_frequencies[word] += 1\n",
    "\n",
    "    maximum_frequncy = max(word_frequencies.values())\n",
    "    \n",
    "# Frequence d'apparition de chaque mot\n",
    "    for word in word_frequencies.keys():  \n",
    "        word_frequencies[word] = (word_frequencies[word]/maximum_frequncy)\n",
    "        \n",
    "#Evaluation du score de chaque phrase\n",
    "    sentence_scores = {}  \n",
    "    for sent in sentence_list:  \n",
    "        for word in nltk.word_tokenize(sent.lower()):\n",
    "            if word in word_frequencies.keys():\n",
    "                if len(sent.split(' ')) < 400:\n",
    "                    if sent not in sentence_scores.keys():\n",
    "                        sentence_scores[sent] = word_frequencies[word]\n",
    "                    else:\n",
    "                        sentence_scores[sent] += word_frequencies[word]\n",
    "\n",
    "# Selection des 3 phrases ayant les scores les plus eleves.\n",
    "    summary_sentences = heapq.nlargest(3, sentence_scores, key=sentence_scores.get)\n",
    "    \n",
    "# Collection des phrases du resume\n",
    "    summary = ' '.join(summary_sentences) \n",
    "    print(\"Original Text:\\n\")\n",
    "    print(text_without_removing_dot)\n",
    "    print('\\n\\nSummarized text:\\n')\n",
    "    print(summary)"
   ]
  },
  {
   "cell_type": "markdown",
   "metadata": {},
   "source": [
    "**Test de la fonction generate_summary**"
   ]
  },
  {
   "cell_type": "code",
   "execution_count": 15,
   "metadata": {},
   "outputs": [
    {
     "name": "stdout",
     "output_type": "stream",
     "text": [
      "Original Text:\n",
      "\n",
      "﻿Libération d'Ingrid Betancourt: «Cesar» nie avoir trahi les Farc L'homme chargé de la surveillance de l'ex-otage assure qu'il n'a pas trahi les Forces Armées Révolutionnaires de Colombie   contrairement aux accusations de la guerilla. L'un des deux guérilleros des Farc capturés le 2 juillet lors de l'opération militaire de libération d'Ingrid Betancourt et de 14 autres otages a nié hier avoir trahi ses anciens compagnons. Dans sa déclaration transmise à la justice, le guérillero \"assure qu'à aucun moment il n'a trahi les Farc, et que tout le monde sait que la libération des 15 otages est le fruit d'une opération de renseignement militaire poussée, surtout dans l'interception des communications téléphoniques\", a indiqué l'avocat. L'opération de libération des otages, attribuée par le gouvernement colombien à une \"opération de renseignement militaire impeccable\", a permis d'arrêter les deux principaux responsables des Farc chargés de surveiller les otages, Gerardo Aguilar et Alexander Farfan, alias \"Enrique gafas \". \"La fuite des 15 prisonniers de guerre, le mercredi 2 juillet, a été la conséquence directe de la conduite méprisable de Cesar et d'Enrique qui ont trahi leur engagement révolutionnaire et la confiance qui leur a été accordée\", ont affirmé les Farc dans un communiqué daté du 5 juillet. Les deux guérilleros, qui ont également démenti avoir reçu de l'argent du gouvernement colombien, ont déjà fait l'objet de demandes d'extradition par les Etats-Unis, qui les accuse de l'enlèvement des trois citoyens américains Marc Gonsalves, Thomas Howes et Keith Stansell, retenus durant cinq ans et quatre mois.  Le ministre colombien de la Défense Juan Manuel Santos a estimé samedi 12 juillet, qu'\"au lieu d'accepter la défaite avec dignité, les Farc rejettent leurs propres hommes\".\n",
      "\n",
      "\n",
      "Summarized text:\n",
      "\n",
      "Lun des deux guérilleros des Farc capturés le 2 juillet lors de lopération militaire de libération dIngrid Betancourt et de 14 autres otages a nié hier avoir trahi ses anciens compagnons Les deux guérilleros qui ont également démenti avoir reçu de largent du gouvernement colombien ont déjà fait lobjet de demandes dextradition par les EtatsUnis qui les accuse de lenlèvement des trois citoyens américains Marc Gonsalves Thomas Howes et Keith Stansell retenus durant cinq ans et quatre mois Dans sa déclaration transmise à la justice le guérillero assure quà aucun moment il na trahi les Farc et que tout le monde sait que la libération des 15 otages est le fruit dune opération de renseignement militaire poussée surtout dans linterception des communications téléphoniques\n"
     ]
    }
   ],
   "source": [
    "generate_summary(text['text_clean1'][0], text['text_clean'][0])"
   ]
  },
  {
   "cell_type": "markdown",
   "metadata": {},
   "source": [
    "### COMMENTAIRE:"
   ]
  },
  {
   "cell_type": "markdown",
   "metadata": {},
   "source": [
    "**Apres application de la fonction \"generate_summary\" sur un texte, le resume obtenu est sans ponctuation et ne respecte pas certaines regles grammaticales.**"
   ]
  },
  {
   "cell_type": "markdown",
   "metadata": {},
   "source": [
    "## 2. Summay using TF IDF"
   ]
  },
  {
   "cell_type": "code",
   "execution_count": 16,
   "metadata": {},
   "outputs": [],
   "source": [
    "def summarization(textes):\n",
    "    \n",
    "    \n",
    "    extra_words=list(stopwords)+list(punctuation)+['\\n']\n",
    "    docx = nlp_fr(textes)\n",
    "#Supprimer les mots supplémentaires et obtenir le nombre de mots\n",
    "    all_words=[word.text for word in docx]\n",
    "    Freq_word={}\n",
    "    for w in all_words:\n",
    "        w1=w.lower()\n",
    "        if w1 not in extra_words and w1.isalpha():\n",
    "            if w1 in Freq_word.keys():\n",
    "                Freq_word[w1]+=1\n",
    "            else:\n",
    "                Freq_word[w1]=1\n",
    "    \n",
    "    \n",
    "    val=sorted(Freq_word.values())\n",
    "    max_freq=val[-3:]\n",
    "    for word in Freq_word.keys():  \n",
    "        Freq_word[word] = (Freq_word[word]/max_freq[-1])\n",
    "        \n",
    "    \n",
    "    val=sorted(Freq_word.values())\n",
    "    max_freq=val[-3:]\n",
    "\n",
    "    for word in Freq_word.keys():  \n",
    "            Freq_word[word] = (Freq_word[word]/max_freq[-1])\n",
    "    \n",
    "# Sentence Strength\n",
    "    sent_strength={}\n",
    "    for sent in docx.sents:\n",
    "        for word in sent :\n",
    "            if word.text.lower() in Freq_word.keys():\n",
    "\n",
    "                if sent in sent_strength.keys():\n",
    "                    sent_strength[sent]+=Freq_word[word.text.lower()]\n",
    "                else:\n",
    "\n",
    "                    sent_strength[sent]=Freq_word[word.text.lower()]\n",
    "\n",
    "            else:\n",
    "                continue\n",
    "    \n",
    "    top_sentences=(sorted(sent_strength.values())[::-1])\n",
    "    top30percent_sentence=int(0.3*len(top_sentences))\n",
    "    top_sent=top_sentences[:top30percent_sentence]\n",
    "# Obtention du resume\n",
    "    summary=[]\n",
    "    for sent,strength in sent_strength.items():  \n",
    "        if strength in top_sent:\n",
    "            summary.append(sent)\n",
    "\n",
    "        else:\n",
    "            continue\n",
    "    for i in summary:\n",
    "        print(i,end=\"\")"
   ]
  },
  {
   "cell_type": "code",
   "execution_count": 33,
   "metadata": {},
   "outputs": [
    {
     "name": "stdout",
     "output_type": "stream",
     "text": [
      "\n",
      "Dans sa déclaration transmise à la justice, le guérillero \"assure qu'à aucun moment il n'a trahi les Farc, et que tout le monde sait que la libération des 15 otages est le fruit d'une opération de renseignement militaire poussée, surtout dans l'interception des communications téléphoniques\", a indiqué l'avocat.L'opération de libération des otages, attribuée par le gouvernement colombien à une \"opération de renseignement militaire impeccable\", a permis d'arrêter les deux principaux responsables des Farc chargés de surveiller les otages, Gerardo Aguilar et Alexander Farfan, alias \"Enrique gafas \"."
     ]
    }
   ],
   "source": [
    "summarization(text[\"text\"][0])"
   ]
  },
  {
   "cell_type": "markdown",
   "metadata": {},
   "source": [
    "### COMMENTAIRE"
   ]
  },
  {
   "cell_type": "markdown",
   "metadata": {},
   "source": [
    "**Compare au résumé pecedent, ce résumé prend en compte de ponctuation et est assez comprehensif** "
   ]
  },
  {
   "cell_type": "markdown",
   "metadata": {},
   "source": [
    "## 3. Summarization with LSA (Latent semantic analysis)"
   ]
  },
  {
   "cell_type": "markdown",
   "metadata": {},
   "source": [
    ">* Il extrait les phrases sémantiquement significatives en appliquant la décomposition en valeurs singulières (SVD) à la matrice de fréquence des termes et des documents."
   ]
  },
  {
   "cell_type": "code",
   "execution_count": 21,
   "metadata": {},
   "outputs": [],
   "source": [
    "import sumy\n",
    "# Analyse de la chaîne de texte en utilisant PlaintextParser\n",
    "from sumy.parsers.plaintext import PlaintextParser\n",
    "from sumy.nlp.tokenizers import Tokenizer\n",
    "from sumy.summarizers.lsa import LsaSummarizer"
   ]
  },
  {
   "cell_type": "code",
   "execution_count": 33,
   "metadata": {},
   "outputs": [],
   "source": [
    "def lsa_sum(text):\n",
    "    my_parser = PlaintextParser(text, Tokenizer('french'))\n",
    "    # cree le resume\n",
    "    lsa_summarizer=LsaSummarizer()\n",
    "    lsa_summary= lsa_summarizer(my_parser.document,2)\n",
    "    # affiche le resume\n",
    "    for sentence in lsa_summary:\n",
    "        print(sentence)"
   ]
  },
  {
   "cell_type": "code",
   "execution_count": 34,
   "metadata": {},
   "outputs": [
    {
     "name": "stdout",
     "output_type": "stream",
     "text": [
      "Dans sa déclaration transmise à la justice, le guérillero \"assure qu'à aucun moment il n'a trahi les Farc, et que tout le monde sait que la libération des 15 otages est le fruit d'une opération de renseignement militaire poussée, surtout dans l'interception des communications téléphoniques\", a indiqué l'avocat.\n",
      "Les deux guérilleros, qui ont également démenti avoir reçu de l'argent du gouvernement colombien, ont déjà fait l'objet de demandes d'extradition par les Etats-Unis, qui les accuse de l'enlèvement des trois citoyens américains Marc Gonsalves, Thomas Howes et Keith Stansell, retenus durant cinq ans et quatre mois.\n"
     ]
    }
   ],
   "source": [
    "lsa_sum(text[\"text_clean1\"][0])"
   ]
  },
  {
   "cell_type": "markdown",
   "metadata": {},
   "source": [
    "# II. Abstractive Text Summarization"
   ]
  },
  {
   "cell_type": "markdown",
   "metadata": {},
   "source": [
    ">* Le modèle forme ses propres expressions et phrases pour offrir un résumé plus cohérent, comme celui que produirait un humain."
   ]
  },
  {
   "cell_type": "markdown",
   "metadata": {},
   "source": [
    "### Summarization using pipeline"
   ]
  },
  {
   "cell_type": "code",
   "execution_count": 18,
   "metadata": {},
   "outputs": [],
   "source": [
    "from transformers import pipeline"
   ]
  },
  {
   "cell_type": "code",
   "execution_count": 19,
   "metadata": {},
   "outputs": [
    {
     "data": {
      "application/vnd.jupyter.widget-view+json": {
       "model_id": "2d12a1483aba4b51971b6125cd32642e",
       "version_major": 2,
       "version_minor": 0
      },
      "text/plain": [
       "HBox(children=(HTML(value='Downloading'), FloatProgress(value=0.0, max=26.0), HTML(value='')))"
      ]
     },
     "metadata": {},
     "output_type": "display_data"
    },
    {
     "name": "stdout",
     "output_type": "stream",
     "text": [
      "\n"
     ]
    }
   ],
   "source": [
    "summarizer = pipeline(\"summarization\")"
   ]
  },
  {
   "cell_type": "code",
   "execution_count": 24,
   "metadata": {},
   "outputs": [],
   "source": [
    "def pipeline_summ(text):\n",
    "    summarized = summarizer(text, min_length=75, max_length=500)\n",
    "    return summarized"
   ]
  },
  {
   "cell_type": "code",
   "execution_count": 25,
   "metadata": {},
   "outputs": [
    {
     "data": {
      "text/plain": [
       "[{'summary_text': \" L'homme chargé de la surveillance de l'ex-otage assure qu'il n'a pas trahi les Forces Armées Révolutionnaires de Colombie . L'opération de libération des otages, attribuée par le gouvernement colombien, a permis d'arrêter les deux principaux responsables des Farc chargés de surveiller .\"}]"
      ]
     },
     "execution_count": 25,
     "metadata": {},
     "output_type": "execute_result"
    }
   ],
   "source": [
    "pipeline_summ(text[\"text_clean1\"][0])"
   ]
  },
  {
   "cell_type": "markdown",
   "metadata": {},
   "source": [
    "# CONCLUSION"
   ]
  },
  {
   "cell_type": "markdown",
   "metadata": {},
   "source": [
    "En somme il etait question de resumer un ensemble de texte. Deux approches ont été mis en exergue a savoir la methode extractive et la methode abstraite. Il en ressort que d'une part le résumé extractif vise à identifier les informations saillantes, à les extraire et à les regrouper pour former un résumé. D'autre part Les textes résumés à l'aide de la methode abstraite semblent plus humains car elle génere de nouvelles phrases à partir d'informations extraites du corpus; de plus les résumés obtenus sont plus condensés."
   ]
  }
 ],
 "metadata": {
  "interpreter": {
   "hash": "c533f913de3856a338f3a81cabd3312cd80e2596eca1f3f70c292b7c04da97fd"
  },
  "kernelspec": {
   "display_name": "Python 3",
   "language": "python",
   "name": "python3"
  },
  "language_info": {
   "codemirror_mode": {
    "name": "ipython",
    "version": 3
   },
   "file_extension": ".py",
   "mimetype": "text/x-python",
   "name": "python",
   "nbconvert_exporter": "python",
   "pygments_lexer": "ipython3",
   "version": "3.8.5"
  }
 },
 "nbformat": 4,
 "nbformat_minor": 4
}
