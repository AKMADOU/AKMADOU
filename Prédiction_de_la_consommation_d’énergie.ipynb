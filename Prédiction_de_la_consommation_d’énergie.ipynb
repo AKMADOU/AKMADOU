{
 "cells": [
  {
   "cell_type": "markdown",
   "metadata": {},
   "source": [
    "## <center> PROJET DE DEEP LEARNING  : GROUPE 2\n"
   ]
  },
  {
   "cell_type": "markdown",
   "metadata": {},
   "source": [
    "## <center>  GRP8133JK"
   ]
  },
  {
   "cell_type": "markdown",
   "metadata": {},
   "source": [
    "### Project 2:\n",
    "Prédiction de la consommation d’énergie (fichier energy.csv)\n",
    "\n",
    "The data in this file is taken from the GEFCom2014 forecasting competition1. It consists of 3 years of hourly\n",
    "electricity load and temperature values between 2012 and 2014. The task is to forecast future values of\n",
    "electricity load. In this example, we show how to forecast one time step ahead, using historical load data only."
   ]
  },
  {
   "cell_type": "markdown",
   "metadata": {},
   "source": [
    "# One step univariate model\n",
    "\n",
    "Dans cette partie, nous démontrons comment:\n",
    "- préparer une donnée de series temporelles avec un model RNN forecasting\n",
    "- obtenir des données dans la forme requise pour l'API keras\n",
    "- implémenter un modèle RNN simple en keras pour prédire la prochaine étape (temps * t + 1 *) dans la série temporelle\n",
    "- permettre un arrêt précoce pour réduire la probabilité de surajustement du modèle\n",
    "- évaluer le modèle sur un jeu de données de test"
   ]
  },
  {
   "cell_type": "code",
   "execution_count": 1,
   "metadata": {},
   "outputs": [],
   "source": [
    "import os\n",
    "import warnings\n",
    "import matplotlib.pyplot as plt\n",
    "import numpy as np\n",
    "import pandas as pd\n",
    "import datetime as dt\n",
    "from collections import UserDict\n",
    "from sklearn.preprocessing import MinMaxScaler\n",
    "from IPython.display import Image\n",
    "%matplotlib inline\n",
    "\n",
    "from common.utils import load_data, mape, TimeSeriesTensor, create_evaluation_df\n",
    "\n",
    "pd.options.display.float_format = '{:,.2f}'.format\n",
    "np.set_printoptions(precision=2)\n",
    "warnings.filterwarnings(\"ignore\")"
   ]
  },
  {
   "cell_type": "code",
   "execution_count": 2,
   "metadata": {},
   "outputs": [
    {
     "data": {
      "text/plain": [
       "'C:\\\\Users\\\\AIMSSN\\\\Downloads\\\\Compressed\\\\DeepLearningForTimeSeriesForecasting-master'"
      ]
     },
     "execution_count": 2,
     "metadata": {},
     "output_type": "execute_result"
    }
   ],
   "source": [
    "os.getcwd()"
   ]
  },
  {
   "cell_type": "markdown",
   "metadata": {},
   "source": [
    "#### Importation de la donnée"
   ]
  },
  {
   "cell_type": "code",
   "execution_count": 3,
   "metadata": {},
   "outputs": [
    {
     "data": {
      "text/html": [
       "<div>\n",
       "<style scoped>\n",
       "    .dataframe tbody tr th:only-of-type {\n",
       "        vertical-align: middle;\n",
       "    }\n",
       "\n",
       "    .dataframe tbody tr th {\n",
       "        vertical-align: top;\n",
       "    }\n",
       "\n",
       "    .dataframe thead th {\n",
       "        text-align: right;\n",
       "    }\n",
       "</style>\n",
       "<table border=\"1\" class=\"dataframe\">\n",
       "  <thead>\n",
       "    <tr style=\"text-align: right;\">\n",
       "      <th></th>\n",
       "      <th>load</th>\n",
       "      <th>temp</th>\n",
       "    </tr>\n",
       "    <tr>\n",
       "      <th>timestamp</th>\n",
       "      <th></th>\n",
       "      <th></th>\n",
       "    </tr>\n",
       "  </thead>\n",
       "  <tbody>\n",
       "    <tr>\n",
       "      <th>2012-01-01 00:00:00</th>\n",
       "      <td>2,698.00</td>\n",
       "      <td>32.00</td>\n",
       "    </tr>\n",
       "    <tr>\n",
       "      <th>2012-01-01 01:00:00</th>\n",
       "      <td>2,558.00</td>\n",
       "      <td>32.67</td>\n",
       "    </tr>\n",
       "    <tr>\n",
       "      <th>2012-01-01 02:00:00</th>\n",
       "      <td>2,444.00</td>\n",
       "      <td>30.00</td>\n",
       "    </tr>\n",
       "    <tr>\n",
       "      <th>2012-01-01 03:00:00</th>\n",
       "      <td>2,402.00</td>\n",
       "      <td>31.00</td>\n",
       "    </tr>\n",
       "    <tr>\n",
       "      <th>2012-01-01 04:00:00</th>\n",
       "      <td>2,403.00</td>\n",
       "      <td>32.00</td>\n",
       "    </tr>\n",
       "    <tr>\n",
       "      <th>...</th>\n",
       "      <td>...</td>\n",
       "      <td>...</td>\n",
       "    </tr>\n",
       "    <tr>\n",
       "      <th>2014-12-31 19:00:00</th>\n",
       "      <td>4,012.00</td>\n",
       "      <td>18.00</td>\n",
       "    </tr>\n",
       "    <tr>\n",
       "      <th>2014-12-31 20:00:00</th>\n",
       "      <td>3,856.00</td>\n",
       "      <td>16.67</td>\n",
       "    </tr>\n",
       "    <tr>\n",
       "      <th>2014-12-31 21:00:00</th>\n",
       "      <td>3,671.00</td>\n",
       "      <td>17.00</td>\n",
       "    </tr>\n",
       "    <tr>\n",
       "      <th>2014-12-31 22:00:00</th>\n",
       "      <td>3,499.00</td>\n",
       "      <td>15.33</td>\n",
       "    </tr>\n",
       "    <tr>\n",
       "      <th>2014-12-31 23:00:00</th>\n",
       "      <td>3,345.00</td>\n",
       "      <td>15.33</td>\n",
       "    </tr>\n",
       "  </tbody>\n",
       "</table>\n",
       "<p>26304 rows × 2 columns</p>\n",
       "</div>"
      ],
      "text/plain": [
       "                        load  temp\n",
       "timestamp                         \n",
       "2012-01-01 00:00:00 2,698.00 32.00\n",
       "2012-01-01 01:00:00 2,558.00 32.67\n",
       "2012-01-01 02:00:00 2,444.00 30.00\n",
       "2012-01-01 03:00:00 2,402.00 31.00\n",
       "2012-01-01 04:00:00 2,403.00 32.00\n",
       "...                      ...   ...\n",
       "2014-12-31 19:00:00 4,012.00 18.00\n",
       "2014-12-31 20:00:00 3,856.00 16.67\n",
       "2014-12-31 21:00:00 3,671.00 17.00\n",
       "2014-12-31 22:00:00 3,499.00 15.33\n",
       "2014-12-31 23:00:00 3,345.00 15.33\n",
       "\n",
       "[26304 rows x 2 columns]"
      ]
     },
     "execution_count": 3,
     "metadata": {},
     "output_type": "execute_result"
    }
   ],
   "source": [
    "energy=pd.read_csv('energy.csv',delimiter=\",\",index_col=0)\n",
    "energy"
   ]
  },
  {
   "cell_type": "markdown",
   "metadata": {},
   "source": [
    "#### Création de l'index de la donnée sous le format DatetimeIndex"
   ]
  },
  {
   "cell_type": "code",
   "execution_count": 5,
   "metadata": {},
   "outputs": [],
   "source": [
    "energy.index=pd.DatetimeIndex(energy.index)"
   ]
  },
  {
   "cell_type": "code",
   "execution_count": 6,
   "metadata": {},
   "outputs": [
    {
     "data": {
      "text/html": [
       "<div>\n",
       "<style scoped>\n",
       "    .dataframe tbody tr th:only-of-type {\n",
       "        vertical-align: middle;\n",
       "    }\n",
       "\n",
       "    .dataframe tbody tr th {\n",
       "        vertical-align: top;\n",
       "    }\n",
       "\n",
       "    .dataframe thead th {\n",
       "        text-align: right;\n",
       "    }\n",
       "</style>\n",
       "<table border=\"1\" class=\"dataframe\">\n",
       "  <thead>\n",
       "    <tr style=\"text-align: right;\">\n",
       "      <th></th>\n",
       "      <th>load</th>\n",
       "      <th>temp</th>\n",
       "    </tr>\n",
       "    <tr>\n",
       "      <th>timestamp</th>\n",
       "      <th></th>\n",
       "      <th></th>\n",
       "    </tr>\n",
       "  </thead>\n",
       "  <tbody>\n",
       "    <tr>\n",
       "      <th>2012-01-01 00:00:00</th>\n",
       "      <td>2,698.00</td>\n",
       "      <td>32.00</td>\n",
       "    </tr>\n",
       "    <tr>\n",
       "      <th>2012-01-01 01:00:00</th>\n",
       "      <td>2,558.00</td>\n",
       "      <td>32.67</td>\n",
       "    </tr>\n",
       "    <tr>\n",
       "      <th>2012-01-01 02:00:00</th>\n",
       "      <td>2,444.00</td>\n",
       "      <td>30.00</td>\n",
       "    </tr>\n",
       "    <tr>\n",
       "      <th>2012-01-01 03:00:00</th>\n",
       "      <td>2,402.00</td>\n",
       "      <td>31.00</td>\n",
       "    </tr>\n",
       "    <tr>\n",
       "      <th>2012-01-01 04:00:00</th>\n",
       "      <td>2,403.00</td>\n",
       "      <td>32.00</td>\n",
       "    </tr>\n",
       "    <tr>\n",
       "      <th>...</th>\n",
       "      <td>...</td>\n",
       "      <td>...</td>\n",
       "    </tr>\n",
       "    <tr>\n",
       "      <th>2014-12-31 19:00:00</th>\n",
       "      <td>4,012.00</td>\n",
       "      <td>18.00</td>\n",
       "    </tr>\n",
       "    <tr>\n",
       "      <th>2014-12-31 20:00:00</th>\n",
       "      <td>3,856.00</td>\n",
       "      <td>16.67</td>\n",
       "    </tr>\n",
       "    <tr>\n",
       "      <th>2014-12-31 21:00:00</th>\n",
       "      <td>3,671.00</td>\n",
       "      <td>17.00</td>\n",
       "    </tr>\n",
       "    <tr>\n",
       "      <th>2014-12-31 22:00:00</th>\n",
       "      <td>3,499.00</td>\n",
       "      <td>15.33</td>\n",
       "    </tr>\n",
       "    <tr>\n",
       "      <th>2014-12-31 23:00:00</th>\n",
       "      <td>3,345.00</td>\n",
       "      <td>15.33</td>\n",
       "    </tr>\n",
       "  </tbody>\n",
       "</table>\n",
       "<p>26304 rows × 2 columns</p>\n",
       "</div>"
      ],
      "text/plain": [
       "                        load  temp\n",
       "timestamp                         \n",
       "2012-01-01 00:00:00 2,698.00 32.00\n",
       "2012-01-01 01:00:00 2,558.00 32.67\n",
       "2012-01-01 02:00:00 2,444.00 30.00\n",
       "2012-01-01 03:00:00 2,402.00 31.00\n",
       "2012-01-01 04:00:00 2,403.00 32.00\n",
       "...                      ...   ...\n",
       "2014-12-31 19:00:00 4,012.00 18.00\n",
       "2014-12-31 20:00:00 3,856.00 16.67\n",
       "2014-12-31 21:00:00 3,671.00 17.00\n",
       "2014-12-31 22:00:00 3,499.00 15.33\n",
       "2014-12-31 23:00:00 3,345.00 15.33\n",
       "\n",
       "[26304 rows x 2 columns]"
      ]
     },
     "execution_count": 6,
     "metadata": {},
     "output_type": "execute_result"
    }
   ],
   "source": [
    "\n",
    "energy"
   ]
  },
  {
   "cell_type": "code",
   "execution_count": 7,
   "metadata": {},
   "outputs": [
    {
     "data": {
      "text/plain": [
       "DatetimeIndex(['2012-01-01 00:00:00', '2012-01-01 01:00:00',\n",
       "               '2012-01-01 02:00:00', '2012-01-01 03:00:00',\n",
       "               '2012-01-01 04:00:00', '2012-01-01 05:00:00',\n",
       "               '2012-01-01 06:00:00', '2012-01-01 07:00:00',\n",
       "               '2012-01-01 08:00:00', '2012-01-01 09:00:00',\n",
       "               ...\n",
       "               '2014-12-31 14:00:00', '2014-12-31 15:00:00',\n",
       "               '2014-12-31 16:00:00', '2014-12-31 17:00:00',\n",
       "               '2014-12-31 18:00:00', '2014-12-31 19:00:00',\n",
       "               '2014-12-31 20:00:00', '2014-12-31 21:00:00',\n",
       "               '2014-12-31 22:00:00', '2014-12-31 23:00:00'],\n",
       "              dtype='datetime64[ns]', name='timestamp', length=26304, freq=None)"
      ]
     },
     "execution_count": 7,
     "metadata": {},
     "output_type": "execute_result"
    }
   ],
   "source": [
    "energy.index"
   ]
  },
  {
   "cell_type": "markdown",
   "metadata": {},
   "source": [
    "## Créaction des données de train, de validation et de test\n",
    "Nous séparons notre ensemble de données en ensembles de train, de validation et de test. Nous formons le modèle sur le train. Le jeu de validation est utilisé pour évaluer le modèle après chaque période d'apprentissage et s'assurer que le modèle ne surapprend pas les données d'apprentissage. Une fois la formation du modèle terminée, nous évaluons le modèle sur l'ensemble de test. Nous devons nous assurer que l'ensemble de validation et l'ensemble de test couvrent une période ultérieure à partir de l'ensemble d'apprentissage, afin de garantir que le modèle ne tire pas parti des informations des périodes futures.\n",
    "\n",
    "Nous attribuerons la période du 1er Mai 2014 au 31 décembre 2014 à l'ensemble de test. La période du 1er septembre 2013 au 31 Avril 2014 est allouée à l'ensemble de validation. Toutes les autres périodes sont disponibles pour l'ensemble d'entraînement."
   ]
  },
  {
   "cell_type": "code",
   "execution_count": 330,
   "metadata": {},
   "outputs": [],
   "source": [
    "valid_start_dt = '2013-09-01 00:00:00'\n",
    "test_start_dt = '2014-05-01 00:00:00'"
   ]
  },
  {
   "cell_type": "code",
   "execution_count": 331,
   "metadata": {},
   "outputs": [
    {
     "data": {
      "image/png": "[encoded data removed]",
      "text/plain": [
       "<Figure size 1080x576 with 1 Axes>"
      ]
     },
     "metadata": {
      "needs_background": "light"
     },
     "output_type": "display_data"
    }
   ],
   "source": [
    "energy[energy.index < valid_start_dt][['load']].rename(columns={'load':'train'}) \\\n",
    "    .join(energy[(energy.index >=valid_start_dt) & (energy.index < test_start_dt)][['load']] \\\n",
    "          .rename(columns={'load':'validation'}), how='outer') \\\n",
    "    .join(energy[test_start_dt:][['load']].rename(columns={'load':'test'}), how='outer') \\\n",
    "    .plot(y=['train', 'validation', 'test'], figsize=(15, 8), fontsize=12)\n",
    "plt.xlabel('timestamp', fontsize=12)\n",
    "plt.ylabel('load', fontsize=12)\n",
    "plt.show()"
   ]
  },
  {
   "cell_type": "code",
   "execution_count": 332,
   "metadata": {},
   "outputs": [
    {
     "data": {
      "image/png": "[encoded data removed]",
      "text/plain": [
       "<IPython.core.display.Image object>"
      ]
     },
     "execution_count": 332,
     "metadata": {},
     "output_type": "execute_result"
    }
   ],
   "source": [
    "Image('./images/one_step_forecast.png')"
   ]
  },
  {
   "cell_type": "code",
   "execution_count": 333,
   "metadata": {},
   "outputs": [],
   "source": [
    "T = 6\n",
    "HORIZON = 1"
   ]
  },
  {
   "cell_type": "code",
   "execution_count": 334,
   "metadata": {},
   "outputs": [
    {
     "data": {
      "text/html": [
       "<div>\n",
       "<style scoped>\n",
       "    .dataframe tbody tr th:only-of-type {\n",
       "        vertical-align: middle;\n",
       "    }\n",
       "\n",
       "    .dataframe tbody tr th {\n",
       "        vertical-align: top;\n",
       "    }\n",
       "\n",
       "    .dataframe thead th {\n",
       "        text-align: right;\n",
       "    }\n",
       "</style>\n",
       "<table border=\"1\" class=\"dataframe\">\n",
       "  <thead>\n",
       "    <tr style=\"text-align: right;\">\n",
       "      <th></th>\n",
       "      <th>load_original</th>\n",
       "      <th>y_t+1</th>\n",
       "      <th>load_t-5</th>\n",
       "      <th>load_t-4</th>\n",
       "      <th>load_t-3</th>\n",
       "      <th>load_t-2</th>\n",
       "      <th>load_t-1</th>\n",
       "      <th>load_t</th>\n",
       "    </tr>\n",
       "    <tr>\n",
       "      <th>timestamp</th>\n",
       "      <th></th>\n",
       "      <th></th>\n",
       "      <th></th>\n",
       "      <th></th>\n",
       "      <th></th>\n",
       "      <th></th>\n",
       "      <th></th>\n",
       "      <th></th>\n",
       "    </tr>\n",
       "  </thead>\n",
       "  <tbody>\n",
       "    <tr>\n",
       "      <th>2012-01-01 05:00:00</th>\n",
       "      <td>0.15</td>\n",
       "      <td>0.18</td>\n",
       "      <td>0.22</td>\n",
       "      <td>0.18</td>\n",
       "      <td>0.14</td>\n",
       "      <td>0.13</td>\n",
       "      <td>0.13</td>\n",
       "      <td>0.15</td>\n",
       "    </tr>\n",
       "    <tr>\n",
       "      <th>2012-01-01 06:00:00</th>\n",
       "      <td>0.18</td>\n",
       "      <td>0.23</td>\n",
       "      <td>0.18</td>\n",
       "      <td>0.14</td>\n",
       "      <td>0.13</td>\n",
       "      <td>0.13</td>\n",
       "      <td>0.15</td>\n",
       "      <td>0.18</td>\n",
       "    </tr>\n",
       "    <tr>\n",
       "      <th>2012-01-01 07:00:00</th>\n",
       "      <td>0.23</td>\n",
       "      <td>0.29</td>\n",
       "      <td>0.14</td>\n",
       "      <td>0.13</td>\n",
       "      <td>0.13</td>\n",
       "      <td>0.15</td>\n",
       "      <td>0.18</td>\n",
       "      <td>0.23</td>\n",
       "    </tr>\n",
       "    <tr>\n",
       "      <th>2012-01-01 08:00:00</th>\n",
       "      <td>0.29</td>\n",
       "      <td>0.35</td>\n",
       "      <td>0.13</td>\n",
       "      <td>0.13</td>\n",
       "      <td>0.15</td>\n",
       "      <td>0.18</td>\n",
       "      <td>0.23</td>\n",
       "      <td>0.29</td>\n",
       "    </tr>\n",
       "    <tr>\n",
       "      <th>2012-01-01 09:00:00</th>\n",
       "      <td>0.35</td>\n",
       "      <td>0.37</td>\n",
       "      <td>0.13</td>\n",
       "      <td>0.15</td>\n",
       "      <td>0.18</td>\n",
       "      <td>0.23</td>\n",
       "      <td>0.29</td>\n",
       "      <td>0.35</td>\n",
       "    </tr>\n",
       "    <tr>\n",
       "      <th>...</th>\n",
       "      <td>...</td>\n",
       "      <td>...</td>\n",
       "      <td>...</td>\n",
       "      <td>...</td>\n",
       "      <td>...</td>\n",
       "      <td>...</td>\n",
       "      <td>...</td>\n",
       "      <td>...</td>\n",
       "    </tr>\n",
       "    <tr>\n",
       "      <th>2013-08-31 18:00:00</th>\n",
       "      <td>0.60</td>\n",
       "      <td>0.61</td>\n",
       "      <td>0.57</td>\n",
       "      <td>0.57</td>\n",
       "      <td>0.58</td>\n",
       "      <td>0.59</td>\n",
       "      <td>0.60</td>\n",
       "      <td>0.60</td>\n",
       "    </tr>\n",
       "    <tr>\n",
       "      <th>2013-08-31 19:00:00</th>\n",
       "      <td>0.61</td>\n",
       "      <td>0.60</td>\n",
       "      <td>0.57</td>\n",
       "      <td>0.58</td>\n",
       "      <td>0.59</td>\n",
       "      <td>0.60</td>\n",
       "      <td>0.60</td>\n",
       "      <td>0.61</td>\n",
       "    </tr>\n",
       "    <tr>\n",
       "      <th>2013-08-31 20:00:00</th>\n",
       "      <td>0.60</td>\n",
       "      <td>0.53</td>\n",
       "      <td>0.58</td>\n",
       "      <td>0.59</td>\n",
       "      <td>0.60</td>\n",
       "      <td>0.60</td>\n",
       "      <td>0.61</td>\n",
       "      <td>0.60</td>\n",
       "    </tr>\n",
       "    <tr>\n",
       "      <th>2013-08-31 21:00:00</th>\n",
       "      <td>0.53</td>\n",
       "      <td>0.44</td>\n",
       "      <td>0.59</td>\n",
       "      <td>0.60</td>\n",
       "      <td>0.60</td>\n",
       "      <td>0.61</td>\n",
       "      <td>0.60</td>\n",
       "      <td>0.53</td>\n",
       "    </tr>\n",
       "    <tr>\n",
       "      <th>2013-08-31 22:00:00</th>\n",
       "      <td>0.44</td>\n",
       "      <td>0.35</td>\n",
       "      <td>0.60</td>\n",
       "      <td>0.60</td>\n",
       "      <td>0.61</td>\n",
       "      <td>0.60</td>\n",
       "      <td>0.53</td>\n",
       "      <td>0.44</td>\n",
       "    </tr>\n",
       "  </tbody>\n",
       "</table>\n",
       "<p>14610 rows × 8 columns</p>\n",
       "</div>"
      ],
      "text/plain": [
       "                     load_original  y_t+1  load_t-5  load_t-4  load_t-3  \\\n",
       "timestamp                                                                 \n",
       "2012-01-01 05:00:00           0.15   0.18      0.22      0.18      0.14   \n",
       "2012-01-01 06:00:00           0.18   0.23      0.18      0.14      0.13   \n",
       "2012-01-01 07:00:00           0.23   0.29      0.14      0.13      0.13   \n",
       "2012-01-01 08:00:00           0.29   0.35      0.13      0.13      0.15   \n",
       "2012-01-01 09:00:00           0.35   0.37      0.13      0.15      0.18   \n",
       "...                            ...    ...       ...       ...       ...   \n",
       "2013-08-31 18:00:00           0.60   0.61      0.57      0.57      0.58   \n",
       "2013-08-31 19:00:00           0.61   0.60      0.57      0.58      0.59   \n",
       "2013-08-31 20:00:00           0.60   0.53      0.58      0.59      0.60   \n",
       "2013-08-31 21:00:00           0.53   0.44      0.59      0.60      0.60   \n",
       "2013-08-31 22:00:00           0.44   0.35      0.60      0.60      0.61   \n",
       "\n",
       "                     load_t-2  load_t-1  load_t  \n",
       "timestamp                                        \n",
       "2012-01-01 05:00:00      0.13      0.13    0.15  \n",
       "2012-01-01 06:00:00      0.13      0.15    0.18  \n",
       "2012-01-01 07:00:00      0.15      0.18    0.23  \n",
       "2012-01-01 08:00:00      0.18      0.23    0.29  \n",
       "2012-01-01 09:00:00      0.23      0.29    0.35  \n",
       "...                       ...       ...     ...  \n",
       "2013-08-31 18:00:00      0.59      0.60    0.60  \n",
       "2013-08-31 19:00:00      0.60      0.60    0.61  \n",
       "2013-08-31 20:00:00      0.60      0.61    0.60  \n",
       "2013-08-31 21:00:00      0.61      0.60    0.53  \n",
       "2013-08-31 22:00:00      0.60      0.53    0.44  \n",
       "\n",
       "[14610 rows x 8 columns]"
      ]
     },
     "execution_count": 334,
     "metadata": {},
     "output_type": "execute_result"
    }
   ],
   "source": [
    "# 1. Get the train data from the correct data range\n",
    "train = energy.copy()[energy.index < valid_start_dt][['load']]\n",
    "\n",
    "# 2. Scale data to be in range (0, 1). \n",
    "#   This transformation should be calibrated on the training set only. \n",
    "#   This is to prevent information from the validation or test sets \n",
    "#   leaking into the training data.\n",
    "scaler = MinMaxScaler()\n",
    "train['load'] = scaler.fit_transform(train)\n",
    "\n",
    "# 3. Shift the dataframe to create the input samples.\n",
    "train_shifted = train.copy()\n",
    "train_shifted['y_t+1'] = train_shifted['load'].shift(-1, freq='H')\n",
    "for t in range(1, T+1):\n",
    "    train_shifted[str(T-t)] = train_shifted['load'].shift(T-t, freq='H')\n",
    "y_col = 'y_t+1'\n",
    "X_cols = ['load_t-5',\n",
    "             'load_t-4',\n",
    "             'load_t-3',\n",
    "             'load_t-2',\n",
    "             'load_t-1',\n",
    "             'load_t']\n",
    "train_shifted.columns = ['load_original']+[y_col]+X_cols\n",
    "\n",
    "# 4.Discard any samples with missing values\n",
    "train_shifted = train_shifted.dropna(how='any')\n",
    "train_shifted"
   ]
  },
  {
   "cell_type": "code",
   "execution_count": 335,
   "metadata": {},
   "outputs": [],
   "source": [
    "y_train=train_shifted[y_col].values\n",
    "X_train=train_shifted[X_cols].values"
   ]
  },
  {
   "cell_type": "code",
   "execution_count": 336,
   "metadata": {},
   "outputs": [
    {
     "data": {
      "image/png": "[encoded data removed]",
      "text/plain": [
       "<IPython.core.display.Image object>"
      ]
     },
     "execution_count": 336,
     "metadata": {},
     "output_type": "execute_result"
    }
   ],
   "source": [
    "Image('./images/rnn_data_prep.png')"
   ]
  },
  {
   "cell_type": "code",
   "execution_count": 337,
   "metadata": {},
   "outputs": [],
   "source": [
    "# This is an important step to reshape the X into 3 dimension array\n",
    "X_train = X_train.reshape(X_train.shape[0], T, 1)"
   ]
  },
  {
   "cell_type": "code",
   "execution_count": 338,
   "metadata": {},
   "outputs": [
    {
     "data": {
      "text/plain": [
       "(14610,)"
      ]
     },
     "execution_count": 338,
     "metadata": {},
     "output_type": "execute_result"
    }
   ],
   "source": [
    "y_train.shape"
   ]
  },
  {
   "cell_type": "code",
   "execution_count": 339,
   "metadata": {},
   "outputs": [
    {
     "data": {
      "text/plain": [
       "array([0.18, 0.23, 0.29])"
      ]
     },
     "execution_count": 339,
     "metadata": {},
     "output_type": "execute_result"
    }
   ],
   "source": [
    "y_train[:3]"
   ]
  },
  {
   "cell_type": "code",
   "execution_count": 340,
   "metadata": {},
   "outputs": [
    {
     "data": {
      "text/plain": [
       "(14610, 6, 1)"
      ]
     },
     "execution_count": 340,
     "metadata": {},
     "output_type": "execute_result"
    }
   ],
   "source": [
    "X_train.shape"
   ]
  },
  {
   "cell_type": "code",
   "execution_count": 341,
   "metadata": {},
   "outputs": [
    {
     "data": {
      "text/plain": [
       "array([[[0.22],\n",
       "        [0.18],\n",
       "        [0.14],\n",
       "        [0.13],\n",
       "        [0.13],\n",
       "        [0.15]],\n",
       "\n",
       "       [[0.18],\n",
       "        [0.14],\n",
       "        [0.13],\n",
       "        [0.13],\n",
       "        [0.15],\n",
       "        [0.18]],\n",
       "\n",
       "       [[0.14],\n",
       "        [0.13],\n",
       "        [0.13],\n",
       "        [0.15],\n",
       "        [0.18],\n",
       "        [0.23]]])"
      ]
     },
     "execution_count": 341,
     "metadata": {},
     "output_type": "execute_result"
    }
   ],
   "source": [
    "X_train[:3]"
   ]
  },
  {
   "cell_type": "code",
   "execution_count": 342,
   "metadata": {},
   "outputs": [
    {
     "data": {
      "text/html": [
       "<div>\n",
       "<style scoped>\n",
       "    .dataframe tbody tr th:only-of-type {\n",
       "        vertical-align: middle;\n",
       "    }\n",
       "\n",
       "    .dataframe tbody tr th {\n",
       "        vertical-align: top;\n",
       "    }\n",
       "\n",
       "    .dataframe thead th {\n",
       "        text-align: right;\n",
       "    }\n",
       "</style>\n",
       "<table border=\"1\" class=\"dataframe\">\n",
       "  <thead>\n",
       "    <tr style=\"text-align: right;\">\n",
       "      <th></th>\n",
       "      <th>load_original</th>\n",
       "      <th>y_t+1</th>\n",
       "      <th>load_t-5</th>\n",
       "      <th>load_t-4</th>\n",
       "      <th>load_t-3</th>\n",
       "      <th>load_t-2</th>\n",
       "      <th>load_t-1</th>\n",
       "      <th>load_t</th>\n",
       "    </tr>\n",
       "    <tr>\n",
       "      <th>timestamp</th>\n",
       "      <th></th>\n",
       "      <th></th>\n",
       "      <th></th>\n",
       "      <th></th>\n",
       "      <th></th>\n",
       "      <th></th>\n",
       "      <th></th>\n",
       "      <th></th>\n",
       "    </tr>\n",
       "  </thead>\n",
       "  <tbody>\n",
       "    <tr>\n",
       "      <th>2012-01-01 05:00:00</th>\n",
       "      <td>0.15</td>\n",
       "      <td>0.18</td>\n",
       "      <td>0.22</td>\n",
       "      <td>0.18</td>\n",
       "      <td>0.14</td>\n",
       "      <td>0.13</td>\n",
       "      <td>0.13</td>\n",
       "      <td>0.15</td>\n",
       "    </tr>\n",
       "    <tr>\n",
       "      <th>2012-01-01 06:00:00</th>\n",
       "      <td>0.18</td>\n",
       "      <td>0.23</td>\n",
       "      <td>0.18</td>\n",
       "      <td>0.14</td>\n",
       "      <td>0.13</td>\n",
       "      <td>0.13</td>\n",
       "      <td>0.15</td>\n",
       "      <td>0.18</td>\n",
       "    </tr>\n",
       "    <tr>\n",
       "      <th>2012-01-01 07:00:00</th>\n",
       "      <td>0.23</td>\n",
       "      <td>0.29</td>\n",
       "      <td>0.14</td>\n",
       "      <td>0.13</td>\n",
       "      <td>0.13</td>\n",
       "      <td>0.15</td>\n",
       "      <td>0.18</td>\n",
       "      <td>0.23</td>\n",
       "    </tr>\n",
       "  </tbody>\n",
       "</table>\n",
       "</div>"
      ],
      "text/plain": [
       "                     load_original  y_t+1  load_t-5  load_t-4  load_t-3  \\\n",
       "timestamp                                                                 \n",
       "2012-01-01 05:00:00           0.15   0.18      0.22      0.18      0.14   \n",
       "2012-01-01 06:00:00           0.18   0.23      0.18      0.14      0.13   \n",
       "2012-01-01 07:00:00           0.23   0.29      0.14      0.13      0.13   \n",
       "\n",
       "                     load_t-2  load_t-1  load_t  \n",
       "timestamp                                        \n",
       "2012-01-01 05:00:00      0.13      0.13    0.15  \n",
       "2012-01-01 06:00:00      0.13      0.15    0.18  \n",
       "2012-01-01 07:00:00      0.15      0.18    0.23  "
      ]
     },
     "execution_count": 342,
     "metadata": {},
     "output_type": "execute_result"
    }
   ],
   "source": [
    "train_shifted.head(3)"
   ]
  },
  {
   "cell_type": "markdown",
   "metadata": {},
   "source": [
    "### Donnée de validation"
   ]
  },
  {
   "cell_type": "code",
   "execution_count": 343,
   "metadata": {},
   "outputs": [
    {
     "data": {
      "text/html": [
       "<div>\n",
       "<style scoped>\n",
       "    .dataframe tbody tr th:only-of-type {\n",
       "        vertical-align: middle;\n",
       "    }\n",
       "\n",
       "    .dataframe tbody tr th {\n",
       "        vertical-align: top;\n",
       "    }\n",
       "\n",
       "    .dataframe thead th {\n",
       "        text-align: right;\n",
       "    }\n",
       "</style>\n",
       "<table border=\"1\" class=\"dataframe\">\n",
       "  <thead>\n",
       "    <tr style=\"text-align: right;\">\n",
       "      <th></th>\n",
       "      <th>load</th>\n",
       "      <th>y+1</th>\n",
       "      <th>load_t-5</th>\n",
       "      <th>load_t-4</th>\n",
       "      <th>load_t-3</th>\n",
       "      <th>load_t-2</th>\n",
       "      <th>load_t-1</th>\n",
       "      <th>load_t-0</th>\n",
       "    </tr>\n",
       "    <tr>\n",
       "      <th>timestamp</th>\n",
       "      <th></th>\n",
       "      <th></th>\n",
       "      <th></th>\n",
       "      <th></th>\n",
       "      <th></th>\n",
       "      <th></th>\n",
       "      <th></th>\n",
       "      <th></th>\n",
       "    </tr>\n",
       "  </thead>\n",
       "  <tbody>\n",
       "    <tr>\n",
       "      <th>2013-09-01 00:00:00</th>\n",
       "      <td>0.29</td>\n",
       "      <td>0.25</td>\n",
       "      <td>0.61</td>\n",
       "      <td>0.60</td>\n",
       "      <td>0.53</td>\n",
       "      <td>0.44</td>\n",
       "      <td>0.35</td>\n",
       "      <td>0.29</td>\n",
       "    </tr>\n",
       "    <tr>\n",
       "      <th>2013-09-01 01:00:00</th>\n",
       "      <td>0.25</td>\n",
       "      <td>0.23</td>\n",
       "      <td>0.60</td>\n",
       "      <td>0.53</td>\n",
       "      <td>0.44</td>\n",
       "      <td>0.35</td>\n",
       "      <td>0.29</td>\n",
       "      <td>0.25</td>\n",
       "    </tr>\n",
       "    <tr>\n",
       "      <th>2013-09-01 02:00:00</th>\n",
       "      <td>0.23</td>\n",
       "      <td>0.21</td>\n",
       "      <td>0.53</td>\n",
       "      <td>0.44</td>\n",
       "      <td>0.35</td>\n",
       "      <td>0.29</td>\n",
       "      <td>0.25</td>\n",
       "      <td>0.23</td>\n",
       "    </tr>\n",
       "  </tbody>\n",
       "</table>\n",
       "</div>"
      ],
      "text/plain": [
       "                     load  y+1  load_t-5  load_t-4  load_t-3  load_t-2  \\\n",
       "timestamp                                                                \n",
       "2013-09-01 00:00:00  0.29 0.25      0.61      0.60      0.53      0.44   \n",
       "2013-09-01 01:00:00  0.25 0.23      0.60      0.53      0.44      0.35   \n",
       "2013-09-01 02:00:00  0.23 0.21      0.53      0.44      0.35      0.29   \n",
       "\n",
       "                     load_t-1  load_t-0  \n",
       "timestamp                                \n",
       "2013-09-01 00:00:00      0.35      0.29  \n",
       "2013-09-01 01:00:00      0.29      0.25  \n",
       "2013-09-01 02:00:00      0.25      0.23  "
      ]
     },
     "execution_count": 343,
     "metadata": {},
     "output_type": "execute_result"
    }
   ],
   "source": [
    "# 1. Get the validation data from the correct data range\n",
    "look_back_dt = dt.datetime.strptime(valid_start_dt, '%Y-%m-%d %H:%M:%S') - dt.timedelta(hours=T-1)\n",
    "valid = energy.copy()[(energy.index >=look_back_dt) & (energy.index < test_start_dt)][['load']]\n",
    "\n",
    "# 2. Scale the series using the transformer fitted on the training set:\n",
    "valid['load'] = scaler.transform(valid)\n",
    "\n",
    "# 3. Shift the dataframe to create the input samples\n",
    "valid_shifted = valid.copy()\n",
    "valid_shifted['y+1'] = valid_shifted['load'].shift(-1, freq='H')\n",
    "for t in range(1, T+1):\n",
    "    valid_shifted['load_t-'+str(T-t)] = valid_shifted['load'].shift(T-t, freq='H')\n",
    "    \n",
    "# 4.Discard any samples with missing values\n",
    "valid_shifted = valid_shifted.dropna(how='any')\n",
    "valid_shifted.head(3)"
   ]
  },
  {
   "cell_type": "code",
   "execution_count": 344,
   "metadata": {},
   "outputs": [],
   "source": [
    "y_valid = valid_shifted['y+1'].values\n",
    "X_valid = valid_shifted[['load_t-'+str(T-t) for t in range(1, T+1)]].values\n",
    "X_valid = X_valid.reshape(X_valid.shape[0], T, 1)"
   ]
  },
  {
   "cell_type": "code",
   "execution_count": 345,
   "metadata": {},
   "outputs": [
    {
     "data": {
      "text/plain": [
       "(5807,)"
      ]
     },
     "execution_count": 345,
     "metadata": {},
     "output_type": "execute_result"
    }
   ],
   "source": [
    "y_valid.shape"
   ]
  },
  {
   "cell_type": "code",
   "execution_count": 346,
   "metadata": {},
   "outputs": [
    {
     "data": {
      "text/plain": [
       "array([0.25, 0.23, 0.21])"
      ]
     },
     "execution_count": 346,
     "metadata": {},
     "output_type": "execute_result"
    }
   ],
   "source": [
    "y_valid[:3]"
   ]
  },
  {
   "cell_type": "code",
   "execution_count": 347,
   "metadata": {},
   "outputs": [
    {
     "data": {
      "text/plain": [
       "(5807, 6, 1)"
      ]
     },
     "execution_count": 347,
     "metadata": {},
     "output_type": "execute_result"
    }
   ],
   "source": [
    "X_valid.shape"
   ]
  },
  {
   "cell_type": "code",
   "execution_count": 348,
   "metadata": {},
   "outputs": [
    {
     "data": {
      "text/plain": [
       "array([[[0.61],\n",
       "        [0.6 ],\n",
       "        [0.53],\n",
       "        [0.44],\n",
       "        [0.35],\n",
       "        [0.29]],\n",
       "\n",
       "       [[0.6 ],\n",
       "        [0.53],\n",
       "        [0.44],\n",
       "        [0.35],\n",
       "        [0.29],\n",
       "        [0.25]],\n",
       "\n",
       "       [[0.53],\n",
       "        [0.44],\n",
       "        [0.35],\n",
       "        [0.29],\n",
       "        [0.25],\n",
       "        [0.23]]])"
      ]
     },
     "execution_count": 348,
     "metadata": {},
     "output_type": "execute_result"
    }
   ],
   "source": [
    "X_valid[:3]"
   ]
  },
  {
   "cell_type": "code",
   "execution_count": 349,
   "metadata": {},
   "outputs": [
    {
     "data": {
      "image/png": "[encoded data removed]",
      "text/plain": [
       "<IPython.core.display.Image object>"
      ]
     },
     "execution_count": 349,
     "metadata": {},
     "output_type": "execute_result"
    }
   ],
   "source": [
    "Image('./images/one_step_univariate.png')"
   ]
  },
  {
   "cell_type": "code",
   "execution_count": 351,
   "metadata": {},
   "outputs": [],
   "source": [
    "from keras.models import Model, Sequential\n",
    "from keras.layers import GRU, Dense\n",
    "from keras.callbacks import EarlyStopping"
   ]
  },
  {
   "cell_type": "code",
   "execution_count": 352,
   "metadata": {},
   "outputs": [],
   "source": [
    "LATENT_DIM = 5 # number of units in the RNN layer\n",
    "BATCH_SIZE = 32 # number of samples per mini-batch\n",
    "EPOCHS = 10 # maximum number of times the training algorithm will cycle through all samples"
   ]
  },
  {
   "cell_type": "code",
   "execution_count": 353,
   "metadata": {},
   "outputs": [],
   "source": [
    "model = Sequential()\n",
    "model.add(GRU(LATENT_DIM, input_shape=(T, 1)))\n",
    "model.add(Dense(HORIZON))"
   ]
  },
  {
   "cell_type": "code",
   "execution_count": 354,
   "metadata": {},
   "outputs": [],
   "source": [
    "model.compile(optimizer='RMSprop', loss='mse')"
   ]
  },
  {
   "cell_type": "code",
   "execution_count": 355,
   "metadata": {},
   "outputs": [
    {
     "name": "stdout",
     "output_type": "stream",
     "text": [
      "Model: \"sequential_3\"\n",
      "_________________________________________________________________\n",
      "Layer (type)                 Output Shape              Param #   \n",
      "=================================================================\n",
      "gru_2 (GRU)                  (None, 5)                 120       \n",
      "_________________________________________________________________\n",
      "dense_3 (Dense)              (None, 1)                 6         \n",
      "=================================================================\n",
      "Total params: 126\n",
      "Trainable params: 126\n",
      "Non-trainable params: 0\n",
      "_________________________________________________________________\n"
     ]
    }
   ],
   "source": [
    "model.summary()"
   ]
  },
  {
   "cell_type": "code",
   "execution_count": 356,
   "metadata": {},
   "outputs": [],
   "source": [
    "earlystop = EarlyStopping(monitor='val_loss', min_delta=0, patience=5)"
   ]
  },
  {
   "cell_type": "code",
   "execution_count": 357,
   "metadata": {},
   "outputs": [
    {
     "name": "stdout",
     "output_type": "stream",
     "text": [
      "Epoch 1/10\n",
      "457/457 [==============================] - 7s 7ms/step - loss: 0.0250 - val_loss: 0.0029\n",
      "Epoch 2/10\n",
      "457/457 [==============================] - 3s 6ms/step - loss: 0.0022 - val_loss: 0.0012\n",
      "Epoch 3/10\n",
      "457/457 [==============================] - 3s 7ms/step - loss: 9.3906e-04 - val_loss: 8.6233e-04\n",
      "Epoch 4/10\n",
      "457/457 [==============================] - 3s 7ms/step - loss: 7.0056e-04 - val_loss: 6.8841e-04\n",
      "Epoch 5/10\n",
      "457/457 [==============================] - 3s 7ms/step - loss: 6.0334e-04 - val_loss: 6.6448e-04\n",
      "Epoch 6/10\n",
      "457/457 [==============================] - 3s 7ms/step - loss: 5.7657e-04 - val_loss: 6.2945e-04\n",
      "Epoch 7/10\n",
      "457/457 [==============================] - 3s 7ms/step - loss: 5.8040e-04 - val_loss: 6.7085e-04\n",
      "Epoch 8/10\n",
      "457/457 [==============================] - 3s 7ms/step - loss: 5.6319e-04 - val_loss: 6.1439e-04\n",
      "Epoch 9/10\n",
      "457/457 [==============================] - 3s 7ms/step - loss: 5.6371e-04 - val_loss: 6.7614e-04\n",
      "Epoch 10/10\n",
      "457/457 [==============================] - 3s 7ms/step - loss: 5.5272e-04 - val_loss: 6.1051e-04\n"
     ]
    }
   ],
   "source": [
    "history = model.fit(X_train,\n",
    "                    y_train,\n",
    "                    batch_size=BATCH_SIZE,\n",
    "                    epochs=EPOCHS,\n",
    "                    validation_data=(X_valid, y_valid),\n",
    "                    callbacks=[earlystop],\n",
    "                    verbose=1)"
   ]
  },
  {
   "cell_type": "code",
   "execution_count": 358,
   "metadata": {},
   "outputs": [
    {
     "data": {
      "image/png": "[encoded data removed]",
      "text/plain": [
       "<Figure size 720x720 with 1 Axes>"
      ]
     },
     "metadata": {
      "needs_background": "light"
     },
     "output_type": "display_data"
    }
   ],
   "source": [
    "plot_df = pd.DataFrame.from_dict({'train_loss':history.history['loss'], 'val_loss':history.history['val_loss']})\n",
    "plot_df.plot(logy=True, figsize=(10,10), fontsize=12)\n",
    "plt.xlabel('epoch', fontsize=12)\n",
    "plt.ylabel('loss', fontsize=12)\n",
    "plt.show()"
   ]
  },
  {
   "cell_type": "code",
   "execution_count": 359,
   "metadata": {},
   "outputs": [],
   "source": [
    "# 1. Get the test data from the correct data range\n",
    "look_back_dt = dt.datetime.strptime(test_start_dt, '%Y-%m-%d %H:%M:%S') - dt.timedelta(hours=T-1)\n",
    "test = energy.copy()[test_start_dt:][['load']]\n",
    "\n",
    "# 2. Scale the data\n",
    "test['load'] = scaler.transform(test)\n",
    "\n",
    "# 3. Shift the dataframe to create the input samples\n",
    "test_shifted = test.copy()\n",
    "test_shifted['y_t+1'] = test_shifted['load'].shift(-1, freq='H')\n",
    "for t in range(1, T+1):\n",
    "    test_shifted['load_t-'+str(T-t)] = test_shifted['load'].shift(T-t, freq='H')\n",
    "\n",
    "# 4.Discard any samples with missing values\n",
    "test_shifted = test_shifted.dropna(how='any')\n",
    "\n",
    "# 5.Transform this Pandas dataframe into a numpy array\n",
    "y_test = test_shifted['y_t+1'].values\n",
    "X_test = test_shifted[['load_t-'+str(T-t) for t in range(1, T+1)]].values\n",
    "X_test = X_test.reshape(X_test.shape[0], T, 1)\n"
   ]
  },
  {
   "cell_type": "code",
   "execution_count": 360,
   "metadata": {},
   "outputs": [
    {
     "data": {
      "text/plain": [
       "(5874,)"
      ]
     },
     "execution_count": 360,
     "metadata": {},
     "output_type": "execute_result"
    }
   ],
   "source": [
    "y_test.shape"
   ]
  },
  {
   "cell_type": "code",
   "execution_count": 361,
   "metadata": {},
   "outputs": [
    {
     "data": {
      "text/plain": [
       "(5874, 6, 1)"
      ]
     },
     "execution_count": 361,
     "metadata": {},
     "output_type": "execute_result"
    }
   ],
   "source": [
    "X_test.shape"
   ]
  },
  {
   "cell_type": "code",
   "execution_count": 362,
   "metadata": {},
   "outputs": [
    {
     "data": {
      "text/plain": [
       "array([[0.36],\n",
       "       [0.49],\n",
       "       [0.49],\n",
       "       ...,\n",
       "       [0.54],\n",
       "       [0.47],\n",
       "       [0.43]], dtype=float32)"
      ]
     },
     "execution_count": 362,
     "metadata": {},
     "output_type": "execute_result"
    }
   ],
   "source": [
    "predictions = model.predict(X_test)\n",
    "predictions"
   ]
  },
  {
   "cell_type": "code",
   "execution_count": 363,
   "metadata": {},
   "outputs": [
    {
     "data": {
      "text/html": [
       "<div>\n",
       "<style scoped>\n",
       "    .dataframe tbody tr th:only-of-type {\n",
       "        vertical-align: middle;\n",
       "    }\n",
       "\n",
       "    .dataframe tbody tr th {\n",
       "        vertical-align: top;\n",
       "    }\n",
       "\n",
       "    .dataframe thead th {\n",
       "        text-align: right;\n",
       "    }\n",
       "</style>\n",
       "<table border=\"1\" class=\"dataframe\">\n",
       "  <thead>\n",
       "    <tr style=\"text-align: right;\">\n",
       "      <th></th>\n",
       "      <th>timestamp</th>\n",
       "      <th>h</th>\n",
       "      <th>prediction</th>\n",
       "      <th>actual</th>\n",
       "    </tr>\n",
       "  </thead>\n",
       "  <tbody>\n",
       "    <tr>\n",
       "      <th>0</th>\n",
       "      <td>2014-05-01 05:00:00</td>\n",
       "      <td>t+1</td>\n",
       "      <td>3,133.25</td>\n",
       "      <td>3,216.00</td>\n",
       "    </tr>\n",
       "    <tr>\n",
       "      <th>1</th>\n",
       "      <td>2014-05-01 06:00:00</td>\n",
       "      <td>t+1</td>\n",
       "      <td>3,583.68</td>\n",
       "      <td>3,467.00</td>\n",
       "    </tr>\n",
       "    <tr>\n",
       "      <th>2</th>\n",
       "      <td>2014-05-01 07:00:00</td>\n",
       "      <td>t+1</td>\n",
       "      <td>3,563.74</td>\n",
       "      <td>3,514.00</td>\n",
       "    </tr>\n",
       "    <tr>\n",
       "      <th>3</th>\n",
       "      <td>2014-05-01 08:00:00</td>\n",
       "      <td>t+1</td>\n",
       "      <td>3,501.22</td>\n",
       "      <td>3,532.00</td>\n",
       "    </tr>\n",
       "    <tr>\n",
       "      <th>4</th>\n",
       "      <td>2014-05-01 09:00:00</td>\n",
       "      <td>t+1</td>\n",
       "      <td>3,559.74</td>\n",
       "      <td>3,548.00</td>\n",
       "    </tr>\n",
       "  </tbody>\n",
       "</table>\n",
       "</div>"
      ],
      "text/plain": [
       "            timestamp    h  prediction   actual\n",
       "0 2014-05-01 05:00:00  t+1    3,133.25 3,216.00\n",
       "1 2014-05-01 06:00:00  t+1    3,583.68 3,467.00\n",
       "2 2014-05-01 07:00:00  t+1    3,563.74 3,514.00\n",
       "3 2014-05-01 08:00:00  t+1    3,501.22 3,532.00\n",
       "4 2014-05-01 09:00:00  t+1    3,559.74 3,548.00"
      ]
     },
     "execution_count": 363,
     "metadata": {},
     "output_type": "execute_result"
    }
   ],
   "source": [
    "eval_df = pd.DataFrame(predictions, columns=['t+'+str(t) for t in range(1, HORIZON+1)])\n",
    "eval_df['timestamp'] = test_shifted.index\n",
    "eval_df = pd.melt(eval_df, id_vars='timestamp', value_name='prediction', var_name='h')\n",
    "eval_df['actual'] = np.transpose(y_test).ravel()\n",
    "eval_df[['prediction', 'actual']] = scaler.inverse_transform(eval_df[['prediction', 'actual']])\n",
    "eval_df.head()"
   ]
  },
  {
   "cell_type": "code",
   "execution_count": 367,
   "metadata": {},
   "outputs": [],
   "source": [
    "# %load -s mape common/utils.py\n",
    "def mape(predictions, actuals):\n",
    "    \"\"\"Mean absolute percentage error\"\"\"\n",
    "    return ((predictions - actuals).abs() / actuals).mean()"
   ]
  },
  {
   "cell_type": "code",
   "execution_count": 368,
   "metadata": {},
   "outputs": [
    {
     "data": {
      "text/plain": [
       "0.015135533851418533"
      ]
     },
     "execution_count": 368,
     "metadata": {},
     "output_type": "execute_result"
    }
   ],
   "source": [
    "mape(eval_df['prediction'], eval_df['actual'])"
   ]
  },
  {
   "cell_type": "code",
   "execution_count": 384,
   "metadata": {},
   "outputs": [
    {
     "data": {
      "text/html": [
       "<div>\n",
       "<style scoped>\n",
       "    .dataframe tbody tr th:only-of-type {\n",
       "        vertical-align: middle;\n",
       "    }\n",
       "\n",
       "    .dataframe tbody tr th {\n",
       "        vertical-align: top;\n",
       "    }\n",
       "\n",
       "    .dataframe thead th {\n",
       "        text-align: right;\n",
       "    }\n",
       "</style>\n",
       "<table border=\"1\" class=\"dataframe\">\n",
       "  <thead>\n",
       "    <tr style=\"text-align: right;\">\n",
       "      <th></th>\n",
       "      <th>timestamp</th>\n",
       "      <th>h</th>\n",
       "      <th>prediction</th>\n",
       "      <th>actual</th>\n",
       "    </tr>\n",
       "  </thead>\n",
       "  <tbody>\n",
       "    <tr>\n",
       "      <th>0</th>\n",
       "      <td>2014-05-01 05:00:00</td>\n",
       "      <td>t+1</td>\n",
       "      <td>3,133.25</td>\n",
       "      <td>3,216.00</td>\n",
       "    </tr>\n",
       "    <tr>\n",
       "      <th>1</th>\n",
       "      <td>2014-05-01 06:00:00</td>\n",
       "      <td>t+1</td>\n",
       "      <td>3,583.68</td>\n",
       "      <td>3,467.00</td>\n",
       "    </tr>\n",
       "    <tr>\n",
       "      <th>2</th>\n",
       "      <td>2014-05-01 07:00:00</td>\n",
       "      <td>t+1</td>\n",
       "      <td>3,563.74</td>\n",
       "      <td>3,514.00</td>\n",
       "    </tr>\n",
       "    <tr>\n",
       "      <th>3</th>\n",
       "      <td>2014-05-01 08:00:00</td>\n",
       "      <td>t+1</td>\n",
       "      <td>3,501.22</td>\n",
       "      <td>3,532.00</td>\n",
       "    </tr>\n",
       "    <tr>\n",
       "      <th>4</th>\n",
       "      <td>2014-05-01 09:00:00</td>\n",
       "      <td>t+1</td>\n",
       "      <td>3,559.74</td>\n",
       "      <td>3,548.00</td>\n",
       "    </tr>\n",
       "    <tr>\n",
       "      <th>...</th>\n",
       "      <td>...</td>\n",
       "      <td>...</td>\n",
       "      <td>...</td>\n",
       "      <td>...</td>\n",
       "    </tr>\n",
       "    <tr>\n",
       "      <th>5869</th>\n",
       "      <td>2014-12-31 18:00:00</td>\n",
       "      <td>t+1</td>\n",
       "      <td>4,001.80</td>\n",
       "      <td>4,012.00</td>\n",
       "    </tr>\n",
       "    <tr>\n",
       "      <th>5870</th>\n",
       "      <td>2014-12-31 19:00:00</td>\n",
       "      <td>t+1</td>\n",
       "      <td>3,876.52</td>\n",
       "      <td>3,856.00</td>\n",
       "    </tr>\n",
       "    <tr>\n",
       "      <th>5871</th>\n",
       "      <td>2014-12-31 20:00:00</td>\n",
       "      <td>t+1</td>\n",
       "      <td>3,722.91</td>\n",
       "      <td>3,671.00</td>\n",
       "    </tr>\n",
       "    <tr>\n",
       "      <th>5872</th>\n",
       "      <td>2014-12-31 21:00:00</td>\n",
       "      <td>t+1</td>\n",
       "      <td>3,491.29</td>\n",
       "      <td>3,499.00</td>\n",
       "    </tr>\n",
       "    <tr>\n",
       "      <th>5873</th>\n",
       "      <td>2014-12-31 22:00:00</td>\n",
       "      <td>t+1</td>\n",
       "      <td>3,365.22</td>\n",
       "      <td>3,345.00</td>\n",
       "    </tr>\n",
       "  </tbody>\n",
       "</table>\n",
       "<p>5874 rows × 4 columns</p>\n",
       "</div>"
      ],
      "text/plain": [
       "               timestamp    h  prediction   actual\n",
       "0    2014-05-01 05:00:00  t+1    3,133.25 3,216.00\n",
       "1    2014-05-01 06:00:00  t+1    3,583.68 3,467.00\n",
       "2    2014-05-01 07:00:00  t+1    3,563.74 3,514.00\n",
       "3    2014-05-01 08:00:00  t+1    3,501.22 3,532.00\n",
       "4    2014-05-01 09:00:00  t+1    3,559.74 3,548.00\n",
       "...                  ...  ...         ...      ...\n",
       "5869 2014-12-31 18:00:00  t+1    4,001.80 4,012.00\n",
       "5870 2014-12-31 19:00:00  t+1    3,876.52 3,856.00\n",
       "5871 2014-12-31 20:00:00  t+1    3,722.91 3,671.00\n",
       "5872 2014-12-31 21:00:00  t+1    3,491.29 3,499.00\n",
       "5873 2014-12-31 22:00:00  t+1    3,365.22 3,345.00\n",
       "\n",
       "[5874 rows x 4 columns]"
      ]
     },
     "execution_count": 384,
     "metadata": {},
     "output_type": "execute_result"
    }
   ],
   "source": [
    "eval_df"
   ]
  },
  {
   "cell_type": "markdown",
   "metadata": {},
   "source": [
    "### Evaluation de la courbe des prédictes et des données réelles sur une période d'une semaine"
   ]
  },
  {
   "cell_type": "code",
   "execution_count": 385,
   "metadata": {},
   "outputs": [
    {
     "data": {
      "image/png": "[encoded data removed]",
      "text/plain": [
       "<Figure size 1080x576 with 1 Axes>"
      ]
     },
     "metadata": {
      "needs_background": "light"
     },
     "output_type": "display_data"
    }
   ],
   "source": [
    "eval_df[eval_df.timestamp<'2014-05-08'].plot(x='timestamp', y=['prediction', 'actual'], style=['r', 'b'], figsize=(15, 8))\n",
    "plt.xlabel('timestamp', fontsize=12)\n",
    "plt.ylabel('load', fontsize=12)\n",
    "plt.show()"
   ]
  },
  {
   "cell_type": "markdown",
   "metadata": {},
   "source": [
    "# Dilated CNN model\n",
    "Dans cette partie, nous démontrons comment:\n",
    "- préparer une donnée de series temporelles avec un Convolutional Neural Network (CNN) forecasting model\n",
    "- obtenir des données dans la forme requise pour l'API keras\n",
    "- implémenter un modèle CNN dans keras pour prédire la prochaine étape (temps * t + 1 *) dans la série temporelle\n",
    "- permettre un arrêt précoce pour réduire la probabilité de surajustement du modèle\n",
    "- évaluer le modèle sur un jeu de données de test\n"
   ]
  },
  {
   "cell_type": "code",
   "execution_count": 275,
   "metadata": {},
   "outputs": [],
   "source": [
    "from glob import glob"
   ]
  },
  {
   "cell_type": "code",
   "execution_count": 386,
   "metadata": {},
   "outputs": [
    {
     "data": {
      "image/png": "[encoded data removed]",
      "text/plain": [
       "<IPython.core.display.Image object>"
      ]
     },
     "execution_count": 386,
     "metadata": {},
     "output_type": "execute_result"
    }
   ],
   "source": [
    "Image('./images/one_step_forecast_T10.png')"
   ]
  },
  {
   "cell_type": "code",
   "execution_count": 387,
   "metadata": {},
   "outputs": [],
   "source": [
    "T = 10\n",
    "HORIZON = 1"
   ]
  },
  {
   "cell_type": "code",
   "execution_count": 388,
   "metadata": {},
   "outputs": [],
   "source": [
    "train = energy.copy()[energy.index < valid_start_dt][['load']]"
   ]
  },
  {
   "cell_type": "code",
   "execution_count": 389,
   "metadata": {},
   "outputs": [
    {
     "data": {
      "text/html": [
       "<div>\n",
       "<style scoped>\n",
       "    .dataframe tbody tr th:only-of-type {\n",
       "        vertical-align: middle;\n",
       "    }\n",
       "\n",
       "    .dataframe tbody tr th {\n",
       "        vertical-align: top;\n",
       "    }\n",
       "\n",
       "    .dataframe thead th {\n",
       "        text-align: right;\n",
       "    }\n",
       "</style>\n",
       "<table border=\"1\" class=\"dataframe\">\n",
       "  <thead>\n",
       "    <tr style=\"text-align: right;\">\n",
       "      <th></th>\n",
       "      <th>load</th>\n",
       "    </tr>\n",
       "    <tr>\n",
       "      <th>timestamp</th>\n",
       "      <th></th>\n",
       "    </tr>\n",
       "  </thead>\n",
       "  <tbody>\n",
       "    <tr>\n",
       "      <th>2012-01-01 00:00:00</th>\n",
       "      <td>0.22</td>\n",
       "    </tr>\n",
       "    <tr>\n",
       "      <th>2012-01-01 01:00:00</th>\n",
       "      <td>0.18</td>\n",
       "    </tr>\n",
       "    <tr>\n",
       "      <th>2012-01-01 02:00:00</th>\n",
       "      <td>0.14</td>\n",
       "    </tr>\n",
       "    <tr>\n",
       "      <th>2012-01-01 03:00:00</th>\n",
       "      <td>0.13</td>\n",
       "    </tr>\n",
       "    <tr>\n",
       "      <th>2012-01-01 04:00:00</th>\n",
       "      <td>0.13</td>\n",
       "    </tr>\n",
       "    <tr>\n",
       "      <th>2012-01-01 05:00:00</th>\n",
       "      <td>0.15</td>\n",
       "    </tr>\n",
       "    <tr>\n",
       "      <th>2012-01-01 06:00:00</th>\n",
       "      <td>0.18</td>\n",
       "    </tr>\n",
       "    <tr>\n",
       "      <th>2012-01-01 07:00:00</th>\n",
       "      <td>0.23</td>\n",
       "    </tr>\n",
       "    <tr>\n",
       "      <th>2012-01-01 08:00:00</th>\n",
       "      <td>0.29</td>\n",
       "    </tr>\n",
       "    <tr>\n",
       "      <th>2012-01-01 09:00:00</th>\n",
       "      <td>0.35</td>\n",
       "    </tr>\n",
       "  </tbody>\n",
       "</table>\n",
       "</div>"
      ],
      "text/plain": [
       "                     load\n",
       "timestamp                \n",
       "2012-01-01 00:00:00  0.22\n",
       "2012-01-01 01:00:00  0.18\n",
       "2012-01-01 02:00:00  0.14\n",
       "2012-01-01 03:00:00  0.13\n",
       "2012-01-01 04:00:00  0.13\n",
       "2012-01-01 05:00:00  0.15\n",
       "2012-01-01 06:00:00  0.18\n",
       "2012-01-01 07:00:00  0.23\n",
       "2012-01-01 08:00:00  0.29\n",
       "2012-01-01 09:00:00  0.35"
      ]
     },
     "execution_count": 389,
     "metadata": {},
     "output_type": "execute_result"
    }
   ],
   "source": [
    "from sklearn.preprocessing import MinMaxScaler\n",
    "scaler = MinMaxScaler()\n",
    "train['load'] = scaler.fit_transform(train)\n",
    "train.head(10)"
   ]
  },
  {
   "cell_type": "code",
   "execution_count": 390,
   "metadata": {},
   "outputs": [
    {
     "data": {
      "image/png": "[encoded data removed]",
      "text/plain": [
       "<Figure size 432x288 with 1 Axes>"
      ]
     },
     "metadata": {
      "needs_background": "light"
     },
     "output_type": "display_data"
    },
    {
     "data": {
      "image/png": "[encoded data removed]",
      "text/plain": [
       "<Figure size 432x288 with 1 Axes>"
      ]
     },
     "metadata": {
      "needs_background": "light"
     },
     "output_type": "display_data"
    }
   ],
   "source": [
    "energy[energy.index < valid_start_dt][['load']].rename(columns={'load':'original load'}).plot.hist(bins=100, fontsize=12)\n",
    "train.rename(columns={'load':'scaled load'}).plot.hist(bins=100, fontsize=12)\n",
    "plt.show()"
   ]
  },
  {
   "cell_type": "markdown",
   "metadata": {},
   "source": [
    "### 3. Décalez les valeurs de la série chronologique pour créer une trame de données Pandas contenant toutes les données d'un seul exemple d'apprentissage\n",
    "Tout d'abord, nous créons la variable target (* y_t + 1 *). Si nous utilisons la convention selon laquelle la trame de données est indexée à l'heure * t *, nous devons déplacer la variable * load * vers l'avant d'une heure. En utilisant le paramètre freq, nous pouvons dire aux Pandas que la fréquence de la série temporelle est horaire. Cela garantit que le décalage ne saute pas par-dessus les périodes manquantes dans la série temporelle."
   ]
  },
  {
   "cell_type": "code",
   "execution_count": 391,
   "metadata": {},
   "outputs": [
    {
     "data": {
      "text/html": [
       "<div>\n",
       "<style scoped>\n",
       "    .dataframe tbody tr th:only-of-type {\n",
       "        vertical-align: middle;\n",
       "    }\n",
       "\n",
       "    .dataframe tbody tr th {\n",
       "        vertical-align: top;\n",
       "    }\n",
       "\n",
       "    .dataframe thead th {\n",
       "        text-align: right;\n",
       "    }\n",
       "</style>\n",
       "<table border=\"1\" class=\"dataframe\">\n",
       "  <thead>\n",
       "    <tr style=\"text-align: right;\">\n",
       "      <th></th>\n",
       "      <th>load</th>\n",
       "      <th>y_t+1</th>\n",
       "    </tr>\n",
       "    <tr>\n",
       "      <th>timestamp</th>\n",
       "      <th></th>\n",
       "      <th></th>\n",
       "    </tr>\n",
       "  </thead>\n",
       "  <tbody>\n",
       "    <tr>\n",
       "      <th>2012-01-01 00:00:00</th>\n",
       "      <td>0.22</td>\n",
       "      <td>0.18</td>\n",
       "    </tr>\n",
       "    <tr>\n",
       "      <th>2012-01-01 01:00:00</th>\n",
       "      <td>0.18</td>\n",
       "      <td>0.14</td>\n",
       "    </tr>\n",
       "    <tr>\n",
       "      <th>2012-01-01 02:00:00</th>\n",
       "      <td>0.14</td>\n",
       "      <td>0.13</td>\n",
       "    </tr>\n",
       "    <tr>\n",
       "      <th>2012-01-01 03:00:00</th>\n",
       "      <td>0.13</td>\n",
       "      <td>0.13</td>\n",
       "    </tr>\n",
       "    <tr>\n",
       "      <th>2012-01-01 04:00:00</th>\n",
       "      <td>0.13</td>\n",
       "      <td>0.15</td>\n",
       "    </tr>\n",
       "    <tr>\n",
       "      <th>2012-01-01 05:00:00</th>\n",
       "      <td>0.15</td>\n",
       "      <td>0.18</td>\n",
       "    </tr>\n",
       "    <tr>\n",
       "      <th>2012-01-01 06:00:00</th>\n",
       "      <td>0.18</td>\n",
       "      <td>0.23</td>\n",
       "    </tr>\n",
       "    <tr>\n",
       "      <th>2012-01-01 07:00:00</th>\n",
       "      <td>0.23</td>\n",
       "      <td>0.29</td>\n",
       "    </tr>\n",
       "    <tr>\n",
       "      <th>2012-01-01 08:00:00</th>\n",
       "      <td>0.29</td>\n",
       "      <td>0.35</td>\n",
       "    </tr>\n",
       "    <tr>\n",
       "      <th>2012-01-01 09:00:00</th>\n",
       "      <td>0.35</td>\n",
       "      <td>0.37</td>\n",
       "    </tr>\n",
       "  </tbody>\n",
       "</table>\n",
       "</div>"
      ],
      "text/plain": [
       "                     load  y_t+1\n",
       "timestamp                       \n",
       "2012-01-01 00:00:00  0.22   0.18\n",
       "2012-01-01 01:00:00  0.18   0.14\n",
       "2012-01-01 02:00:00  0.14   0.13\n",
       "2012-01-01 03:00:00  0.13   0.13\n",
       "2012-01-01 04:00:00  0.13   0.15\n",
       "2012-01-01 05:00:00  0.15   0.18\n",
       "2012-01-01 06:00:00  0.18   0.23\n",
       "2012-01-01 07:00:00  0.23   0.29\n",
       "2012-01-01 08:00:00  0.29   0.35\n",
       "2012-01-01 09:00:00  0.35   0.37"
      ]
     },
     "execution_count": 391,
     "metadata": {},
     "output_type": "execute_result"
    }
   ],
   "source": [
    "train_shifted = train.copy()\n",
    "train_shifted['y_t+1'] = train_shifted['load'].shift(-1, freq='H')\n",
    "train_shifted.head(10)"
   ]
  },
  {
   "cell_type": "code",
   "execution_count": 392,
   "metadata": {},
   "outputs": [
    {
     "data": {
      "text/html": [
       "<div>\n",
       "<style scoped>\n",
       "    .dataframe tbody tr th:only-of-type {\n",
       "        vertical-align: middle;\n",
       "    }\n",
       "\n",
       "    .dataframe tbody tr th {\n",
       "        vertical-align: top;\n",
       "    }\n",
       "\n",
       "    .dataframe thead th {\n",
       "        text-align: right;\n",
       "    }\n",
       "</style>\n",
       "<table border=\"1\" class=\"dataframe\">\n",
       "  <thead>\n",
       "    <tr style=\"text-align: right;\">\n",
       "      <th></th>\n",
       "      <th>load_original</th>\n",
       "      <th>y_t+1</th>\n",
       "      <th>load_t-9</th>\n",
       "      <th>load_t-8</th>\n",
       "      <th>load_t-7</th>\n",
       "      <th>load_t-6</th>\n",
       "      <th>load_t-5</th>\n",
       "      <th>load_t-4</th>\n",
       "      <th>load_t-3</th>\n",
       "      <th>load_t-2</th>\n",
       "      <th>load_t-1</th>\n",
       "      <th>load_t-0</th>\n",
       "    </tr>\n",
       "    <tr>\n",
       "      <th>timestamp</th>\n",
       "      <th></th>\n",
       "      <th></th>\n",
       "      <th></th>\n",
       "      <th></th>\n",
       "      <th></th>\n",
       "      <th></th>\n",
       "      <th></th>\n",
       "      <th></th>\n",
       "      <th></th>\n",
       "      <th></th>\n",
       "      <th></th>\n",
       "      <th></th>\n",
       "    </tr>\n",
       "  </thead>\n",
       "  <tbody>\n",
       "    <tr>\n",
       "      <th>2012-01-01 00:00:00</th>\n",
       "      <td>0.22</td>\n",
       "      <td>0.18</td>\n",
       "      <td>nan</td>\n",
       "      <td>nan</td>\n",
       "      <td>nan</td>\n",
       "      <td>nan</td>\n",
       "      <td>nan</td>\n",
       "      <td>nan</td>\n",
       "      <td>nan</td>\n",
       "      <td>nan</td>\n",
       "      <td>nan</td>\n",
       "      <td>0.22</td>\n",
       "    </tr>\n",
       "    <tr>\n",
       "      <th>2012-01-01 01:00:00</th>\n",
       "      <td>0.18</td>\n",
       "      <td>0.14</td>\n",
       "      <td>nan</td>\n",
       "      <td>nan</td>\n",
       "      <td>nan</td>\n",
       "      <td>nan</td>\n",
       "      <td>nan</td>\n",
       "      <td>nan</td>\n",
       "      <td>nan</td>\n",
       "      <td>nan</td>\n",
       "      <td>0.22</td>\n",
       "      <td>0.18</td>\n",
       "    </tr>\n",
       "    <tr>\n",
       "      <th>2012-01-01 02:00:00</th>\n",
       "      <td>0.14</td>\n",
       "      <td>0.13</td>\n",
       "      <td>nan</td>\n",
       "      <td>nan</td>\n",
       "      <td>nan</td>\n",
       "      <td>nan</td>\n",
       "      <td>nan</td>\n",
       "      <td>nan</td>\n",
       "      <td>nan</td>\n",
       "      <td>0.22</td>\n",
       "      <td>0.18</td>\n",
       "      <td>0.14</td>\n",
       "    </tr>\n",
       "    <tr>\n",
       "      <th>2012-01-01 03:00:00</th>\n",
       "      <td>0.13</td>\n",
       "      <td>0.13</td>\n",
       "      <td>nan</td>\n",
       "      <td>nan</td>\n",
       "      <td>nan</td>\n",
       "      <td>nan</td>\n",
       "      <td>nan</td>\n",
       "      <td>nan</td>\n",
       "      <td>0.22</td>\n",
       "      <td>0.18</td>\n",
       "      <td>0.14</td>\n",
       "      <td>0.13</td>\n",
       "    </tr>\n",
       "    <tr>\n",
       "      <th>2012-01-01 04:00:00</th>\n",
       "      <td>0.13</td>\n",
       "      <td>0.15</td>\n",
       "      <td>nan</td>\n",
       "      <td>nan</td>\n",
       "      <td>nan</td>\n",
       "      <td>nan</td>\n",
       "      <td>nan</td>\n",
       "      <td>0.22</td>\n",
       "      <td>0.18</td>\n",
       "      <td>0.14</td>\n",
       "      <td>0.13</td>\n",
       "      <td>0.13</td>\n",
       "    </tr>\n",
       "    <tr>\n",
       "      <th>2012-01-01 05:00:00</th>\n",
       "      <td>0.15</td>\n",
       "      <td>0.18</td>\n",
       "      <td>nan</td>\n",
       "      <td>nan</td>\n",
       "      <td>nan</td>\n",
       "      <td>nan</td>\n",
       "      <td>0.22</td>\n",
       "      <td>0.18</td>\n",
       "      <td>0.14</td>\n",
       "      <td>0.13</td>\n",
       "      <td>0.13</td>\n",
       "      <td>0.15</td>\n",
       "    </tr>\n",
       "    <tr>\n",
       "      <th>2012-01-01 06:00:00</th>\n",
       "      <td>0.18</td>\n",
       "      <td>0.23</td>\n",
       "      <td>nan</td>\n",
       "      <td>nan</td>\n",
       "      <td>nan</td>\n",
       "      <td>0.22</td>\n",
       "      <td>0.18</td>\n",
       "      <td>0.14</td>\n",
       "      <td>0.13</td>\n",
       "      <td>0.13</td>\n",
       "      <td>0.15</td>\n",
       "      <td>0.18</td>\n",
       "    </tr>\n",
       "    <tr>\n",
       "      <th>2012-01-01 07:00:00</th>\n",
       "      <td>0.23</td>\n",
       "      <td>0.29</td>\n",
       "      <td>nan</td>\n",
       "      <td>nan</td>\n",
       "      <td>0.22</td>\n",
       "      <td>0.18</td>\n",
       "      <td>0.14</td>\n",
       "      <td>0.13</td>\n",
       "      <td>0.13</td>\n",
       "      <td>0.15</td>\n",
       "      <td>0.18</td>\n",
       "      <td>0.23</td>\n",
       "    </tr>\n",
       "    <tr>\n",
       "      <th>2012-01-01 08:00:00</th>\n",
       "      <td>0.29</td>\n",
       "      <td>0.35</td>\n",
       "      <td>nan</td>\n",
       "      <td>0.22</td>\n",
       "      <td>0.18</td>\n",
       "      <td>0.14</td>\n",
       "      <td>0.13</td>\n",
       "      <td>0.13</td>\n",
       "      <td>0.15</td>\n",
       "      <td>0.18</td>\n",
       "      <td>0.23</td>\n",
       "      <td>0.29</td>\n",
       "    </tr>\n",
       "    <tr>\n",
       "      <th>2012-01-01 09:00:00</th>\n",
       "      <td>0.35</td>\n",
       "      <td>0.37</td>\n",
       "      <td>0.22</td>\n",
       "      <td>0.18</td>\n",
       "      <td>0.14</td>\n",
       "      <td>0.13</td>\n",
       "      <td>0.13</td>\n",
       "      <td>0.15</td>\n",
       "      <td>0.18</td>\n",
       "      <td>0.23</td>\n",
       "      <td>0.29</td>\n",
       "      <td>0.35</td>\n",
       "    </tr>\n",
       "  </tbody>\n",
       "</table>\n",
       "</div>"
      ],
      "text/plain": [
       "                     load_original  y_t+1  load_t-9  load_t-8  load_t-7  \\\n",
       "timestamp                                                                 \n",
       "2012-01-01 00:00:00           0.22   0.18       nan       nan       nan   \n",
       "2012-01-01 01:00:00           0.18   0.14       nan       nan       nan   \n",
       "2012-01-01 02:00:00           0.14   0.13       nan       nan       nan   \n",
       "2012-01-01 03:00:00           0.13   0.13       nan       nan       nan   \n",
       "2012-01-01 04:00:00           0.13   0.15       nan       nan       nan   \n",
       "2012-01-01 05:00:00           0.15   0.18       nan       nan       nan   \n",
       "2012-01-01 06:00:00           0.18   0.23       nan       nan       nan   \n",
       "2012-01-01 07:00:00           0.23   0.29       nan       nan      0.22   \n",
       "2012-01-01 08:00:00           0.29   0.35       nan      0.22      0.18   \n",
       "2012-01-01 09:00:00           0.35   0.37      0.22      0.18      0.14   \n",
       "\n",
       "                     load_t-6  load_t-5  load_t-4  load_t-3  load_t-2  \\\n",
       "timestamp                                                               \n",
       "2012-01-01 00:00:00       nan       nan       nan       nan       nan   \n",
       "2012-01-01 01:00:00       nan       nan       nan       nan       nan   \n",
       "2012-01-01 02:00:00       nan       nan       nan       nan      0.22   \n",
       "2012-01-01 03:00:00       nan       nan       nan      0.22      0.18   \n",
       "2012-01-01 04:00:00       nan       nan      0.22      0.18      0.14   \n",
       "2012-01-01 05:00:00       nan      0.22      0.18      0.14      0.13   \n",
       "2012-01-01 06:00:00      0.22      0.18      0.14      0.13      0.13   \n",
       "2012-01-01 07:00:00      0.18      0.14      0.13      0.13      0.15   \n",
       "2012-01-01 08:00:00      0.14      0.13      0.13      0.15      0.18   \n",
       "2012-01-01 09:00:00      0.13      0.13      0.15      0.18      0.23   \n",
       "\n",
       "                     load_t-1  load_t-0  \n",
       "timestamp                                \n",
       "2012-01-01 00:00:00       nan      0.22  \n",
       "2012-01-01 01:00:00      0.22      0.18  \n",
       "2012-01-01 02:00:00      0.18      0.14  \n",
       "2012-01-01 03:00:00      0.14      0.13  \n",
       "2012-01-01 04:00:00      0.13      0.13  \n",
       "2012-01-01 05:00:00      0.13      0.15  \n",
       "2012-01-01 06:00:00      0.15      0.18  \n",
       "2012-01-01 07:00:00      0.18      0.23  \n",
       "2012-01-01 08:00:00      0.23      0.29  \n",
       "2012-01-01 09:00:00      0.29      0.35  "
      ]
     },
     "execution_count": 392,
     "metadata": {},
     "output_type": "execute_result"
    }
   ],
   "source": [
    "for t in range(1, T+1):\n",
    "    train_shifted['load_t-'+str(T-t)] = train_shifted['load'].shift(T-t, freq='H')\n",
    "train_shifted = train_shifted.rename(columns={'load':'load_original'})\n",
    "train_shifted.head(10)"
   ]
  },
  {
   "cell_type": "code",
   "execution_count": 393,
   "metadata": {},
   "outputs": [
    {
     "data": {
      "text/html": [
       "<div>\n",
       "<style scoped>\n",
       "    .dataframe tbody tr th:only-of-type {\n",
       "        vertical-align: middle;\n",
       "    }\n",
       "\n",
       "    .dataframe tbody tr th {\n",
       "        vertical-align: top;\n",
       "    }\n",
       "\n",
       "    .dataframe thead th {\n",
       "        text-align: right;\n",
       "    }\n",
       "</style>\n",
       "<table border=\"1\" class=\"dataframe\">\n",
       "  <thead>\n",
       "    <tr style=\"text-align: right;\">\n",
       "      <th></th>\n",
       "      <th>load_original</th>\n",
       "      <th>y_t+1</th>\n",
       "      <th>load_t-9</th>\n",
       "      <th>load_t-8</th>\n",
       "      <th>load_t-7</th>\n",
       "      <th>load_t-6</th>\n",
       "      <th>load_t-5</th>\n",
       "      <th>load_t-4</th>\n",
       "      <th>load_t-3</th>\n",
       "      <th>load_t-2</th>\n",
       "      <th>load_t-1</th>\n",
       "      <th>load_t-0</th>\n",
       "    </tr>\n",
       "    <tr>\n",
       "      <th>timestamp</th>\n",
       "      <th></th>\n",
       "      <th></th>\n",
       "      <th></th>\n",
       "      <th></th>\n",
       "      <th></th>\n",
       "      <th></th>\n",
       "      <th></th>\n",
       "      <th></th>\n",
       "      <th></th>\n",
       "      <th></th>\n",
       "      <th></th>\n",
       "      <th></th>\n",
       "    </tr>\n",
       "  </thead>\n",
       "  <tbody>\n",
       "    <tr>\n",
       "      <th>2012-01-01 09:00:00</th>\n",
       "      <td>0.35</td>\n",
       "      <td>0.37</td>\n",
       "      <td>0.22</td>\n",
       "      <td>0.18</td>\n",
       "      <td>0.14</td>\n",
       "      <td>0.13</td>\n",
       "      <td>0.13</td>\n",
       "      <td>0.15</td>\n",
       "      <td>0.18</td>\n",
       "      <td>0.23</td>\n",
       "      <td>0.29</td>\n",
       "      <td>0.35</td>\n",
       "    </tr>\n",
       "    <tr>\n",
       "      <th>2012-01-01 10:00:00</th>\n",
       "      <td>0.37</td>\n",
       "      <td>0.37</td>\n",
       "      <td>0.18</td>\n",
       "      <td>0.14</td>\n",
       "      <td>0.13</td>\n",
       "      <td>0.13</td>\n",
       "      <td>0.15</td>\n",
       "      <td>0.18</td>\n",
       "      <td>0.23</td>\n",
       "      <td>0.29</td>\n",
       "      <td>0.35</td>\n",
       "      <td>0.37</td>\n",
       "    </tr>\n",
       "    <tr>\n",
       "      <th>2012-01-01 11:00:00</th>\n",
       "      <td>0.37</td>\n",
       "      <td>0.37</td>\n",
       "      <td>0.14</td>\n",
       "      <td>0.13</td>\n",
       "      <td>0.13</td>\n",
       "      <td>0.15</td>\n",
       "      <td>0.18</td>\n",
       "      <td>0.23</td>\n",
       "      <td>0.29</td>\n",
       "      <td>0.35</td>\n",
       "      <td>0.37</td>\n",
       "      <td>0.37</td>\n",
       "    </tr>\n",
       "    <tr>\n",
       "      <th>2012-01-01 12:00:00</th>\n",
       "      <td>0.37</td>\n",
       "      <td>0.36</td>\n",
       "      <td>0.13</td>\n",
       "      <td>0.13</td>\n",
       "      <td>0.15</td>\n",
       "      <td>0.18</td>\n",
       "      <td>0.23</td>\n",
       "      <td>0.29</td>\n",
       "      <td>0.35</td>\n",
       "      <td>0.37</td>\n",
       "      <td>0.37</td>\n",
       "      <td>0.37</td>\n",
       "    </tr>\n",
       "    <tr>\n",
       "      <th>2012-01-01 13:00:00</th>\n",
       "      <td>0.36</td>\n",
       "      <td>0.35</td>\n",
       "      <td>0.13</td>\n",
       "      <td>0.15</td>\n",
       "      <td>0.18</td>\n",
       "      <td>0.23</td>\n",
       "      <td>0.29</td>\n",
       "      <td>0.35</td>\n",
       "      <td>0.37</td>\n",
       "      <td>0.37</td>\n",
       "      <td>0.37</td>\n",
       "      <td>0.36</td>\n",
       "    </tr>\n",
       "  </tbody>\n",
       "</table>\n",
       "</div>"
      ],
      "text/plain": [
       "                     load_original  y_t+1  load_t-9  load_t-8  load_t-7  \\\n",
       "timestamp                                                                 \n",
       "2012-01-01 09:00:00           0.35   0.37      0.22      0.18      0.14   \n",
       "2012-01-01 10:00:00           0.37   0.37      0.18      0.14      0.13   \n",
       "2012-01-01 11:00:00           0.37   0.37      0.14      0.13      0.13   \n",
       "2012-01-01 12:00:00           0.37   0.36      0.13      0.13      0.15   \n",
       "2012-01-01 13:00:00           0.36   0.35      0.13      0.15      0.18   \n",
       "\n",
       "                     load_t-6  load_t-5  load_t-4  load_t-3  load_t-2  \\\n",
       "timestamp                                                               \n",
       "2012-01-01 09:00:00      0.13      0.13      0.15      0.18      0.23   \n",
       "2012-01-01 10:00:00      0.13      0.15      0.18      0.23      0.29   \n",
       "2012-01-01 11:00:00      0.15      0.18      0.23      0.29      0.35   \n",
       "2012-01-01 12:00:00      0.18      0.23      0.29      0.35      0.37   \n",
       "2012-01-01 13:00:00      0.23      0.29      0.35      0.37      0.37   \n",
       "\n",
       "                     load_t-1  load_t-0  \n",
       "timestamp                                \n",
       "2012-01-01 09:00:00      0.29      0.35  \n",
       "2012-01-01 10:00:00      0.35      0.37  \n",
       "2012-01-01 11:00:00      0.37      0.37  \n",
       "2012-01-01 12:00:00      0.37      0.37  \n",
       "2012-01-01 13:00:00      0.37      0.36  "
      ]
     },
     "execution_count": 393,
     "metadata": {},
     "output_type": "execute_result"
    }
   ],
   "source": [
    "train_shifted = train_shifted.dropna(how='any')\n",
    "train_shifted.head(5)"
   ]
  },
  {
   "cell_type": "code",
   "execution_count": 394,
   "metadata": {},
   "outputs": [],
   "source": [
    "y_train = train_shifted[['y_t+1']].values"
   ]
  },
  {
   "cell_type": "code",
   "execution_count": 395,
   "metadata": {},
   "outputs": [
    {
     "data": {
      "text/plain": [
       "(14606, 1)"
      ]
     },
     "execution_count": 395,
     "metadata": {},
     "output_type": "execute_result"
    }
   ],
   "source": [
    "y_train.shape"
   ]
  },
  {
   "cell_type": "code",
   "execution_count": 396,
   "metadata": {},
   "outputs": [
    {
     "data": {
      "text/plain": [
       "array([[0.37],\n",
       "       [0.37],\n",
       "       [0.37]])"
      ]
     },
     "execution_count": 396,
     "metadata": {},
     "output_type": "execute_result"
    }
   ],
   "source": [
    "y_train[:3]"
   ]
  },
  {
   "cell_type": "code",
   "execution_count": 397,
   "metadata": {},
   "outputs": [],
   "source": [
    "X_train = train_shifted[['load_t-'+str(T-t) for t in range(1, T+1)]].values\n",
    "X_train = X_train[... , np.newaxis]"
   ]
  },
  {
   "cell_type": "code",
   "execution_count": 398,
   "metadata": {},
   "outputs": [
    {
     "data": {
      "text/plain": [
       "(14606, 10, 1)"
      ]
     },
     "execution_count": 398,
     "metadata": {},
     "output_type": "execute_result"
    }
   ],
   "source": [
    "X_train.shape"
   ]
  },
  {
   "cell_type": "code",
   "execution_count": 399,
   "metadata": {},
   "outputs": [
    {
     "data": {
      "text/plain": [
       "array([[[0.22],\n",
       "        [0.18],\n",
       "        [0.14],\n",
       "        [0.13],\n",
       "        [0.13],\n",
       "        [0.15],\n",
       "        [0.18],\n",
       "        [0.23],\n",
       "        [0.29],\n",
       "        [0.35]],\n",
       "\n",
       "       [[0.18],\n",
       "        [0.14],\n",
       "        [0.13],\n",
       "        [0.13],\n",
       "        [0.15],\n",
       "        [0.18],\n",
       "        [0.23],\n",
       "        [0.29],\n",
       "        [0.35],\n",
       "        [0.37]],\n",
       "\n",
       "       [[0.14],\n",
       "        [0.13],\n",
       "        [0.13],\n",
       "        [0.15],\n",
       "        [0.18],\n",
       "        [0.23],\n",
       "        [0.29],\n",
       "        [0.35],\n",
       "        [0.37],\n",
       "        [0.37]]])"
      ]
     },
     "execution_count": 399,
     "metadata": {},
     "output_type": "execute_result"
    }
   ],
   "source": [
    "X_train[:3]"
   ]
  },
  {
   "cell_type": "code",
   "execution_count": 400,
   "metadata": {},
   "outputs": [
    {
     "data": {
      "text/html": [
       "<div>\n",
       "<style scoped>\n",
       "    .dataframe tbody tr th:only-of-type {\n",
       "        vertical-align: middle;\n",
       "    }\n",
       "\n",
       "    .dataframe tbody tr th {\n",
       "        vertical-align: top;\n",
       "    }\n",
       "\n",
       "    .dataframe thead th {\n",
       "        text-align: right;\n",
       "    }\n",
       "</style>\n",
       "<table border=\"1\" class=\"dataframe\">\n",
       "  <thead>\n",
       "    <tr style=\"text-align: right;\">\n",
       "      <th></th>\n",
       "      <th>load_original</th>\n",
       "      <th>y_t+1</th>\n",
       "      <th>load_t-9</th>\n",
       "      <th>load_t-8</th>\n",
       "      <th>load_t-7</th>\n",
       "      <th>load_t-6</th>\n",
       "      <th>load_t-5</th>\n",
       "      <th>load_t-4</th>\n",
       "      <th>load_t-3</th>\n",
       "      <th>load_t-2</th>\n",
       "      <th>load_t-1</th>\n",
       "      <th>load_t-0</th>\n",
       "    </tr>\n",
       "    <tr>\n",
       "      <th>timestamp</th>\n",
       "      <th></th>\n",
       "      <th></th>\n",
       "      <th></th>\n",
       "      <th></th>\n",
       "      <th></th>\n",
       "      <th></th>\n",
       "      <th></th>\n",
       "      <th></th>\n",
       "      <th></th>\n",
       "      <th></th>\n",
       "      <th></th>\n",
       "      <th></th>\n",
       "    </tr>\n",
       "  </thead>\n",
       "  <tbody>\n",
       "    <tr>\n",
       "      <th>2012-01-01 09:00:00</th>\n",
       "      <td>0.35</td>\n",
       "      <td>0.37</td>\n",
       "      <td>0.22</td>\n",
       "      <td>0.18</td>\n",
       "      <td>0.14</td>\n",
       "      <td>0.13</td>\n",
       "      <td>0.13</td>\n",
       "      <td>0.15</td>\n",
       "      <td>0.18</td>\n",
       "      <td>0.23</td>\n",
       "      <td>0.29</td>\n",
       "      <td>0.35</td>\n",
       "    </tr>\n",
       "    <tr>\n",
       "      <th>2012-01-01 10:00:00</th>\n",
       "      <td>0.37</td>\n",
       "      <td>0.37</td>\n",
       "      <td>0.18</td>\n",
       "      <td>0.14</td>\n",
       "      <td>0.13</td>\n",
       "      <td>0.13</td>\n",
       "      <td>0.15</td>\n",
       "      <td>0.18</td>\n",
       "      <td>0.23</td>\n",
       "      <td>0.29</td>\n",
       "      <td>0.35</td>\n",
       "      <td>0.37</td>\n",
       "    </tr>\n",
       "    <tr>\n",
       "      <th>2012-01-01 11:00:00</th>\n",
       "      <td>0.37</td>\n",
       "      <td>0.37</td>\n",
       "      <td>0.14</td>\n",
       "      <td>0.13</td>\n",
       "      <td>0.13</td>\n",
       "      <td>0.15</td>\n",
       "      <td>0.18</td>\n",
       "      <td>0.23</td>\n",
       "      <td>0.29</td>\n",
       "      <td>0.35</td>\n",
       "      <td>0.37</td>\n",
       "      <td>0.37</td>\n",
       "    </tr>\n",
       "  </tbody>\n",
       "</table>\n",
       "</div>"
      ],
      "text/plain": [
       "                     load_original  y_t+1  load_t-9  load_t-8  load_t-7  \\\n",
       "timestamp                                                                 \n",
       "2012-01-01 09:00:00           0.35   0.37      0.22      0.18      0.14   \n",
       "2012-01-01 10:00:00           0.37   0.37      0.18      0.14      0.13   \n",
       "2012-01-01 11:00:00           0.37   0.37      0.14      0.13      0.13   \n",
       "\n",
       "                     load_t-6  load_t-5  load_t-4  load_t-3  load_t-2  \\\n",
       "timestamp                                                               \n",
       "2012-01-01 09:00:00      0.13      0.13      0.15      0.18      0.23   \n",
       "2012-01-01 10:00:00      0.13      0.15      0.18      0.23      0.29   \n",
       "2012-01-01 11:00:00      0.15      0.18      0.23      0.29      0.35   \n",
       "\n",
       "                     load_t-1  load_t-0  \n",
       "timestamp                                \n",
       "2012-01-01 09:00:00      0.29      0.35  \n",
       "2012-01-01 10:00:00      0.35      0.37  \n",
       "2012-01-01 11:00:00      0.37      0.37  "
      ]
     },
     "execution_count": 400,
     "metadata": {},
     "output_type": "execute_result"
    }
   ],
   "source": [
    "train_shifted.head(3)"
   ]
  },
  {
   "cell_type": "code",
   "execution_count": 401,
   "metadata": {},
   "outputs": [
    {
     "data": {
      "text/html": [
       "<div>\n",
       "<style scoped>\n",
       "    .dataframe tbody tr th:only-of-type {\n",
       "        vertical-align: middle;\n",
       "    }\n",
       "\n",
       "    .dataframe tbody tr th {\n",
       "        vertical-align: top;\n",
       "    }\n",
       "\n",
       "    .dataframe thead th {\n",
       "        text-align: right;\n",
       "    }\n",
       "</style>\n",
       "<table border=\"1\" class=\"dataframe\">\n",
       "  <thead>\n",
       "    <tr style=\"text-align: right;\">\n",
       "      <th></th>\n",
       "      <th>load</th>\n",
       "    </tr>\n",
       "    <tr>\n",
       "      <th>timestamp</th>\n",
       "      <th></th>\n",
       "    </tr>\n",
       "  </thead>\n",
       "  <tbody>\n",
       "    <tr>\n",
       "      <th>2013-08-31 15:00:00</th>\n",
       "      <td>3,855.00</td>\n",
       "    </tr>\n",
       "    <tr>\n",
       "      <th>2013-08-31 16:00:00</th>\n",
       "      <td>3,885.00</td>\n",
       "    </tr>\n",
       "    <tr>\n",
       "      <th>2013-08-31 17:00:00</th>\n",
       "      <td>3,928.00</td>\n",
       "    </tr>\n",
       "    <tr>\n",
       "      <th>2013-08-31 18:00:00</th>\n",
       "      <td>3,942.00</td>\n",
       "    </tr>\n",
       "    <tr>\n",
       "      <th>2013-08-31 19:00:00</th>\n",
       "      <td>3,974.00</td>\n",
       "    </tr>\n",
       "  </tbody>\n",
       "</table>\n",
       "</div>"
      ],
      "text/plain": [
       "                        load\n",
       "timestamp                   \n",
       "2013-08-31 15:00:00 3,855.00\n",
       "2013-08-31 16:00:00 3,885.00\n",
       "2013-08-31 17:00:00 3,928.00\n",
       "2013-08-31 18:00:00 3,942.00\n",
       "2013-08-31 19:00:00 3,974.00"
      ]
     },
     "execution_count": 401,
     "metadata": {},
     "output_type": "execute_result"
    }
   ],
   "source": [
    "look_back_dt = dt.datetime.strptime(valid_start_dt, '%Y-%m-%d %H:%M:%S') - dt.timedelta(hours=T-1)\n",
    "valid = energy.copy()[(energy.index >=look_back_dt) & (energy.index < test_start_dt)][['load']]\n",
    "valid.head()"
   ]
  },
  {
   "cell_type": "code",
   "execution_count": 402,
   "metadata": {},
   "outputs": [
    {
     "data": {
      "text/html": [
       "<div>\n",
       "<style scoped>\n",
       "    .dataframe tbody tr th:only-of-type {\n",
       "        vertical-align: middle;\n",
       "    }\n",
       "\n",
       "    .dataframe tbody tr th {\n",
       "        vertical-align: top;\n",
       "    }\n",
       "\n",
       "    .dataframe thead th {\n",
       "        text-align: right;\n",
       "    }\n",
       "</style>\n",
       "<table border=\"1\" class=\"dataframe\">\n",
       "  <thead>\n",
       "    <tr style=\"text-align: right;\">\n",
       "      <th></th>\n",
       "      <th>load</th>\n",
       "    </tr>\n",
       "    <tr>\n",
       "      <th>timestamp</th>\n",
       "      <th></th>\n",
       "    </tr>\n",
       "  </thead>\n",
       "  <tbody>\n",
       "    <tr>\n",
       "      <th>2013-08-31 15:00:00</th>\n",
       "      <td>0.58</td>\n",
       "    </tr>\n",
       "    <tr>\n",
       "      <th>2013-08-31 16:00:00</th>\n",
       "      <td>0.59</td>\n",
       "    </tr>\n",
       "    <tr>\n",
       "      <th>2013-08-31 17:00:00</th>\n",
       "      <td>0.60</td>\n",
       "    </tr>\n",
       "    <tr>\n",
       "      <th>2013-08-31 18:00:00</th>\n",
       "      <td>0.60</td>\n",
       "    </tr>\n",
       "    <tr>\n",
       "      <th>2013-08-31 19:00:00</th>\n",
       "      <td>0.61</td>\n",
       "    </tr>\n",
       "  </tbody>\n",
       "</table>\n",
       "</div>"
      ],
      "text/plain": [
       "                     load\n",
       "timestamp                \n",
       "2013-08-31 15:00:00  0.58\n",
       "2013-08-31 16:00:00  0.59\n",
       "2013-08-31 17:00:00  0.60\n",
       "2013-08-31 18:00:00  0.60\n",
       "2013-08-31 19:00:00  0.61"
      ]
     },
     "execution_count": 402,
     "metadata": {},
     "output_type": "execute_result"
    }
   ],
   "source": [
    "valid['load'] = scaler.transform(valid)\n",
    "valid.head()"
   ]
  },
  {
   "cell_type": "code",
   "execution_count": 403,
   "metadata": {},
   "outputs": [],
   "source": [
    "valid_shifted = valid.copy()\n",
    "valid_shifted['y+1'] = valid_shifted['load'].shift(-1, freq='H')\n",
    "for t in range(1, T+1):\n",
    "    valid_shifted['load_t-'+str(T-t)] = valid_shifted['load'].shift(T-t, freq='H')\n",
    "valid_shifted = valid_shifted.dropna(how='any')\n",
    "y_valid = valid_shifted['y+1'].values\n",
    "X_valid = valid_shifted[['load_t-'+str(T-t) for t in range(1, T+1)]].values\n",
    "X_valid = X_valid[..., np.newaxis]"
   ]
  },
  {
   "cell_type": "code",
   "execution_count": 404,
   "metadata": {},
   "outputs": [
    {
     "data": {
      "text/plain": [
       "(5807,)"
      ]
     },
     "execution_count": 404,
     "metadata": {},
     "output_type": "execute_result"
    }
   ],
   "source": [
    "y_valid.shape"
   ]
  },
  {
   "cell_type": "code",
   "execution_count": 405,
   "metadata": {},
   "outputs": [
    {
     "data": {
      "text/plain": [
       "(5807, 10, 1)"
      ]
     },
     "execution_count": 405,
     "metadata": {},
     "output_type": "execute_result"
    }
   ],
   "source": [
    "X_valid.shape"
   ]
  },
  {
   "cell_type": "code",
   "execution_count": 406,
   "metadata": {},
   "outputs": [
    {
     "data": {
      "image/png": "[encoded data removed]",
      "text/plain": [
       "<IPython.core.display.Image object>"
      ]
     },
     "execution_count": 406,
     "metadata": {},
     "output_type": "execute_result"
    }
   ],
   "source": [
    "Image('./images/cnn_dilated.png')"
   ]
  },
  {
   "cell_type": "code",
   "execution_count": 407,
   "metadata": {},
   "outputs": [],
   "source": [
    "from keras.models import Model, Sequential\n",
    "from keras.layers import Conv1D, Dense, Flatten\n",
    "from keras.callbacks import EarlyStopping, ModelCheckpoint"
   ]
  },
  {
   "cell_type": "code",
   "execution_count": 408,
   "metadata": {},
   "outputs": [],
   "source": [
    "LATENT_DIM = 5\n",
    "KERNEL_SIZE = 2\n",
    "BATCH_SIZE = 32\n",
    "EPOCHS = 10"
   ]
  },
  {
   "cell_type": "code",
   "execution_count": 409,
   "metadata": {},
   "outputs": [],
   "source": [
    "model = Sequential()\n",
    "model.add(Conv1D(LATENT_DIM, kernel_size=KERNEL_SIZE, padding='causal', strides=1, activation='relu', dilation_rate=1, input_shape=(T, 1)))\n",
    "model.add(Conv1D(LATENT_DIM, kernel_size=KERNEL_SIZE, padding='causal', strides=1, activation='relu', dilation_rate=2))\n",
    "model.add(Conv1D(LATENT_DIM, kernel_size=KERNEL_SIZE, padding='causal', strides=1, activation='relu', dilation_rate=4))\n",
    "model.add(Flatten())\n",
    "model.add(Dense(HORIZON, activation='linear'))"
   ]
  },
  {
   "cell_type": "code",
   "execution_count": 410,
   "metadata": {},
   "outputs": [
    {
     "name": "stdout",
     "output_type": "stream",
     "text": [
      "Model: \"sequential_4\"\n",
      "_________________________________________________________________\n",
      "Layer (type)                 Output Shape              Param #   \n",
      "=================================================================\n",
      "conv1d_3 (Conv1D)            (None, 10, 5)             15        \n",
      "_________________________________________________________________\n",
      "conv1d_4 (Conv1D)            (None, 10, 5)             55        \n",
      "_________________________________________________________________\n",
      "conv1d_5 (Conv1D)            (None, 10, 5)             55        \n",
      "_________________________________________________________________\n",
      "flatten_1 (Flatten)          (None, 50)                0         \n",
      "_________________________________________________________________\n",
      "dense_4 (Dense)              (None, 1)                 51        \n",
      "=================================================================\n",
      "Total params: 176\n",
      "Trainable params: 176\n",
      "Non-trainable params: 0\n",
      "_________________________________________________________________\n"
     ]
    }
   ],
   "source": [
    "model.summary()"
   ]
  },
  {
   "cell_type": "code",
   "execution_count": 411,
   "metadata": {},
   "outputs": [],
   "source": [
    "model.compile(optimizer='Adam', loss='mse')"
   ]
  },
  {
   "cell_type": "code",
   "execution_count": 412,
   "metadata": {},
   "outputs": [
    {
     "data": {
      "image/png": "[encoded data removed]",
      "text/plain": [
       "<IPython.core.display.Image object>"
      ]
     },
     "execution_count": 412,
     "metadata": {},
     "output_type": "execute_result"
    }
   ],
   "source": [
    "Image('./images/early_stopping.png')"
   ]
  },
  {
   "cell_type": "code",
   "execution_count": 413,
   "metadata": {},
   "outputs": [],
   "source": [
    "earlystop = EarlyStopping(monitor='val_loss', min_delta=0, patience=5)"
   ]
  },
  {
   "cell_type": "code",
   "execution_count": 414,
   "metadata": {},
   "outputs": [
    {
     "name": "stdout",
     "output_type": "stream",
     "text": [
      "WARNING:tensorflow:`period` argument is deprecated. Please use `save_freq` to specify the frequency in number of batches seen.\n"
     ]
    }
   ],
   "source": [
    "best_val = ModelCheckpoint('model_{epoch:02d}.h5', save_best_only=True, mode='min', period=1)"
   ]
  },
  {
   "cell_type": "code",
   "execution_count": 415,
   "metadata": {},
   "outputs": [
    {
     "name": "stdout",
     "output_type": "stream",
     "text": [
      "Epoch 1/10\n",
      "457/457 [==============================] - 2s 3ms/step - loss: 0.0714 - val_loss: 0.0073\n",
      "Epoch 2/10\n",
      "457/457 [==============================] - 1s 3ms/step - loss: 0.0057 - val_loss: 0.0040\n",
      "Epoch 3/10\n",
      "457/457 [==============================] - 1s 3ms/step - loss: 0.0031 - val_loss: 0.0026\n",
      "Epoch 4/10\n",
      "457/457 [==============================] - 1s 3ms/step - loss: 0.0021 - val_loss: 0.0018\n",
      "Epoch 5/10\n",
      "457/457 [==============================] - 1s 3ms/step - loss: 0.0015 - val_loss: 0.0013\n",
      "Epoch 6/10\n",
      "457/457 [==============================] - 1s 3ms/step - loss: 0.0012 - val_loss: 0.0011\n",
      "Epoch 7/10\n",
      "457/457 [==============================] - 1s 3ms/step - loss: 8.8834e-04 - val_loss: 9.8774e-04\n",
      "Epoch 8/10\n",
      "457/457 [==============================] - 1s 3ms/step - loss: 8.0559e-04 - val_loss: 8.5543e-04\n",
      "Epoch 9/10\n",
      "457/457 [==============================] - 1s 3ms/step - loss: 7.2710e-04 - val_loss: 7.7056e-04\n",
      "Epoch 10/10\n",
      "457/457 [==============================] - 1s 3ms/step - loss: 6.9731e-04 - val_loss: 7.6090e-04\n"
     ]
    }
   ],
   "source": [
    "history = model.fit(X_train,\n",
    "          y_train,\n",
    "          batch_size=BATCH_SIZE,\n",
    "          epochs=EPOCHS,\n",
    "          validation_data=(X_valid, y_valid),\n",
    "          callbacks=[earlystop, best_val],\n",
    "          verbose=1)"
   ]
  },
  {
   "cell_type": "code",
   "execution_count": 416,
   "metadata": {},
   "outputs": [],
   "source": [
    "best_epoch = np.argmin(np.array(history.history['val_loss']))+1\n",
    "model.load_weights(\"model_{:02d}.h5\".format(best_epoch))"
   ]
  },
  {
   "cell_type": "markdown",
   "metadata": {},
   "source": [
    "On trace ici la fonction loss pour les données d'entrainement et de validation"
   ]
  },
  {
   "cell_type": "code",
   "execution_count": 417,
   "metadata": {},
   "outputs": [
    {
     "data": {
      "image/png": "[encoded data removed]",
      "text/plain": [
       "<Figure size 720x720 with 1 Axes>"
      ]
     },
     "metadata": {
      "needs_background": "light"
     },
     "output_type": "display_data"
    }
   ],
   "source": [
    "plot_df = pd.DataFrame.from_dict({'train_loss':history.history['loss'], 'val_loss':history.history['val_loss']})\n",
    "plot_df.plot(logy=True, figsize=(10,10), fontsize=12)\n",
    "plt.xlabel('epoch', fontsize=12)\n",
    "plt.ylabel('loss', fontsize=12)\n",
    "plt.show()"
   ]
  },
  {
   "cell_type": "markdown",
   "metadata": {},
   "source": [
    "### Evaluation du modèle"
   ]
  },
  {
   "cell_type": "code",
   "execution_count": 418,
   "metadata": {},
   "outputs": [
    {
     "data": {
      "text/html": [
       "<div>\n",
       "<style scoped>\n",
       "    .dataframe tbody tr th:only-of-type {\n",
       "        vertical-align: middle;\n",
       "    }\n",
       "\n",
       "    .dataframe tbody tr th {\n",
       "        vertical-align: top;\n",
       "    }\n",
       "\n",
       "    .dataframe thead th {\n",
       "        text-align: right;\n",
       "    }\n",
       "</style>\n",
       "<table border=\"1\" class=\"dataframe\">\n",
       "  <thead>\n",
       "    <tr style=\"text-align: right;\">\n",
       "      <th></th>\n",
       "      <th>load</th>\n",
       "    </tr>\n",
       "    <tr>\n",
       "      <th>timestamp</th>\n",
       "      <th></th>\n",
       "    </tr>\n",
       "  </thead>\n",
       "  <tbody>\n",
       "    <tr>\n",
       "      <th>2014-05-01 00:00:00</th>\n",
       "      <td>2,556.00</td>\n",
       "    </tr>\n",
       "    <tr>\n",
       "      <th>2014-05-01 01:00:00</th>\n",
       "      <td>2,479.00</td>\n",
       "    </tr>\n",
       "    <tr>\n",
       "      <th>2014-05-01 02:00:00</th>\n",
       "      <td>2,447.00</td>\n",
       "    </tr>\n",
       "    <tr>\n",
       "      <th>2014-05-01 03:00:00</th>\n",
       "      <td>2,458.00</td>\n",
       "    </tr>\n",
       "    <tr>\n",
       "      <th>2014-05-01 04:00:00</th>\n",
       "      <td>2,545.00</td>\n",
       "    </tr>\n",
       "  </tbody>\n",
       "</table>\n",
       "</div>"
      ],
      "text/plain": [
       "                        load\n",
       "timestamp                   \n",
       "2014-05-01 00:00:00 2,556.00\n",
       "2014-05-01 01:00:00 2,479.00\n",
       "2014-05-01 02:00:00 2,447.00\n",
       "2014-05-01 03:00:00 2,458.00\n",
       "2014-05-01 04:00:00 2,545.00"
      ]
     },
     "execution_count": 418,
     "metadata": {},
     "output_type": "execute_result"
    }
   ],
   "source": [
    "look_back_dt = dt.datetime.strptime(test_start_dt, '%Y-%m-%d %H:%M:%S') - dt.timedelta(hours=T-1)\n",
    "test = energy.copy()[test_start_dt:][['load']]\n",
    "test.head()\n"
   ]
  },
  {
   "cell_type": "markdown",
   "metadata": {},
   "source": [
    "### Centrer la données test"
   ]
  },
  {
   "cell_type": "code",
   "execution_count": 419,
   "metadata": {},
   "outputs": [
    {
     "data": {
      "text/html": [
       "<div>\n",
       "<style scoped>\n",
       "    .dataframe tbody tr th:only-of-type {\n",
       "        vertical-align: middle;\n",
       "    }\n",
       "\n",
       "    .dataframe tbody tr th {\n",
       "        vertical-align: top;\n",
       "    }\n",
       "\n",
       "    .dataframe thead th {\n",
       "        text-align: right;\n",
       "    }\n",
       "</style>\n",
       "<table border=\"1\" class=\"dataframe\">\n",
       "  <thead>\n",
       "    <tr style=\"text-align: right;\">\n",
       "      <th></th>\n",
       "      <th>load</th>\n",
       "    </tr>\n",
       "    <tr>\n",
       "      <th>timestamp</th>\n",
       "      <th></th>\n",
       "    </tr>\n",
       "  </thead>\n",
       "  <tbody>\n",
       "    <tr>\n",
       "      <th>2014-05-01 00:00:00</th>\n",
       "      <td>0.18</td>\n",
       "    </tr>\n",
       "    <tr>\n",
       "      <th>2014-05-01 01:00:00</th>\n",
       "      <td>0.15</td>\n",
       "    </tr>\n",
       "    <tr>\n",
       "      <th>2014-05-01 02:00:00</th>\n",
       "      <td>0.14</td>\n",
       "    </tr>\n",
       "    <tr>\n",
       "      <th>2014-05-01 03:00:00</th>\n",
       "      <td>0.15</td>\n",
       "    </tr>\n",
       "    <tr>\n",
       "      <th>2014-05-01 04:00:00</th>\n",
       "      <td>0.17</td>\n",
       "    </tr>\n",
       "  </tbody>\n",
       "</table>\n",
       "</div>"
      ],
      "text/plain": [
       "                     load\n",
       "timestamp                \n",
       "2014-05-01 00:00:00  0.18\n",
       "2014-05-01 01:00:00  0.15\n",
       "2014-05-01 02:00:00  0.14\n",
       "2014-05-01 03:00:00  0.15\n",
       "2014-05-01 04:00:00  0.17"
      ]
     },
     "execution_count": 419,
     "metadata": {},
     "output_type": "execute_result"
    }
   ],
   "source": [
    "test['load'] = scaler.transform(test)\n",
    "test.head() "
   ]
  },
  {
   "cell_type": "markdown",
   "metadata": {},
   "source": [
    "### Création des données test"
   ]
  },
  {
   "cell_type": "code",
   "execution_count": 420,
   "metadata": {},
   "outputs": [],
   "source": [
    "test_shifted = test.copy()\n",
    "test_shifted['y_t+1'] = test_shifted['load'].shift(-1, freq='H')\n",
    "for t in range(1, T+1):\n",
    "    test_shifted['load_t-'+str(T-t)] = test_shifted['load'].shift(T-t, freq='H')\n",
    "test_shifted = test_shifted.dropna(how='any')\n",
    "y_test = test_shifted['y_t+1'].values\n",
    "X_test = test_shifted[['load_t-'+str(T-t) for t in range(1, T+1)]].values\n",
    "X_test = X_test[... , np.newaxis]"
   ]
  },
  {
   "cell_type": "markdown",
   "metadata": {},
   "source": [
    "### Prédiction sur le test"
   ]
  },
  {
   "cell_type": "code",
   "execution_count": 421,
   "metadata": {},
   "outputs": [
    {
     "data": {
      "text/plain": [
       "array([[0.5 ],\n",
       "       [0.49],\n",
       "       [0.48],\n",
       "       ...,\n",
       "       [0.52],\n",
       "       [0.46],\n",
       "       [0.44]], dtype=float32)"
      ]
     },
     "execution_count": 421,
     "metadata": {},
     "output_type": "execute_result"
    }
   ],
   "source": [
    "predictions = model.predict(X_test)\n",
    "predictions"
   ]
  },
  {
   "cell_type": "markdown",
   "metadata": {},
   "source": [
    "### Comparaison de la prédiction et des données actuelles de 'load'"
   ]
  },
  {
   "cell_type": "code",
   "execution_count": 422,
   "metadata": {},
   "outputs": [
    {
     "data": {
      "text/html": [
       "<div>\n",
       "<style scoped>\n",
       "    .dataframe tbody tr th:only-of-type {\n",
       "        vertical-align: middle;\n",
       "    }\n",
       "\n",
       "    .dataframe tbody tr th {\n",
       "        vertical-align: top;\n",
       "    }\n",
       "\n",
       "    .dataframe thead th {\n",
       "        text-align: right;\n",
       "    }\n",
       "</style>\n",
       "<table border=\"1\" class=\"dataframe\">\n",
       "  <thead>\n",
       "    <tr style=\"text-align: right;\">\n",
       "      <th></th>\n",
       "      <th>timestamp</th>\n",
       "      <th>h</th>\n",
       "      <th>prediction</th>\n",
       "      <th>actual</th>\n",
       "    </tr>\n",
       "  </thead>\n",
       "  <tbody>\n",
       "    <tr>\n",
       "      <th>0</th>\n",
       "      <td>2014-05-01 09:00:00</td>\n",
       "      <td>t+1</td>\n",
       "      <td>3,592.95</td>\n",
       "      <td>3,548.00</td>\n",
       "    </tr>\n",
       "    <tr>\n",
       "      <th>1</th>\n",
       "      <td>2014-05-01 10:00:00</td>\n",
       "      <td>t+1</td>\n",
       "      <td>3,576.34</td>\n",
       "      <td>3,534.00</td>\n",
       "    </tr>\n",
       "    <tr>\n",
       "      <th>2</th>\n",
       "      <td>2014-05-01 11:00:00</td>\n",
       "      <td>t+1</td>\n",
       "      <td>3,526.84</td>\n",
       "      <td>3,479.00</td>\n",
       "    </tr>\n",
       "    <tr>\n",
       "      <th>3</th>\n",
       "      <td>2014-05-01 12:00:00</td>\n",
       "      <td>t+1</td>\n",
       "      <td>3,466.46</td>\n",
       "      <td>3,447.00</td>\n",
       "    </tr>\n",
       "    <tr>\n",
       "      <th>4</th>\n",
       "      <td>2014-05-01 13:00:00</td>\n",
       "      <td>t+1</td>\n",
       "      <td>3,461.47</td>\n",
       "      <td>3,374.00</td>\n",
       "    </tr>\n",
       "  </tbody>\n",
       "</table>\n",
       "</div>"
      ],
      "text/plain": [
       "            timestamp    h  prediction   actual\n",
       "0 2014-05-01 09:00:00  t+1    3,592.95 3,548.00\n",
       "1 2014-05-01 10:00:00  t+1    3,576.34 3,534.00\n",
       "2 2014-05-01 11:00:00  t+1    3,526.84 3,479.00\n",
       "3 2014-05-01 12:00:00  t+1    3,466.46 3,447.00\n",
       "4 2014-05-01 13:00:00  t+1    3,461.47 3,374.00"
      ]
     },
     "execution_count": 422,
     "metadata": {},
     "output_type": "execute_result"
    }
   ],
   "source": [
    "eval_df = pd.DataFrame(predictions, columns=['t+'+str(t) for t in range(1, HORIZON+1)])\n",
    "eval_df['timestamp'] = test_shifted.index\n",
    "eval_df = pd.melt(eval_df, id_vars='timestamp', value_name='prediction', var_name='h')\n",
    "eval_df['actual'] = np.transpose(y_test).ravel()\n",
    "eval_df[['prediction', 'actual']] = scaler.inverse_transform(eval_df[['prediction', 'actual']])\n",
    "eval_df.head()"
   ]
  },
  {
   "cell_type": "markdown",
   "metadata": {},
   "source": [
    "### Calcul de l'erreur"
   ]
  },
  {
   "cell_type": "code",
   "execution_count": 318,
   "metadata": {},
   "outputs": [
    {
     "data": {
      "text/plain": [
       "0.014411010569388235"
      ]
     },
     "execution_count": 318,
     "metadata": {},
     "output_type": "execute_result"
    }
   ],
   "source": [
    "mape(eval_df['prediction'], eval_df['actual'])"
   ]
  },
  {
   "cell_type": "markdown",
   "metadata": {},
   "source": [
    "### Plot  de la prédiction vs les données réelles sur une période d'une semaine"
   ]
  },
  {
   "cell_type": "code",
   "execution_count": 425,
   "metadata": {},
   "outputs": [
    {
     "data": {
      "image/png": "[encoded data removed]",
      "text/plain": [
       "<Figure size 1080x576 with 1 Axes>"
      ]
     },
     "metadata": {
      "needs_background": "light"
     },
     "output_type": "display_data"
    }
   ],
   "source": [
    "eval_df[eval_df.timestamp<'2014-05-08'].plot(x='timestamp', y=['prediction', 'actual'], style=['r', 'b'], figsize=(15, 8))\n",
    "plt.xlabel('timestamp', fontsize=12)\n",
    "plt.ylabel('load', fontsize=12)\n",
    "plt.show()"
   ]
  },
  {
   "cell_type": "markdown",
   "metadata": {},
   "source": [
    "### Conclusion"
   ]
  },
  {
   "cell_type": "markdown",
   "metadata": {},
   "source": [
    "Dans ce notebook on a utilisé deux méthodes pour la prédiction de la données \"energy.csv\". Après avoir transformer la donnée en série temporelle on a utiliser deux modèles de prédiction: le modèle RNN forecasting, le modèle CNN. Pour évaluer nos modèles nous utilisons l'erreur moyenne en pourcentage (MAPE). Il revient que pour les deux modèles nous avons une erreur minimale de 0.01. La prédiction avec les deux modèles est plus ou moins bonne."
   ]
  }
 ],
 "metadata": {
  "kernelspec": {
   "display_name": "Python 3",
   "language": "python",
   "name": "python3"
  },
  "language_info": {
   "codemirror_mode": {
    "name": "ipython",
    "version": 3
   },
   "file_extension": ".py",
   "mimetype": "text/x-python",
   "name": "python",
   "nbconvert_exporter": "python",
   "pygments_lexer": "ipython3",
   "version": "3.8.5"
  }
 },
 "nbformat": 4,
 "nbformat_minor": 4
}
